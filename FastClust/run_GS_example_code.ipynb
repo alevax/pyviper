{
 "cells": [
  {
   "cell_type": "code",
   "execution_count": 1,
   "id": "8a890af5",
   "metadata": {
    "scrolled": true
   },
   "outputs": [],
   "source": [
    "from GS import *"
   ]
  },
  {
   "cell_type": "code",
   "execution_count": 2,
   "id": "2b4acade",
   "metadata": {},
   "outputs": [
    {
     "name": "stderr",
     "output_type": "stream",
     "text": [
      "/Users/AlexanderWang/opt/miniconda3/lib/python3.8/site-packages/scanpy/preprocessing/_utils.py:11: RuntimeWarning: overflow encountered in multiply\n",
      "  mean_sq = np.multiply(X, X).mean(axis=axis, dtype=np.float64)\n"
     ]
    }
   ],
   "source": [
    "# Load and process adata\n",
    "adata = sc.read(\"/Users/AlexanderWang/Desktop/Califano_Lab_Fall_2021/LNCaPF21_project/data/LNCaPWT_R6/gExpr/LNCaPWT_STEP06_gExpr_ANNDATA_convert_mat_to_AnnData/LNCaPWT_SCE_anndata_gExpr_filt_geneNames.h5ad\")\n",
    "sc.pp.normalize_total(adata, inplace=True,target_sum=1e4)\n",
    "sc.pp.log1p(adata)\n",
    "sc.pp.scale(adata)\n",
    "sc.tl.pca(adata, svd_solver='arpack', random_state=0)\n",
    "sc.pp.highly_variable_genes(adata, flavor=\"seurat\", n_top_genes=2000, inplace=True)"
   ]
  },
  {
   "cell_type": "code",
   "execution_count": 3,
   "id": "8a9bc476",
   "metadata": {},
   "outputs": [
    {
     "name": "stdout",
     "output_type": "stream",
     "text": [
      "Computing distance object...\n",
      "Beginning GridSearch clustering...\n"
     ]
    },
    {
     "name": "stderr",
     "output_type": "stream",
     "text": [
      "GridSearch:   0%|                                        | 0/90 [00:00<?, ?it/s]OMP: Info #271: omp_set_nested routine deprecated, please use omp_set_max_active_levels instead.\n",
      "GridSearch: 100%|███████████████████████████████| 90/90 [00:56<00:00,  1.60it/s]\n"
     ]
    }
   ],
   "source": [
    "# Run GS clustering\n",
    "adata = run_fastclust_GS_clustering(adata, res_vector = np.arange(0.1, 2, 0.2), NN_vector = np.arange(11, 101, 10))"
   ]
  },
  {
   "cell_type": "code",
   "execution_count": 4,
   "id": "421a850c",
   "metadata": {},
   "outputs": [
    {
     "data": {
      "text/plain": [
       "AAACCTGCATCCGCGA.1    0\n",
       "AAACCTGTCCGAATGT.1    0\n",
       "AAACCTGTCCGCTGTT.1    0\n",
       "AAACCTGTCTAACCGA.1    0\n",
       "AAACGGGAGACTAGAT.1    0\n",
       "                     ..\n",
       "TTTGTCAGTTGGTTTG.1    0\n",
       "TTTGTCATCAAGGTAA.1    1\n",
       "TTTGTCATCACCCGAG.1    0\n",
       "TTTGTCATCGAATCCA.1    1\n",
       "TTTGTCATCTTGAGAC.1    0\n",
       "Name: GS_clusters, Length: 2450, dtype: category\n",
       "Categories (2, object): ['0', '1']"
      ]
     },
     "execution_count": 4,
     "metadata": {},
     "output_type": "execute_result"
    }
   ],
   "source": [
    "# Optimal clusters\n",
    "adata.obs[\"GS_clusters\"]"
   ]
  },
  {
   "cell_type": "code",
   "execution_count": 5,
   "id": "292bd3be",
   "metadata": {
    "scrolled": true
   },
   "outputs": [
    {
     "name": "stdout",
     "output_type": "stream",
     "text": [
      "   iter n_pcs  resolution knn n_clust subsamp_iter   sil_avg seed\n",
      "0     0    50         0.1  11       3            1  0.341615    1\n",
      "1     1    50         0.3  11       7            1  0.245206    1\n",
      "2     2    50         0.5  11      10            1  0.151299    1\n",
      "3     3    50         0.7  11      13            1  0.150169    1\n",
      "4     4    50         0.9  11      17            1  0.117836    1\n",
      "..  ...   ...         ...  ..     ...          ...       ...  ...\n",
      "85   85    50         1.1  91       9            1  0.179291    1\n",
      "86   86    50         1.3  91      12            1  0.167786    1\n",
      "87   87    50         1.5  91      12            1  0.172865    1\n",
      "88   88    50         1.7  91      14            1  0.171391    1\n",
      "89   89    50         1.9  91      15            1  0.164414    1\n",
      "\n",
      "[90 rows x 8 columns]\n"
     ]
    }
   ],
   "source": [
    "# Information on the run\n",
    "print(adata.GS_results_dict[\"search_df\"])"
   ]
  },
  {
   "cell_type": "code",
   "execution_count": 6,
   "id": "60ce956f",
   "metadata": {},
   "outputs": [
    {
     "name": "stdout",
     "output_type": "stream",
     "text": [
      "[0.1, 21]\n"
     ]
    }
   ],
   "source": [
    "print(adata.GS_results_dict[\"opt_result\"])"
   ]
  },
  {
   "cell_type": "code",
   "execution_count": 7,
   "id": "a4e787ac",
   "metadata": {},
   "outputs": [
    {
     "name": "stdout",
     "output_type": "stream",
     "text": [
      "{'res_vector': array([0.1, 0.3, 0.5, 0.7, 0.9, 1.1, 1.3, 1.5, 1.7, 1.9]), 'NN_vector': array([11, 21, 31, 41, 51, 61, 71, 81, 91]), 'use_reduction': True, 'reduction_slot': 'X_pca', 'SS_weights': 'unitary', 'SS_exp_base': 2.718282, 'clust_alg': 'Leiden', 'n_subsamples': 1, 'subsamples_pct_cells': 100}\n"
     ]
    }
   ],
   "source": [
    "print(adata.GS_results_dict[\"run_params\"])"
   ]
  },
  {
   "cell_type": "code",
   "execution_count": 8,
   "id": "0f49360b",
   "metadata": {},
   "outputs": [],
   "source": [
    "# Information on the run search plots\n",
    "search_plt_sil_avg = get_GS_search_plot(adata, \"sil_avg\")\n",
    "search_plt_iter = get_GS_search_plot(adata, \"iter\")\n",
    "search_plt_n_clust = get_GS_search_plot(adata, \"n_clust\")"
   ]
  },
  {
   "cell_type": "code",
   "execution_count": 9,
   "id": "1677b44b",
   "metadata": {},
   "outputs": [
    {
     "data": {
      "image/png": "[encoded data removed]",
      "text/plain": [
       "<Figure size 432x288 with 2 Axes>"
      ]
     },
     "execution_count": 9,
     "metadata": {},
     "output_type": "execute_result"
    }
   ],
   "source": [
    "search_plt_sil_avg"
   ]
  },
  {
   "cell_type": "code",
   "execution_count": 10,
   "id": "33e78591",
   "metadata": {},
   "outputs": [
    {
     "data": {
      "image/png": "[encoded data removed]",
      "text/plain": [
       "<Figure size 432x288 with 2 Axes>"
      ]
     },
     "execution_count": 10,
     "metadata": {},
     "output_type": "execute_result"
    }
   ],
   "source": [
    "search_plt_iter"
   ]
  },
  {
   "cell_type": "code",
   "execution_count": 11,
   "id": "a0146c65",
   "metadata": {},
   "outputs": [
    {
     "data": {
      "image/png": "[encoded data removed]",
      "text/plain": [
       "<Figure size 432x288 with 2 Axes>"
      ]
     },
     "execution_count": 11,
     "metadata": {},
     "output_type": "execute_result"
    }
   ],
   "source": [
    "search_plt_n_clust"
   ]
  }
 ],
 "metadata": {
  "kernelspec": {
   "display_name": "Python 3 (ipykernel)",
   "language": "python",
   "name": "python3"
  },
  "language_info": {
   "codemirror_mode": {
    "name": "ipython",
    "version": 3
   },
   "file_extension": ".py",
   "mimetype": "text/x-python",
   "name": "python",
   "nbconvert_exporter": "python",
   "pygments_lexer": "ipython3",
   "version": "3.8.2"
  }
 },
 "nbformat": 4,
 "nbformat_minor": 5
}
