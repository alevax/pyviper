{
 "cells": [
  {
   "cell_type": "code",
   "execution_count": 1,
   "metadata": {},
   "outputs": [
    {
     "name": "stderr",
     "output_type": "stream",
     "text": [
      "d:\\anaconda\\envs\\califano\\lib\\site-packages\\tqdm\\auto.py:21: TqdmWarning: IProgress not found. Please update jupyter and ipywidgets. See https://ipywidgets.readthedocs.io/en/stable/user_install.html\n",
      "  from .autonotebook import tqdm as notebook_tqdm\n"
     ]
    }
   ],
   "source": [
    "import pandas as pd\n",
    "import anndata\n",
    "import pyviper"
   ]
  },
  {
   "cell_type": "code",
   "execution_count": 2,
   "metadata": {},
   "outputs": [],
   "source": [
    "ges = anndata.read_csv(\"E:/lab/pyther/test/Jessica_tests/test_sets/Peng_Ducal_2/Ductal_2_1000.csv\").T\n",
    "network2 = pd.read_table(\"E:/lab/pyther/test/Jessica_tests/test_sets/Peng_Ducal_2/pruned_Ductal_2.tsv\")\n",
    "network1 = pd.read_table(\"E:/lab/pyther/test/Jessica_tests/test_sets/Peng_Ducal_1/pruned_Ductal_1.tsv\")"
   ]
  },
  {
   "cell_type": "code",
   "execution_count": 3,
   "metadata": {},
   "outputs": [
    {
     "name": "stdout",
     "output_type": "stream",
     "text": [
      "Removed 2719674 targets.\n",
      "Removed 2739846 targets.\n"
     ]
    }
   ],
   "source": [
    "ductal_2_net = pyviper.Interactome('net2', network2)\n",
    "ductal_1_net = pyviper.Interactome('net1', network1)\n",
    "ductal_2_net.filter_targets(ges.var_names)\n",
    "ductal_1_net.filter_targets(ges.var_names)"
   ]
  },
  {
   "cell_type": "code",
   "execution_count": 4,
   "metadata": {},
   "outputs": [
    {
     "name": "stdout",
     "output_type": "stream",
     "text": [
      "Preparing the association scores\n",
      "Computing regulons enrichment with NaRnEa\n",
      "0/2 networks complete.\n",
      "reordering genes\n",
      "Calculating DES...\n",
      "Calculating UES...\n",
      "Calculating NES...\n",
      "Calculating PES...\n",
      "1/2 networks complete.\n",
      "reordering genes\n",
      "Calculating DES...\n",
      "Calculating UES...\n",
      "Calculating NES...\n",
      "Calculating PES...\n",
      "2/2 networks complete.\n",
      "Integrating results\n"
     ]
    }
   ],
   "source": [
    "adata_narnea = pyviper.viper(gex_data=ges, # gene expression signature\n",
    "                            interactome=[ductal_1_net,ductal_2_net], # list of interactomes\n",
    "                            eset_filter=False,\n",
    "                            enrichment = \"narnea\",\n",
    "                            njobs=1, # 3 cores\n",
    "                            verbose=True)"
   ]
  },
  {
   "cell_type": "code",
   "execution_count": 6,
   "metadata": {},
   "outputs": [
    {
     "name": "stdout",
     "output_type": "stream",
     "text": [
      "Preparing the association scores\n",
      "Computing regulons enrichment with aREA\n",
      "0/2 networks complete.\n",
      "Rank transforming the data\n",
      "Computing the likelihood matrix\n",
      "Computing the modes matrix\n",
      "Preparing the 1-tailed / 2-tailed matrices\n",
      "Computing enrichment\n",
      "Integrating enrichment\n",
      "1/2 networks complete.\n",
      "Rank transforming the data\n",
      "Computing the likelihood matrix\n",
      "Computing the modes matrix\n",
      "Preparing the 1-tailed / 2-tailed matrices\n",
      "Computing enrichment\n",
      "Integrating enrichment\n",
      "2/2 networks complete.\n",
      "Integrating NES matrices together with mvws=1...\n"
     ]
    }
   ],
   "source": [
    "adata_area = pyviper.viper(gex_data=ges, # gene expression signature\n",
    "                            interactome= [ductal_1_net,ductal_2_net], # list of interactomes\n",
    "                            enrichment = \"area\",\n",
    "                            njobs=1, # 3 cores\n",
    "                            verbose=True)"
   ]
  },
  {
   "cell_type": "code",
   "execution_count": 8,
   "metadata": {},
   "outputs": [],
   "source": [
    "adata_narnea.to_df().to_csv('pyviper_narnea_nes.csv')"
   ]
  },
  {
   "cell_type": "code",
   "execution_count": 9,
   "metadata": {},
   "outputs": [],
   "source": [
    "adata_area.to_df().to_csv('pyviper_area_nes.csv')"
   ]
  }
 ],
 "metadata": {
  "kernelspec": {
   "display_name": "califano",
   "language": "python",
   "name": "python3"
  },
  "language_info": {
   "codemirror_mode": {
    "name": "ipython",
    "version": 3
   },
   "file_extension": ".py",
   "mimetype": "text/x-python",
   "name": "python",
   "nbconvert_exporter": "python",
   "pygments_lexer": "ipython3",
   "version": "3.8.16"
  }
 },
 "nbformat": 4,
 "nbformat_minor": 2
}
