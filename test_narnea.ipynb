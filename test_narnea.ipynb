{
 "cells": [
  {
   "cell_type": "code",
   "execution_count": null,
   "metadata": {},
   "outputs": [],
   "source": [
    "import sys\n",
    "sys.path.insert(0, 'E:\\lab\\pyther\\libs')\n",
    "from pyther_class import *\n",
    "from pyther_narnea import *"
   ]
  },
  {
   "cell_type": "markdown",
   "metadata": {},
   "source": [
    "Import Data"
   ]
  },
  {
   "cell_type": "code",
   "execution_count": null,
   "metadata": {},
   "outputs": [],
   "source": [
    "path = 'E:/lab/code_experiment/viper_py/'\n",
    "testset = anndata.read_csv(path + 'Chan_HMP_subset_1000.csv').T\n",
    "\n",
    "int_table = pd.read_csv(path +'testaracne3.tsv',delimiter = '\\t')"
   ]
  },
  {
   "cell_type": "code",
   "execution_count": null,
   "metadata": {},
   "outputs": [],
   "source": [
    "test_narnea = matrix_narnea(testset, int_table)"
   ]
  },
  {
   "cell_type": "code",
   "execution_count": null,
   "metadata": {},
   "outputs": [],
   "source": [
    "print('NES')\n",
    "print(test_narnea[0])\n",
    "\n",
    "print('PES')\n",
    "print(test_narnea[1])"
   ]
  }
 ],
 "metadata": {
  "language_info": {
   "name": "python"
  },
  "orig_nbformat": 4
 },
 "nbformat": 4,
 "nbformat_minor": 2
}
