{
 "cells": [
  {
   "cell_type": "markdown",
   "id": "4a3d0b1b",
   "metadata": {},
   "source": [
    "# Tutorial 3 - Generating metacells for reverse-engineering of ARACNe gene regulatory networks \n",
    "\n",
    "This tutorial explores different approaches to generate metacells from scRNA-seq data. Metacells are used as a means to counteract sparsity in single-cell transcriptomics and improve gene regulatory network (GRN) inference, for instance using the [ARACNe3](https://www.mdpi.com/1099-4300/25/3/542) and [ARACNe-AP](https://pubmed.ncbi.nlm.nih.gov/27153652/) algorithms for GRN reconstruction by mutual information estimation. After a brief description of the pyVIPER installation procedure and the modules needed, this notebook is organized in the following sections.\n",
    "\n",
    "**Table of Contents**\n",
    "\n",
    "[Step 1. Load a gene expression matrix and associated metadata](#1)\\\n",
    "[Step 2. Perform basic preprocessing and clustering](#2)\\\n",
    "[Step 3. Generate metacells](#3)\\\n",
    "[Key Takeaways](#4) "
   ]
  },
  {
   "cell_type": "markdown",
   "id": "03b2b639",
   "metadata": {},
   "source": [
    "### Install Pyviper\n",
    "Install `pyviper` from PyPI using pip. Alternatively, refer to the README in the current GitHub to install from the local directory."
   ]
  },
  {
   "cell_type": "code",
   "execution_count": 1,
   "id": "309d7375",
   "metadata": {
    "execution": {
     "iopub.execute_input": "2023-12-14T20:41:44.571678Z",
     "iopub.status.busy": "2023-12-14T20:41:44.571435Z",
     "iopub.status.idle": "2023-12-14T20:41:44.574614Z",
     "shell.execute_reply": "2023-12-14T20:41:44.573845Z",
     "shell.execute_reply.started": "2023-12-14T20:41:44.571626Z"
    }
   },
   "outputs": [],
   "source": [
    "#!pip install viper-in-python"
   ]
  },
  {
   "cell_type": "markdown",
   "id": "e2590a58",
   "metadata": {},
   "source": [
    "### Import modules\n",
    "Load `pyviper` and additional modules required used in this tutorial."
   ]
  },
  {
   "cell_type": "code",
   "execution_count": 2,
   "id": "41321fbe",
   "metadata": {
    "execution": {
     "iopub.execute_input": "2023-12-14T20:41:44.576278Z",
     "iopub.status.busy": "2023-12-14T20:41:44.576122Z",
     "iopub.status.idle": "2023-12-14T20:41:46.767184Z",
     "shell.execute_reply": "2023-12-14T20:41:46.766449Z",
     "shell.execute_reply.started": "2023-12-14T20:41:44.576262Z"
    }
   },
   "outputs": [],
   "source": [
    "import pyviper\n",
    "import scanpy as sc\n",
    "import anndata \n",
    "import pandas as pd\n",
    "import numpy as np\n",
    "import matplotlib.pyplot as plt\n",
    "from matplotlib import rc_context\n",
    "from sklearn.metrics import silhouette_samples\n",
    "\n",
    "import warnings\n",
    "warnings.filterwarnings(\"ignore\", message=\".*The 'nopython' keyword.*\") # for jit decorator issue with sc.pp.neighbors (09/30/2023)"
   ]
  },
  {
   "cell_type": "markdown",
   "id": "d428eb41",
   "metadata": {},
   "source": [
    "### Step 1. Load a gene expression matrix and associated metadata\n",
    "<a id='1'></a>\n",
    "Load the same gene expression matrix (UMIs) used in Tutorial 2 and store it into an [AnnData](https://anndata.readthedocs.io/en/latest/) object to enable interoperability with [scanpy](https://scanpy-tutorials.readthedocs.io/en/latest/#). Cells used in this tutorial were sampled from scRNA-seq data published in [Peng et al., 2019](https://www.nature.com/articles/s41422-019-0195-y).  \n",
    "\n",
    "Display matrix dimensions (cells x genes)"
   ]
  },
  {
   "cell_type": "code",
   "execution_count": 3,
   "id": "03cb7f44",
   "metadata": {
    "execution": {
     "iopub.execute_input": "2023-12-14T20:41:46.768058Z",
     "iopub.status.busy": "2023-12-14T20:41:46.767849Z",
     "iopub.status.idle": "2023-12-14T20:42:22.396907Z",
     "shell.execute_reply": "2023-12-14T20:42:22.396498Z",
     "shell.execute_reply.started": "2023-12-14T20:41:46.768042Z"
    }
   },
   "outputs": [
    {
     "data": {
      "text/plain": [
       "AnnData object with n_obs × n_vars = 4632 × 24005"
      ]
     },
     "execution_count": 3,
     "metadata": {},
     "output_type": "execute_result"
    }
   ],
   "source": [
    "gExpr_url = \"https://zenodo.org/records/10059791/files/Tutorial_2_counts_mixed_4632.tsv.gz\" # path to gene expression matrix (UMI counts)\n",
    "adata_gExpr = pd.read_csv(gExpr_url, sep=\"\\t\") # read from remote \n",
    "adata_gExpr = sc.AnnData(adata_gExpr) # convert to AnnData object\n",
    "\n",
    "adata_gExpr"
   ]
  },
  {
   "cell_type": "markdown",
   "id": "717ba697",
   "metadata": {},
   "source": [
    "Load cell-associated metadata."
   ]
  },
  {
   "cell_type": "code",
   "execution_count": 4,
   "id": "d694957f",
   "metadata": {
    "execution": {
     "iopub.execute_input": "2023-12-14T20:42:22.397916Z",
     "iopub.status.busy": "2023-12-14T20:42:22.397751Z",
     "iopub.status.idle": "2023-12-14T20:42:23.009847Z",
     "shell.execute_reply": "2023-12-14T20:42:23.009221Z",
     "shell.execute_reply.started": "2023-12-14T20:42:22.397901Z"
    }
   },
   "outputs": [],
   "source": [
    "metadata_url = \"https://zenodo.org/records/10059791/files/Tutorial_2_metadata_mixed_4632.tsv.gz\" # path to cells metadata\n",
    "cells_metadata = pd.read_csv(metadata_url, sep=\"\\t\")  # load it"
   ]
  },
  {
   "cell_type": "markdown",
   "id": "149296dd",
   "metadata": {},
   "source": [
    "Store the metadata in the `adata_gExpr` object and display the observation annotation."
   ]
  },
  {
   "cell_type": "code",
   "execution_count": 5,
   "id": "8b87dd88",
   "metadata": {
    "execution": {
     "iopub.execute_input": "2023-12-14T20:42:23.012504Z",
     "iopub.status.busy": "2023-12-14T20:42:23.012163Z",
     "iopub.status.idle": "2023-12-14T20:42:23.021637Z",
     "shell.execute_reply": "2023-12-14T20:42:23.020985Z",
     "shell.execute_reply.started": "2023-12-14T20:42:23.012468Z"
    }
   },
   "outputs": [
    {
     "data": {
      "text/html": [
       "<div>\n",
       "<style scoped>\n",
       "    .dataframe tbody tr th:only-of-type {\n",
       "        vertical-align: middle;\n",
       "    }\n",
       "\n",
       "    .dataframe tbody tr th {\n",
       "        vertical-align: top;\n",
       "    }\n",
       "\n",
       "    .dataframe thead th {\n",
       "        text-align: right;\n",
       "    }\n",
       "</style>\n",
       "<table border=\"1\" class=\"dataframe\">\n",
       "  <thead>\n",
       "    <tr style=\"text-align: right;\">\n",
       "      <th></th>\n",
       "      <th>Cell_Type</th>\n",
       "    </tr>\n",
       "  </thead>\n",
       "  <tbody>\n",
       "    <tr>\n",
       "      <th>T1_AACCATGCACAACTGT</th>\n",
       "      <td>Ductal cell type 2</td>\n",
       "    </tr>\n",
       "    <tr>\n",
       "      <th>T1_AAGACCTAGTCATGCT</th>\n",
       "      <td>Ductal cell type 2</td>\n",
       "    </tr>\n",
       "    <tr>\n",
       "      <th>T1_ACATACGAGACTCGGA</th>\n",
       "      <td>Ductal cell type 2</td>\n",
       "    </tr>\n",
       "    <tr>\n",
       "      <th>T1_ACCAGTATCTTGCAAG</th>\n",
       "      <td>Ductal cell type 2</td>\n",
       "    </tr>\n",
       "    <tr>\n",
       "      <th>T1_ACGATGTTCACGAAGG</th>\n",
       "      <td>Ductal cell type 2</td>\n",
       "    </tr>\n",
       "  </tbody>\n",
       "</table>\n",
       "</div>"
      ],
      "text/plain": [
       "                              Cell_Type\n",
       "T1_AACCATGCACAACTGT  Ductal cell type 2\n",
       "T1_AAGACCTAGTCATGCT  Ductal cell type 2\n",
       "T1_ACATACGAGACTCGGA  Ductal cell type 2\n",
       "T1_ACCAGTATCTTGCAAG  Ductal cell type 2\n",
       "T1_ACGATGTTCACGAAGG  Ductal cell type 2"
      ]
     },
     "execution_count": 5,
     "metadata": {},
     "output_type": "execute_result"
    }
   ],
   "source": [
    "adata_gExpr.obs = pd.merge(adata_gExpr.obs, cells_metadata, how=\"left\",left_index=True, right_index=True) # store cell-specific metadata as annotation observation\n",
    "adata_gExpr.obs.head()"
   ]
  },
  {
   "cell_type": "markdown",
   "id": "15319a83",
   "metadata": {},
   "source": [
    "The observation annotations include the patient from which each cell was sequenced and the annotated cell type. List the number of cells for each cell types."
   ]
  },
  {
   "cell_type": "code",
   "execution_count": 6,
   "id": "87a47a53",
   "metadata": {
    "execution": {
     "iopub.execute_input": "2023-12-14T20:42:23.033921Z",
     "iopub.status.busy": "2023-12-14T20:42:23.033592Z",
     "iopub.status.idle": "2023-12-14T20:42:23.043857Z",
     "shell.execute_reply": "2023-12-14T20:42:23.043397Z",
     "shell.execute_reply.started": "2023-12-14T20:42:23.033899Z"
    }
   },
   "outputs": [
    {
     "data": {
      "text/html": [
       "<div>\n",
       "<style scoped>\n",
       "    .dataframe tbody tr th:only-of-type {\n",
       "        vertical-align: middle;\n",
       "    }\n",
       "\n",
       "    .dataframe tbody tr th {\n",
       "        vertical-align: top;\n",
       "    }\n",
       "\n",
       "    .dataframe thead th {\n",
       "        text-align: right;\n",
       "    }\n",
       "</style>\n",
       "<table border=\"1\" class=\"dataframe\">\n",
       "  <thead>\n",
       "    <tr style=\"text-align: right;\">\n",
       "      <th></th>\n",
       "      <th>Cell_Type</th>\n",
       "      <th>n</th>\n",
       "    </tr>\n",
       "  </thead>\n",
       "  <tbody>\n",
       "    <tr>\n",
       "      <th>0</th>\n",
       "      <td>B cell</td>\n",
       "      <td>1000</td>\n",
       "    </tr>\n",
       "    <tr>\n",
       "      <th>1</th>\n",
       "      <td>Ductal cell type 2</td>\n",
       "      <td>1455</td>\n",
       "    </tr>\n",
       "    <tr>\n",
       "      <th>2</th>\n",
       "      <td>Fibroblast cell</td>\n",
       "      <td>1277</td>\n",
       "    </tr>\n",
       "    <tr>\n",
       "      <th>3</th>\n",
       "      <td>Stellate cell</td>\n",
       "      <td>900</td>\n",
       "    </tr>\n",
       "  </tbody>\n",
       "</table>\n",
       "</div>"
      ],
      "text/plain": [
       "            Cell_Type     n\n",
       "0              B cell  1000\n",
       "1  Ductal cell type 2  1455\n",
       "2     Fibroblast cell  1277\n",
       "3       Stellate cell   900"
      ]
     },
     "execution_count": 6,
     "metadata": {},
     "output_type": "execute_result"
    }
   ],
   "source": [
    "adata_gExpr.obs.groupby('Cell_Type').size().reset_index(name='n') # show cell types and number of cells for each type in AnnData"
   ]
  },
  {
   "cell_type": "markdown",
   "id": "808dc5f7",
   "metadata": {},
   "source": [
    "### Step 2. Perform basic preprocessing and clustering\n",
    "<a id='2'></a>\n",
    "Perform some standard preprocessing. The UMI matrix can be processed using the standard Scanpy preprocessing workflow. Since the quality of the provided data was pre-assessed and found to be high, cell filtering will be minimal. For a more detailed explanation of quality control steps, refer to the preprocessing tutorials by [Scanpy](https://scanpy-tutorials.readthedocs.io/en/latest/pbmc3k.html) or [Seurat](https://satijalab.org/seurat/articles/pbmc3k_tutorial). "
   ]
  },
  {
   "cell_type": "code",
   "execution_count": 7,
   "id": "08d3b344",
   "metadata": {
    "execution": {
     "iopub.execute_input": "2023-12-14T20:42:23.044788Z",
     "iopub.status.busy": "2023-12-14T20:42:23.044597Z",
     "iopub.status.idle": "2023-12-14T20:42:31.500470Z",
     "shell.execute_reply": "2023-12-14T20:42:31.500055Z",
     "shell.execute_reply.started": "2023-12-14T20:42:23.044768Z"
    }
   },
   "outputs": [],
   "source": [
    "sc.pp.calculate_qc_metrics(adata_gExpr, inplace=True)\n",
    "sc.pp.filter_cells(adata_gExpr, min_genes=200) # filter out cells with <200 genes expressed\n",
    "sc.pp.filter_genes(adata_gExpr, min_counts=10) # filter out genes that are present with <10 UMIs\n",
    "\n",
    "#adata_gExpr = calcMitoRiboPercent(adata_gExpr)\n",
    "#adata_gExpr = filterCellsHighMito(adata_gExpr,0.2)\n",
    "\n",
    "# Store UMI in .raw\n",
    "adata_gExpr.raw = adata_gExpr\n",
    "\n",
    "sc.pp.normalize_total(adata_gExpr, inplace=True,target_sum=1e4)\n",
    "sc.pp.log1p(adata_gExpr)\n",
    "sc.pp.highly_variable_genes(adata_gExpr, flavor=\"seurat\", n_top_genes=3000, inplace=True)\n",
    "\n",
    "sc.pp.scale(adata_gExpr)"
   ]
  },
  {
   "cell_type": "markdown",
   "id": "02e141f6",
   "metadata": {},
   "source": [
    "scRNA-seq data are known to exhibit high sparsity, typically >80-90%. Compute the sparsity of cells labelled as Fibroblasts as the percentage of zero-entries in the dataset."
   ]
  },
  {
   "cell_type": "code",
   "execution_count": 8,
   "id": "a859ee5f",
   "metadata": {},
   "outputs": [
    {
     "name": "stdout",
     "output_type": "stream",
     "text": [
      "Sparsity (fibroblasts, single cells): 85.0%\n"
     ]
    }
   ],
   "source": [
    "Fibroblast_matrix = adata_gExpr[adata_gExpr.obs['Cell_Type'] == 'Fibroblast cell']\n",
    "sparsity = np.mean(Fibroblast_matrix.raw.X == 0)\n",
    "del Fibroblast_matrix\n",
    "\n",
    "print(\"Sparsity (fibroblasts, single cells): \" + str(round(sparsity,2)*100) + \"%\")\n",
    "\n"
   ]
  },
  {
   "cell_type": "markdown",
   "id": "7432b70c",
   "metadata": {},
   "source": [
    "### 3. Generate Metacells \n",
    "<a id='3'></a>\n",
    "Compute a distance matrix between each pair of cells on the PCA-projected space in the dataset using the `corr_distance` function. Any distance matrix can be used for metacell  generation by setting 'dist_slot' to the corresponding value in the `repr_metacells` function (see below)."
   ]
  },
  {
   "cell_type": "code",
   "execution_count": 9,
   "id": "d700cd3b",
   "metadata": {},
   "outputs": [],
   "source": [
    "sc.tl.pca(adata_gExpr, svd_solver='arpack', random_state=0)\n",
    "pyviper.pp.corr_distance(adata_gExpr) # compute correlation distance"
   ]
  },
  {
   "cell_type": "markdown",
   "id": "227ea7cd",
   "metadata": {},
   "source": [
    "Generate a set of metacell matrices for each cellular population (cluster), as represented by the 'Cell_Type' annotation in .obs. The metacell generation function allows several combination of inputs. Specifically, exactly two of the following parameters must be set: \n",
    "**1.** 'size', **2a.** 'min_median_depth' or **2b.** 'n_cells_per_metacell', **3a.** 'perc_data_to_use' or **3b.** 'perc_incl_data_reused'. \n",
    "\n",
    "<u>Please notice that 2a-2b and 3a-3b are mutually exclusive, i.e. they cannot be set together.</u>\n",
    "\n",
    "- **Example 1**: generate 400 metacells per cell population requiring an attempt minimum depth of 12,000 UMI/metacell."
   ]
  },
  {
   "cell_type": "code",
   "execution_count": 10,
   "id": "ce8c7727",
   "metadata": {
    "execution": {
     "iopub.execute_input": "2023-12-14T20:42:31.501524Z",
     "iopub.status.busy": "2023-12-14T20:42:31.501116Z",
     "iopub.status.idle": "2023-12-14T20:42:33.299039Z",
     "shell.execute_reply": "2023-12-14T20:42:33.298309Z",
     "shell.execute_reply.started": "2023-12-14T20:42:31.501506Z"
    }
   },
   "outputs": [
    {
     "name": "stderr",
     "output_type": "stream",
     "text": [
      "cluster metacells:  25%|██▌       | 1/4 [00:00<00:02,  1.17it/s]/Users/lucazanella7/mambaforge/lib/python3.10/site-packages/numpy/core/fromnumeric.py:3464: RuntimeWarning: Mean of empty slice.\n",
      "  return _methods._mean(a, axis=axis, dtype=dtype,\n",
      "/Users/lucazanella7/mambaforge/lib/python3.10/site-packages/numpy/core/_methods.py:192: RuntimeWarning: invalid value encountered in scalar divide\n",
      "  ret = ret.dtype.type(ret / rcount)\n",
      "/Users/lucazanella7/mambaforge/lib/python3.10/site-packages/numpy/core/_methods.py:269: RuntimeWarning: Degrees of freedom <= 0 for slice\n",
      "  ret = _var(a, axis=axis, dtype=dtype, out=out, ddof=ddof,\n",
      "/Users/lucazanella7/mambaforge/lib/python3.10/site-packages/numpy/core/_methods.py:226: RuntimeWarning: invalid value encountered in divide\n",
      "  arrmean = um.true_divide(arrmean, div, out=arrmean,\n",
      "/Users/lucazanella7/mambaforge/lib/python3.10/site-packages/numpy/core/_methods.py:261: RuntimeWarning: invalid value encountered in scalar divide\n",
      "  ret = ret.dtype.type(ret / rcount)\n",
      "cluster metacells: 100%|██████████| 4/4 [00:03<00:00,  1.14it/s]\n"
     ]
    }
   ],
   "source": [
    "n_metacells=400\n",
    "min_target_depth=12000\n",
    "\n",
    "pyviper.pp.repr_metacells(adata_gExpr, \n",
    "                          counts=None, \n",
    "                          pca_slot='X_pca', \n",
    "                          dist_slot='corr_dist', \n",
    "                          size=n_metacells, \n",
    "                          min_median_depth=min_target_depth, \n",
    "                          clusters_slot=\"Cell_Type\",\n",
    "                          key_added=\"metacells_approach_1\")  # size=n_meta, n_cells_per_metacell=k, clusters_slot=\"putative_tumor_infercnv_output\""
   ]
  },
  {
   "cell_type": "markdown",
   "id": "e28733da",
   "metadata": {},
   "source": [
    "While the generation of the minimum target depth cannot be guaranteed in all cases, pyVIPER attempts to satisfy this request by tuning the number of nearest neighbors used in metacell generation. \n",
    "\n",
    "Display `adata_gExpr`."
   ]
  },
  {
   "cell_type": "code",
   "execution_count": 11,
   "id": "8bb06d47",
   "metadata": {},
   "outputs": [
    {
     "data": {
      "text/plain": [
       "AnnData object with n_obs × n_vars = 4632 × 18160\n",
       "    obs: 'Cell_Type', 'n_genes_by_counts', 'log1p_n_genes_by_counts', 'total_counts', 'log1p_total_counts', 'pct_counts_in_top_50_genes', 'pct_counts_in_top_100_genes', 'pct_counts_in_top_200_genes', 'pct_counts_in_top_500_genes', 'n_genes'\n",
       "    var: 'n_cells_by_counts', 'mean_counts', 'log1p_mean_counts', 'pct_dropout_by_counts', 'total_counts', 'log1p_total_counts', 'n_counts', 'highly_variable', 'means', 'dispersions', 'dispersions_norm', 'mean', 'std'\n",
       "    uns: 'log1p', 'hvg', 'pca', 'metacells_approach_1_B cell', 'metacells_approach_1_Ductal cell type 2', 'metacells_approach_1_Fibroblast cell', 'metacells_approach_1_Stellate cell'\n",
       "    obsm: 'X_pca'\n",
       "    varm: 'PCs'\n",
       "    obsp: 'corr_dist'"
      ]
     },
     "execution_count": 11,
     "metadata": {},
     "output_type": "execute_result"
    }
   ],
   "source": [
    "adata_gExpr"
   ]
  },
  {
   "cell_type": "markdown",
   "id": "9fb28d00",
   "metadata": {},
   "source": [
    "4 new matrices, one for each cell type, were stored as Pandas dataframe in `adata.uns`. \n",
    "\n",
    "Display the metacell matrix for the population of Ductal cell type 2. "
   ]
  },
  {
   "cell_type": "code",
   "execution_count": 12,
   "id": "f2d1a02e",
   "metadata": {},
   "outputs": [
    {
     "data": {
      "text/html": [
       "<div>\n",
       "<style scoped>\n",
       "    .dataframe tbody tr th:only-of-type {\n",
       "        vertical-align: middle;\n",
       "    }\n",
       "\n",
       "    .dataframe tbody tr th {\n",
       "        vertical-align: top;\n",
       "    }\n",
       "\n",
       "    .dataframe thead th {\n",
       "        text-align: right;\n",
       "    }\n",
       "</style>\n",
       "<table border=\"1\" class=\"dataframe\">\n",
       "  <thead>\n",
       "    <tr style=\"text-align: right;\">\n",
       "      <th></th>\n",
       "      <th>AL627309.1</th>\n",
       "      <th>AP006222.2</th>\n",
       "      <th>RP11-206L10.3</th>\n",
       "      <th>RP11-206L10.2</th>\n",
       "      <th>RP11-206L10.9</th>\n",
       "      <th>LINC00115</th>\n",
       "      <th>FAM41C</th>\n",
       "      <th>RP11-54O7.3</th>\n",
       "      <th>SAMD11</th>\n",
       "      <th>NOC2L</th>\n",
       "      <th>...</th>\n",
       "      <th>RP11-332K15.1</th>\n",
       "      <th>RP11-157E21.1</th>\n",
       "      <th>DMRT2</th>\n",
       "      <th>RP11-309M23.1</th>\n",
       "      <th>NLRP7</th>\n",
       "      <th>IGLL1</th>\n",
       "      <th>EGFR-AS1</th>\n",
       "      <th>RSPO2</th>\n",
       "      <th>KCNC2</th>\n",
       "      <th>AGTR2</th>\n",
       "    </tr>\n",
       "  </thead>\n",
       "  <tbody>\n",
       "    <tr>\n",
       "      <th>metacell_0</th>\n",
       "      <td>0</td>\n",
       "      <td>0</td>\n",
       "      <td>0</td>\n",
       "      <td>0</td>\n",
       "      <td>0</td>\n",
       "      <td>0</td>\n",
       "      <td>0</td>\n",
       "      <td>0</td>\n",
       "      <td>0</td>\n",
       "      <td>0</td>\n",
       "      <td>...</td>\n",
       "      <td>0</td>\n",
       "      <td>0</td>\n",
       "      <td>0</td>\n",
       "      <td>0</td>\n",
       "      <td>0</td>\n",
       "      <td>0</td>\n",
       "      <td>0</td>\n",
       "      <td>0</td>\n",
       "      <td>0</td>\n",
       "      <td>0</td>\n",
       "    </tr>\n",
       "    <tr>\n",
       "      <th>metacell_1</th>\n",
       "      <td>0</td>\n",
       "      <td>0</td>\n",
       "      <td>0</td>\n",
       "      <td>0</td>\n",
       "      <td>0</td>\n",
       "      <td>0</td>\n",
       "      <td>0</td>\n",
       "      <td>0</td>\n",
       "      <td>0</td>\n",
       "      <td>0</td>\n",
       "      <td>...</td>\n",
       "      <td>0</td>\n",
       "      <td>0</td>\n",
       "      <td>0</td>\n",
       "      <td>0</td>\n",
       "      <td>0</td>\n",
       "      <td>0</td>\n",
       "      <td>0</td>\n",
       "      <td>0</td>\n",
       "      <td>0</td>\n",
       "      <td>0</td>\n",
       "    </tr>\n",
       "    <tr>\n",
       "      <th>metacell_2</th>\n",
       "      <td>0</td>\n",
       "      <td>0</td>\n",
       "      <td>0</td>\n",
       "      <td>0</td>\n",
       "      <td>0</td>\n",
       "      <td>0</td>\n",
       "      <td>0</td>\n",
       "      <td>0</td>\n",
       "      <td>0</td>\n",
       "      <td>0</td>\n",
       "      <td>...</td>\n",
       "      <td>0</td>\n",
       "      <td>0</td>\n",
       "      <td>0</td>\n",
       "      <td>0</td>\n",
       "      <td>0</td>\n",
       "      <td>0</td>\n",
       "      <td>0</td>\n",
       "      <td>0</td>\n",
       "      <td>0</td>\n",
       "      <td>0</td>\n",
       "    </tr>\n",
       "    <tr>\n",
       "      <th>metacell_3</th>\n",
       "      <td>0</td>\n",
       "      <td>0</td>\n",
       "      <td>0</td>\n",
       "      <td>0</td>\n",
       "      <td>0</td>\n",
       "      <td>0</td>\n",
       "      <td>0</td>\n",
       "      <td>0</td>\n",
       "      <td>0</td>\n",
       "      <td>0</td>\n",
       "      <td>...</td>\n",
       "      <td>0</td>\n",
       "      <td>0</td>\n",
       "      <td>0</td>\n",
       "      <td>0</td>\n",
       "      <td>0</td>\n",
       "      <td>0</td>\n",
       "      <td>0</td>\n",
       "      <td>0</td>\n",
       "      <td>0</td>\n",
       "      <td>0</td>\n",
       "    </tr>\n",
       "    <tr>\n",
       "      <th>metacell_4</th>\n",
       "      <td>0</td>\n",
       "      <td>0</td>\n",
       "      <td>0</td>\n",
       "      <td>0</td>\n",
       "      <td>0</td>\n",
       "      <td>0</td>\n",
       "      <td>0</td>\n",
       "      <td>0</td>\n",
       "      <td>0</td>\n",
       "      <td>0</td>\n",
       "      <td>...</td>\n",
       "      <td>0</td>\n",
       "      <td>0</td>\n",
       "      <td>0</td>\n",
       "      <td>0</td>\n",
       "      <td>0</td>\n",
       "      <td>0</td>\n",
       "      <td>0</td>\n",
       "      <td>0</td>\n",
       "      <td>0</td>\n",
       "      <td>0</td>\n",
       "    </tr>\n",
       "    <tr>\n",
       "      <th>...</th>\n",
       "      <td>...</td>\n",
       "      <td>...</td>\n",
       "      <td>...</td>\n",
       "      <td>...</td>\n",
       "      <td>...</td>\n",
       "      <td>...</td>\n",
       "      <td>...</td>\n",
       "      <td>...</td>\n",
       "      <td>...</td>\n",
       "      <td>...</td>\n",
       "      <td>...</td>\n",
       "      <td>...</td>\n",
       "      <td>...</td>\n",
       "      <td>...</td>\n",
       "      <td>...</td>\n",
       "      <td>...</td>\n",
       "      <td>...</td>\n",
       "      <td>...</td>\n",
       "      <td>...</td>\n",
       "      <td>...</td>\n",
       "      <td>...</td>\n",
       "    </tr>\n",
       "    <tr>\n",
       "      <th>metacell_395</th>\n",
       "      <td>0</td>\n",
       "      <td>0</td>\n",
       "      <td>0</td>\n",
       "      <td>0</td>\n",
       "      <td>0</td>\n",
       "      <td>0</td>\n",
       "      <td>0</td>\n",
       "      <td>0</td>\n",
       "      <td>0</td>\n",
       "      <td>2</td>\n",
       "      <td>...</td>\n",
       "      <td>0</td>\n",
       "      <td>0</td>\n",
       "      <td>0</td>\n",
       "      <td>0</td>\n",
       "      <td>0</td>\n",
       "      <td>0</td>\n",
       "      <td>0</td>\n",
       "      <td>0</td>\n",
       "      <td>0</td>\n",
       "      <td>0</td>\n",
       "    </tr>\n",
       "    <tr>\n",
       "      <th>metacell_396</th>\n",
       "      <td>0</td>\n",
       "      <td>0</td>\n",
       "      <td>0</td>\n",
       "      <td>0</td>\n",
       "      <td>0</td>\n",
       "      <td>0</td>\n",
       "      <td>0</td>\n",
       "      <td>0</td>\n",
       "      <td>0</td>\n",
       "      <td>0</td>\n",
       "      <td>...</td>\n",
       "      <td>0</td>\n",
       "      <td>0</td>\n",
       "      <td>0</td>\n",
       "      <td>0</td>\n",
       "      <td>0</td>\n",
       "      <td>0</td>\n",
       "      <td>0</td>\n",
       "      <td>0</td>\n",
       "      <td>0</td>\n",
       "      <td>0</td>\n",
       "    </tr>\n",
       "    <tr>\n",
       "      <th>metacell_397</th>\n",
       "      <td>0</td>\n",
       "      <td>1</td>\n",
       "      <td>0</td>\n",
       "      <td>0</td>\n",
       "      <td>0</td>\n",
       "      <td>0</td>\n",
       "      <td>2</td>\n",
       "      <td>0</td>\n",
       "      <td>0</td>\n",
       "      <td>0</td>\n",
       "      <td>...</td>\n",
       "      <td>0</td>\n",
       "      <td>0</td>\n",
       "      <td>0</td>\n",
       "      <td>0</td>\n",
       "      <td>0</td>\n",
       "      <td>0</td>\n",
       "      <td>0</td>\n",
       "      <td>0</td>\n",
       "      <td>0</td>\n",
       "      <td>0</td>\n",
       "    </tr>\n",
       "    <tr>\n",
       "      <th>metacell_398</th>\n",
       "      <td>0</td>\n",
       "      <td>1</td>\n",
       "      <td>0</td>\n",
       "      <td>0</td>\n",
       "      <td>0</td>\n",
       "      <td>0</td>\n",
       "      <td>0</td>\n",
       "      <td>0</td>\n",
       "      <td>0</td>\n",
       "      <td>0</td>\n",
       "      <td>...</td>\n",
       "      <td>0</td>\n",
       "      <td>0</td>\n",
       "      <td>0</td>\n",
       "      <td>0</td>\n",
       "      <td>0</td>\n",
       "      <td>0</td>\n",
       "      <td>0</td>\n",
       "      <td>0</td>\n",
       "      <td>0</td>\n",
       "      <td>0</td>\n",
       "    </tr>\n",
       "    <tr>\n",
       "      <th>metacell_399</th>\n",
       "      <td>0</td>\n",
       "      <td>0</td>\n",
       "      <td>0</td>\n",
       "      <td>0</td>\n",
       "      <td>0</td>\n",
       "      <td>0</td>\n",
       "      <td>0</td>\n",
       "      <td>0</td>\n",
       "      <td>0</td>\n",
       "      <td>0</td>\n",
       "      <td>...</td>\n",
       "      <td>0</td>\n",
       "      <td>0</td>\n",
       "      <td>0</td>\n",
       "      <td>0</td>\n",
       "      <td>0</td>\n",
       "      <td>0</td>\n",
       "      <td>0</td>\n",
       "      <td>0</td>\n",
       "      <td>0</td>\n",
       "      <td>0</td>\n",
       "    </tr>\n",
       "  </tbody>\n",
       "</table>\n",
       "<p>400 rows × 18160 columns</p>\n",
       "</div>"
      ],
      "text/plain": [
       "              AL627309.1  AP006222.2  RP11-206L10.3  RP11-206L10.2  \\\n",
       "metacell_0             0           0              0              0   \n",
       "metacell_1             0           0              0              0   \n",
       "metacell_2             0           0              0              0   \n",
       "metacell_3             0           0              0              0   \n",
       "metacell_4             0           0              0              0   \n",
       "...                  ...         ...            ...            ...   \n",
       "metacell_395           0           0              0              0   \n",
       "metacell_396           0           0              0              0   \n",
       "metacell_397           0           1              0              0   \n",
       "metacell_398           0           1              0              0   \n",
       "metacell_399           0           0              0              0   \n",
       "\n",
       "              RP11-206L10.9  LINC00115  FAM41C  RP11-54O7.3  SAMD11  NOC2L  \\\n",
       "metacell_0                0          0       0            0       0      0   \n",
       "metacell_1                0          0       0            0       0      0   \n",
       "metacell_2                0          0       0            0       0      0   \n",
       "metacell_3                0          0       0            0       0      0   \n",
       "metacell_4                0          0       0            0       0      0   \n",
       "...                     ...        ...     ...          ...     ...    ...   \n",
       "metacell_395              0          0       0            0       0      2   \n",
       "metacell_396              0          0       0            0       0      0   \n",
       "metacell_397              0          0       2            0       0      0   \n",
       "metacell_398              0          0       0            0       0      0   \n",
       "metacell_399              0          0       0            0       0      0   \n",
       "\n",
       "              ...  RP11-332K15.1  RP11-157E21.1  DMRT2  RP11-309M23.1  NLRP7  \\\n",
       "metacell_0    ...              0              0      0              0      0   \n",
       "metacell_1    ...              0              0      0              0      0   \n",
       "metacell_2    ...              0              0      0              0      0   \n",
       "metacell_3    ...              0              0      0              0      0   \n",
       "metacell_4    ...              0              0      0              0      0   \n",
       "...           ...            ...            ...    ...            ...    ...   \n",
       "metacell_395  ...              0              0      0              0      0   \n",
       "metacell_396  ...              0              0      0              0      0   \n",
       "metacell_397  ...              0              0      0              0      0   \n",
       "metacell_398  ...              0              0      0              0      0   \n",
       "metacell_399  ...              0              0      0              0      0   \n",
       "\n",
       "              IGLL1  EGFR-AS1  RSPO2  KCNC2  AGTR2  \n",
       "metacell_0        0         0      0      0      0  \n",
       "metacell_1        0         0      0      0      0  \n",
       "metacell_2        0         0      0      0      0  \n",
       "metacell_3        0         0      0      0      0  \n",
       "metacell_4        0         0      0      0      0  \n",
       "...             ...       ...    ...    ...    ...  \n",
       "metacell_395      0         0      0      0      0  \n",
       "metacell_396      0         0      0      0      0  \n",
       "metacell_397      0         0      0      0      0  \n",
       "metacell_398      0         0      0      0      0  \n",
       "metacell_399      0         0      0      0      0  \n",
       "\n",
       "[400 rows x 18160 columns]"
      ]
     },
     "execution_count": 12,
     "metadata": {},
     "output_type": "execute_result"
    }
   ],
   "source": [
    "adata_gExpr.uns[\"metacells_approach_1_Ductal cell type 2\"]"
   ]
  },
  {
   "cell_type": "markdown",
   "id": "eb11effd",
   "metadata": {},
   "source": [
    "Each metacell matrix can be used as input to ARACNe3 to reverse engineer the corresponding GRN which can then be provided as an input to VIPER. Each metacell matrix is associated with a dictionary collecting relevant metacell statistics. \n",
    "\n",
    "Display metacell-associated statistics for the population of fibroblasts."
   ]
  },
  {
   "cell_type": "code",
   "execution_count": 13,
   "id": "c5d7dc15",
   "metadata": {},
   "outputs": [
    {
     "data": {
      "text/html": [
       "<div>\n",
       "<style scoped>\n",
       "    .dataframe tbody tr th:only-of-type {\n",
       "        vertical-align: middle;\n",
       "    }\n",
       "\n",
       "    .dataframe tbody tr th {\n",
       "        vertical-align: top;\n",
       "    }\n",
       "\n",
       "    .dataframe thead th {\n",
       "        text-align: right;\n",
       "    }\n",
       "</style>\n",
       "<table border=\"1\" class=\"dataframe\">\n",
       "  <thead>\n",
       "    <tr style=\"text-align: right;\">\n",
       "      <th></th>\n",
       "      <th>Values</th>\n",
       "    </tr>\n",
       "  </thead>\n",
       "  <tbody>\n",
       "    <tr>\n",
       "      <th>size</th>\n",
       "      <td>400.000000</td>\n",
       "    </tr>\n",
       "    <tr>\n",
       "      <th>n_cells_per_metacell</th>\n",
       "      <td>2.000000</td>\n",
       "    </tr>\n",
       "    <tr>\n",
       "      <th>min_median_depth</th>\n",
       "      <td>12000.000000</td>\n",
       "    </tr>\n",
       "    <tr>\n",
       "      <th>median_depth</th>\n",
       "      <td>18104.000000</td>\n",
       "    </tr>\n",
       "    <tr>\n",
       "      <th>perc_total_samples_used</th>\n",
       "      <td>58.418168</td>\n",
       "    </tr>\n",
       "    <tr>\n",
       "      <th>perc_included_samples_used_mult_times</th>\n",
       "      <td>6.970509</td>\n",
       "    </tr>\n",
       "    <tr>\n",
       "      <th>mean_n_times_samples_used</th>\n",
       "      <td>1.072386</td>\n",
       "    </tr>\n",
       "    <tr>\n",
       "      <th>stdev_n_times_samples_used</th>\n",
       "      <td>0.269274</td>\n",
       "    </tr>\n",
       "  </tbody>\n",
       "</table>\n",
       "</div>"
      ],
      "text/plain": [
       "                                             Values\n",
       "size                                     400.000000\n",
       "n_cells_per_metacell                       2.000000\n",
       "min_median_depth                       12000.000000\n",
       "median_depth                           18104.000000\n",
       "perc_total_samples_used                   58.418168\n",
       "perc_included_samples_used_mult_times      6.970509\n",
       "mean_n_times_samples_used                  1.072386\n",
       "stdev_n_times_samples_used                 0.269274"
      ]
     },
     "execution_count": 13,
     "metadata": {},
     "output_type": "execute_result"
    }
   ],
   "source": [
    "attrs_dict = adata_gExpr.uns[\"metacells_approach_1_Fibroblast cell\"].attrs\n",
    "attrs_df = pd.DataFrame.from_dict(attrs_dict, orient='index', columns=['Values']) # convert to df\n",
    "\n",
    "attrs_df\n"
   ]
  },
  {
   "cell_type": "markdown",
   "id": "942b47b3",
   "metadata": {},
   "source": [
    "The report is highly informative. The metacell matrix contains 400 metacells, each generated by aggregation of 2 nearest neighbors after requesting an \"attempt\" minimum target depth of 12,000 UMI/metacell. The median depth for the inferred metacells is ~18,000 UMI/metacell. 58% of the original single-cells from the fibroblasts population was used for metacell generation, with <7% of cells being aggregated in more than 1 metacell. \n",
    "\n",
    "The data sparsity is expected to be decreased in the metacells."
   ]
  },
  {
   "cell_type": "code",
   "execution_count": 14,
   "id": "c4f2268b",
   "metadata": {},
   "outputs": [
    {
     "name": "stdout",
     "output_type": "stream",
     "text": [
      "Sparsity (fibroblasts, metacells example 1): 77.0%\n"
     ]
    }
   ],
   "source": [
    "sparsity = np.mean(np.array(adata_gExpr.uns[\"metacells_approach_1_Fibroblast cell\"]) == 0)\n",
    "print(\"Sparsity (fibroblasts, metacells example 1): \" + str(round(sparsity,2)*100) + \"%\")\n"
   ]
  },
  {
   "cell_type": "markdown",
   "id": "6410f82c",
   "metadata": {},
   "source": [
    "Display the statistics for metacells of another cluster (B cells)."
   ]
  },
  {
   "cell_type": "code",
   "execution_count": 15,
   "id": "e3f4b56b",
   "metadata": {},
   "outputs": [
    {
     "data": {
      "text/html": [
       "<div>\n",
       "<style scoped>\n",
       "    .dataframe tbody tr th:only-of-type {\n",
       "        vertical-align: middle;\n",
       "    }\n",
       "\n",
       "    .dataframe tbody tr th {\n",
       "        vertical-align: top;\n",
       "    }\n",
       "\n",
       "    .dataframe thead th {\n",
       "        text-align: right;\n",
       "    }\n",
       "</style>\n",
       "<table border=\"1\" class=\"dataframe\">\n",
       "  <thead>\n",
       "    <tr style=\"text-align: right;\">\n",
       "      <th></th>\n",
       "      <th>Values</th>\n",
       "    </tr>\n",
       "  </thead>\n",
       "  <tbody>\n",
       "    <tr>\n",
       "      <th>size</th>\n",
       "      <td>400.000000</td>\n",
       "    </tr>\n",
       "    <tr>\n",
       "      <th>n_cells_per_metacell</th>\n",
       "      <td>3.000000</td>\n",
       "    </tr>\n",
       "    <tr>\n",
       "      <th>min_median_depth</th>\n",
       "      <td>12000.000000</td>\n",
       "    </tr>\n",
       "    <tr>\n",
       "      <th>median_depth</th>\n",
       "      <td>11097.500000</td>\n",
       "    </tr>\n",
       "    <tr>\n",
       "      <th>perc_total_samples_used</th>\n",
       "      <td>81.800000</td>\n",
       "    </tr>\n",
       "    <tr>\n",
       "      <th>perc_included_samples_used_mult_times</th>\n",
       "      <td>30.929095</td>\n",
       "    </tr>\n",
       "    <tr>\n",
       "      <th>mean_n_times_samples_used</th>\n",
       "      <td>1.466993</td>\n",
       "    </tr>\n",
       "    <tr>\n",
       "      <th>stdev_n_times_samples_used</th>\n",
       "      <td>0.907459</td>\n",
       "    </tr>\n",
       "  </tbody>\n",
       "</table>\n",
       "</div>"
      ],
      "text/plain": [
       "                                             Values\n",
       "size                                     400.000000\n",
       "n_cells_per_metacell                       3.000000\n",
       "min_median_depth                       12000.000000\n",
       "median_depth                           11097.500000\n",
       "perc_total_samples_used                   81.800000\n",
       "perc_included_samples_used_mult_times     30.929095\n",
       "mean_n_times_samples_used                  1.466993\n",
       "stdev_n_times_samples_used                 0.907459"
      ]
     },
     "execution_count": 15,
     "metadata": {},
     "output_type": "execute_result"
    }
   ],
   "source": [
    "attrs_dict = adata_gExpr.uns[\"metacells_approach_1_B cell\"].attrs\n",
    "attrs_df = pd.DataFrame.from_dict(attrs_dict, orient='index', columns=['Values']) # convert to df\n",
    "\n",
    "attrs_df\n"
   ]
  },
  {
   "cell_type": "markdown",
   "id": "a08d5fec",
   "metadata": {},
   "source": [
    "As mentioned before, `repr_metacells` allows several combinations of parameters. Let's consider another combination.\n",
    "\n",
    "- **Example 2**: generate 400 metacells per cluster such that each metacell should incorporate 20 single-cells (`n_cells_per_metacell=20`; `min_median_depth=None`).\n"
   ]
  },
  {
   "cell_type": "code",
   "execution_count": 16,
   "id": "b9ceab10",
   "metadata": {},
   "outputs": [
    {
     "name": "stderr",
     "output_type": "stream",
     "text": [
      "cluster metacells: 100%|██████████| 4/4 [00:07<00:00,  1.79s/it]\n"
     ]
    }
   ],
   "source": [
    "n_cells_per_metacell=20\n",
    "\n",
    "pyviper.pp.repr_metacells(adata_gExpr, \n",
    "                          counts=None, \n",
    "                          pca_slot='X_pca', \n",
    "                          dist_slot='corr_dist', \n",
    "                          size=400,\n",
    "                          n_cells_per_metacell=n_cells_per_metacell,\n",
    "                          min_median_depth=None, \n",
    "                          clusters_slot=\"Cell_Type\",\n",
    "                          key_added=\"metacells_approach_2\") "
   ]
  },
  {
   "cell_type": "markdown",
   "id": "28b82629",
   "metadata": {},
   "source": [
    "Display metacell-associated statistics for the Fibroblast population. The median depth is expected to be much higher than before, due to the larger number of cells per metacells specified."
   ]
  },
  {
   "cell_type": "code",
   "execution_count": 17,
   "id": "da4d17ae",
   "metadata": {},
   "outputs": [
    {
     "data": {
      "text/html": [
       "<div>\n",
       "<style scoped>\n",
       "    .dataframe tbody tr th:only-of-type {\n",
       "        vertical-align: middle;\n",
       "    }\n",
       "\n",
       "    .dataframe tbody tr th {\n",
       "        vertical-align: top;\n",
       "    }\n",
       "\n",
       "    .dataframe thead th {\n",
       "        text-align: right;\n",
       "    }\n",
       "</style>\n",
       "<table border=\"1\" class=\"dataframe\">\n",
       "  <thead>\n",
       "    <tr style=\"text-align: right;\">\n",
       "      <th></th>\n",
       "      <th>Values</th>\n",
       "    </tr>\n",
       "  </thead>\n",
       "  <tbody>\n",
       "    <tr>\n",
       "      <th>size</th>\n",
       "      <td>400.000000</td>\n",
       "    </tr>\n",
       "    <tr>\n",
       "      <th>n_cells_per_metacell</th>\n",
       "      <td>20.000000</td>\n",
       "    </tr>\n",
       "    <tr>\n",
       "      <th>min_median_depth</th>\n",
       "      <td>NaN</td>\n",
       "    </tr>\n",
       "    <tr>\n",
       "      <th>median_depth</th>\n",
       "      <td>196668.500000</td>\n",
       "    </tr>\n",
       "    <tr>\n",
       "      <th>perc_total_samples_used</th>\n",
       "      <td>97.963978</td>\n",
       "    </tr>\n",
       "    <tr>\n",
       "      <th>perc_included_samples_used_mult_times</th>\n",
       "      <td>89.928058</td>\n",
       "    </tr>\n",
       "    <tr>\n",
       "      <th>mean_n_times_samples_used</th>\n",
       "      <td>6.394884</td>\n",
       "    </tr>\n",
       "    <tr>\n",
       "      <th>stdev_n_times_samples_used</th>\n",
       "      <td>4.219301</td>\n",
       "    </tr>\n",
       "  </tbody>\n",
       "</table>\n",
       "</div>"
      ],
      "text/plain": [
       "                                              Values\n",
       "size                                      400.000000\n",
       "n_cells_per_metacell                       20.000000\n",
       "min_median_depth                                 NaN\n",
       "median_depth                           196668.500000\n",
       "perc_total_samples_used                    97.963978\n",
       "perc_included_samples_used_mult_times      89.928058\n",
       "mean_n_times_samples_used                   6.394884\n",
       "stdev_n_times_samples_used                  4.219301"
      ]
     },
     "execution_count": 17,
     "metadata": {},
     "output_type": "execute_result"
    }
   ],
   "source": [
    "attrs_dict = adata_gExpr.uns[\"metacells_approach_2_Fibroblast cell\"].attrs\n",
    "attrs_df = pd.DataFrame.from_dict(attrs_dict, orient='index', columns=['Values']) # convert to df\n",
    "\n",
    "attrs_df\n"
   ]
  },
  {
   "cell_type": "markdown",
   "id": "bd9642f0",
   "metadata": {},
   "source": [
    "Data sparsity is also strongly decreased due to the higher number of nearest neighbors being aggregated."
   ]
  },
  {
   "cell_type": "code",
   "execution_count": 18,
   "id": "fd05b2d2",
   "metadata": {},
   "outputs": [
    {
     "name": "stdout",
     "output_type": "stream",
     "text": [
      "Sparsity (fibroblasts, metacells example 2): 40.0%\n"
     ]
    }
   ],
   "source": [
    "sparsity = np.mean(np.array(adata_gExpr.uns[\"metacells_approach_2_Fibroblast cell\"]) == 0)\n",
    "\n",
    "print(\"Sparsity (fibroblasts, metacells example 2): \" + str(round(sparsity,2)*100) + \"%\")\n"
   ]
  },
  {
   "cell_type": "markdown",
   "id": "3311b6df",
   "metadata": {},
   "source": [
    "- **Example 3**: Generate 400 metacells and allow for only the 20% of the cells to be incorporated in more than 1 metacell (`perc_incl_data_reused=20`)"
   ]
  },
  {
   "cell_type": "code",
   "execution_count": 19,
   "id": "d1bf7600",
   "metadata": {},
   "outputs": [
    {
     "name": "stderr",
     "output_type": "stream",
     "text": [
      "cluster metacells: 100%|██████████| 4/4 [00:04<00:00,  1.08s/it]\n"
     ]
    }
   ],
   "source": [
    "perc_incl_data_reused=20\n",
    "\n",
    "pyviper.pp.repr_metacells(adata_gExpr, \n",
    "                          counts=None, \n",
    "                          pca_slot='X_pca', \n",
    "                          dist_slot='corr_dist', \n",
    "                          size=400,\n",
    "                          perc_incl_data_reused=perc_incl_data_reused,\n",
    "                          min_median_depth=None, \n",
    "                          clusters_slot=\"Cell_Type\",\n",
    "                          key_added=\"metacells_approach_3\") \n"
   ]
  },
  {
   "cell_type": "markdown",
   "id": "db3c16d3",
   "metadata": {},
   "source": [
    "Display metacell statistics for the B cell population: the percentage of included cells is now lower than in the example 1. This approach can be useful if the goal is to generate metacells that are independent."
   ]
  },
  {
   "cell_type": "code",
   "execution_count": 20,
   "id": "2b0a08fa",
   "metadata": {},
   "outputs": [
    {
     "data": {
      "text/html": [
       "<div>\n",
       "<style scoped>\n",
       "    .dataframe tbody tr th:only-of-type {\n",
       "        vertical-align: middle;\n",
       "    }\n",
       "\n",
       "    .dataframe tbody tr th {\n",
       "        vertical-align: top;\n",
       "    }\n",
       "\n",
       "    .dataframe thead th {\n",
       "        text-align: right;\n",
       "    }\n",
       "</style>\n",
       "<table border=\"1\" class=\"dataframe\">\n",
       "  <thead>\n",
       "    <tr style=\"text-align: right;\">\n",
       "      <th></th>\n",
       "      <th>Values</th>\n",
       "    </tr>\n",
       "  </thead>\n",
       "  <tbody>\n",
       "    <tr>\n",
       "      <th>size</th>\n",
       "      <td>400.000000</td>\n",
       "    </tr>\n",
       "    <tr>\n",
       "      <th>n_cells_per_metacell</th>\n",
       "      <td>2.000000</td>\n",
       "    </tr>\n",
       "    <tr>\n",
       "      <th>min_median_depth</th>\n",
       "      <td>NaN</td>\n",
       "    </tr>\n",
       "    <tr>\n",
       "      <th>median_depth</th>\n",
       "      <td>7523.000000</td>\n",
       "    </tr>\n",
       "    <tr>\n",
       "      <th>perc_total_samples_used</th>\n",
       "      <td>69.800000</td>\n",
       "    </tr>\n",
       "    <tr>\n",
       "      <th>perc_included_samples_used_mult_times</th>\n",
       "      <td>12.034384</td>\n",
       "    </tr>\n",
       "    <tr>\n",
       "      <th>mean_n_times_samples_used</th>\n",
       "      <td>1.146132</td>\n",
       "    </tr>\n",
       "    <tr>\n",
       "      <th>stdev_n_times_samples_used</th>\n",
       "      <td>0.436669</td>\n",
       "    </tr>\n",
       "  </tbody>\n",
       "</table>\n",
       "</div>"
      ],
      "text/plain": [
       "                                            Values\n",
       "size                                    400.000000\n",
       "n_cells_per_metacell                      2.000000\n",
       "min_median_depth                               NaN\n",
       "median_depth                           7523.000000\n",
       "perc_total_samples_used                  69.800000\n",
       "perc_included_samples_used_mult_times    12.034384\n",
       "mean_n_times_samples_used                 1.146132\n",
       "stdev_n_times_samples_used                0.436669"
      ]
     },
     "execution_count": 20,
     "metadata": {},
     "output_type": "execute_result"
    }
   ],
   "source": [
    "attrs_dict = adata_gExpr.uns[\"metacells_approach_3_B cell\"].attrs\n",
    "attrs_df = pd.DataFrame.from_dict(attrs_dict, orient='index', columns=['Values']) # convert to df\n",
    "\n",
    "attrs_df"
   ]
  },
  {
   "cell_type": "markdown",
   "id": "8bc2a264",
   "metadata": {},
   "source": [
    "##### Comparing metacell and original single-cells\n",
    "As a simple and quick sanity check, we compare the original cells and the derived cell metacells. Extract all the metacell matrices generated with the first approach."
   ]
  },
  {
   "cell_type": "code",
   "execution_count": 21,
   "id": "becc4fdf",
   "metadata": {},
   "outputs": [],
   "source": [
    "# Extract and concatenate all population-specific metacell matrices\n",
    "B_meta=adata_gExpr.uns[\"metacells_approach_1_B cell\"]\n",
    "Ductal_meta=adata_gExpr.uns[\"metacells_approach_1_Ductal cell type 2\"]\n",
    "Fibroblast_meta=adata_gExpr.uns[\"metacells_approach_1_Fibroblast cell\"]\n",
    "Stellate_meta=adata_gExpr.uns[\"metacells_approach_1_Stellate cell\"]\n",
    "\n",
    "# rename all indexes before merging\n",
    "B_meta.index = \"B_\"+B_meta.index\n",
    "Ductal_meta.index = \"Ductal_\"+Ductal_meta.index\n",
    "Fibroblast_meta.index = \"Fibroblast_\"+Fibroblast_meta.index\n",
    "Stellate_meta.index = \"Stellate_\"+Stellate_meta.index\n",
    "\n",
    "# concatenate all dataframes\n",
    "metacells_df = pd.concat([B_meta, Ductal_meta, Fibroblast_meta, Stellate_meta], ignore_index=False)\n"
   ]
  },
  {
   "cell_type": "markdown",
   "id": "5997567a",
   "metadata": {},
   "source": [
    "Annotate each metacell with its cell type."
   ]
  },
  {
   "cell_type": "code",
   "execution_count": 22,
   "id": "2ebb53ce",
   "metadata": {},
   "outputs": [],
   "source": [
    "# Dictionary mapping index prefixes to cell types\n",
    "cell_type_map = {\n",
    "    'B': 'B cell',\n",
    "    'Ductal': 'Ductal cell type 2',\n",
    "    'Fibroblast': 'Fibroblast cell',\n",
    "    'Stellate': 'Stellate cell'\n",
    "}\n",
    "\n",
    "# Generate the \"Cell_Type\" column based on the index\n",
    "cell_types = [cell_type_map[index.split('_')[0]] for index in metacells_df.index]\n",
    "\n",
    "# metacell observation dataframe\n",
    "observation_df = pd.DataFrame({'Cell_Type': cell_types}, index=metacells_df.index)\n"
   ]
  },
  {
   "cell_type": "markdown",
   "id": "a5c0341f",
   "metadata": {},
   "source": [
    "Generate an AnnData object from metacells."
   ]
  },
  {
   "cell_type": "code",
   "execution_count": 23,
   "id": "be6a2422",
   "metadata": {},
   "outputs": [],
   "source": [
    "adata_metacell = anndata.AnnData(X=metacells_df, obs=observation_df)"
   ]
  },
  {
   "cell_type": "markdown",
   "id": "26989bfe",
   "metadata": {},
   "source": [
    "Preprocess the concatenated metacells for PCA and UMAP visualization."
   ]
  },
  {
   "cell_type": "code",
   "execution_count": 24,
   "id": "4a241691",
   "metadata": {},
   "outputs": [
    {
     "name": "stderr",
     "output_type": "stream",
     "text": [
      "OMP: Info #276: omp_set_nested routine deprecated, please use omp_set_max_active_levels instead.\n"
     ]
    }
   ],
   "source": [
    "adata_metacell.raw = adata_metacell\n",
    "\n",
    "sc.pp.normalize_total(adata_metacell, inplace=True,target_sum=1e4)\n",
    "sc.pp.log1p(adata_metacell)\n",
    "sc.pp.highly_variable_genes(adata_metacell, flavor=\"seurat\", n_top_genes=3000, inplace=True)\n",
    "\n",
    "sc.pp.scale(adata_metacell)\n",
    "\n",
    "sc.tl.pca(adata_metacell, svd_solver='arpack', random_state=0)\n",
    "sc.pp.neighbors(adata_metacell, n_neighbors=15, n_pcs=30)\n",
    "sc.tl.umap(adata_metacell)\n",
    "\n"
   ]
  },
  {
   "cell_type": "markdown",
   "id": "b356970e",
   "metadata": {},
   "source": [
    "Visualize the original single-cells in PCA and UMAP embeddings."
   ]
  },
  {
   "cell_type": "code",
   "execution_count": 25,
   "id": "168c8717",
   "metadata": {},
   "outputs": [
    {
     "name": "stderr",
     "output_type": "stream",
     "text": [
      "/Users/lucazanella7/mambaforge/lib/python3.10/site-packages/scanpy/plotting/_tools/scatterplots.py:369: UserWarning: No data for colormapping provided via 'c'. Parameters 'cmap' will be ignored\n",
      "  ax.scatter(\n",
      "/Users/lucazanella7/mambaforge/lib/python3.10/site-packages/scanpy/plotting/_tools/scatterplots.py:379: UserWarning: No data for colormapping provided via 'c'. Parameters 'cmap' will be ignored\n",
      "  ax.scatter(\n",
      "/Users/lucazanella7/mambaforge/lib/python3.10/site-packages/scanpy/plotting/_tools/scatterplots.py:392: UserWarning: No data for colormapping provided via 'c'. Parameters 'cmap' will be ignored\n",
      "  cax = scatter(\n",
      "/Users/lucazanella7/mambaforge/lib/python3.10/site-packages/scanpy/plotting/_tools/scatterplots.py:369: UserWarning: No data for colormapping provided via 'c'. Parameters 'cmap' will be ignored\n",
      "  ax.scatter(\n",
      "/Users/lucazanella7/mambaforge/lib/python3.10/site-packages/scanpy/plotting/_tools/scatterplots.py:379: UserWarning: No data for colormapping provided via 'c'. Parameters 'cmap' will be ignored\n",
      "  ax.scatter(\n",
      "/Users/lucazanella7/mambaforge/lib/python3.10/site-packages/scanpy/plotting/_tools/scatterplots.py:392: UserWarning: No data for colormapping provided via 'c'. Parameters 'cmap' will be ignored\n",
      "  cax = scatter(\n"
     ]
    },
    {
     "data": {
      "image/png": "[encoded data removed]",
      "text/plain": [
       "<Figure size 1000x350 with 2 Axes>"
      ]
     },
     "metadata": {},
     "output_type": "display_data"
    }
   ],
   "source": [
    "sc.pp.neighbors(adata_gExpr, n_neighbors=15, n_pcs=30)\n",
    "sc.tl.umap(adata_gExpr)\n",
    "\n",
    "fig, axs = plt.subplots(1, 2, figsize=(10, 3.5))\n",
    "\n",
    "with rc_context({'figure.figsize': (3.5, 3.5)}):\n",
    "    sc.pl.pca(adata_gExpr, color=\"Cell_Type\", use_raw=False, palette=\"Set2\", title=\"PCA by Cell Types\", add_outline=True, ax=axs[0], show=False)\n",
    "with rc_context({'figure.figsize': (3.5, 3.5)}):\n",
    "    sc.pl.umap(adata_gExpr, color=\"Cell_Type\", use_raw=False, palette=\"Set2\", title=\"UMAP by Cell Types\", add_outline=True, ax=axs[1], show=False)\n",
    "\n",
    "plt.suptitle(\"Gene expression - single cells\")\n",
    "plt.tight_layout()\n",
    "\n",
    "plt.show()\n"
   ]
  },
  {
   "cell_type": "markdown",
   "id": "213559ad",
   "metadata": {},
   "source": [
    "Visualize the cell population-specific metacells in PCA and UMAP embeddings."
   ]
  },
  {
   "cell_type": "code",
   "execution_count": 26,
   "id": "aa3ab719",
   "metadata": {},
   "outputs": [
    {
     "name": "stderr",
     "output_type": "stream",
     "text": [
      "/Users/lucazanella7/mambaforge/lib/python3.10/site-packages/scanpy/plotting/_tools/scatterplots.py:369: UserWarning: No data for colormapping provided via 'c'. Parameters 'cmap' will be ignored\n",
      "  ax.scatter(\n",
      "/Users/lucazanella7/mambaforge/lib/python3.10/site-packages/scanpy/plotting/_tools/scatterplots.py:379: UserWarning: No data for colormapping provided via 'c'. Parameters 'cmap' will be ignored\n",
      "  ax.scatter(\n",
      "/Users/lucazanella7/mambaforge/lib/python3.10/site-packages/scanpy/plotting/_tools/scatterplots.py:392: UserWarning: No data for colormapping provided via 'c'. Parameters 'cmap' will be ignored\n",
      "  cax = scatter(\n",
      "/Users/lucazanella7/mambaforge/lib/python3.10/site-packages/scanpy/plotting/_tools/scatterplots.py:369: UserWarning: No data for colormapping provided via 'c'. Parameters 'cmap' will be ignored\n",
      "  ax.scatter(\n",
      "/Users/lucazanella7/mambaforge/lib/python3.10/site-packages/scanpy/plotting/_tools/scatterplots.py:379: UserWarning: No data for colormapping provided via 'c'. Parameters 'cmap' will be ignored\n",
      "  ax.scatter(\n",
      "/Users/lucazanella7/mambaforge/lib/python3.10/site-packages/scanpy/plotting/_tools/scatterplots.py:392: UserWarning: No data for colormapping provided via 'c'. Parameters 'cmap' will be ignored\n",
      "  cax = scatter(\n"
     ]
    },
    {
     "data": {
      "image/png": "[encoded data removed]",
      "text/plain": [
       "<Figure size 1000x350 with 2 Axes>"
      ]
     },
     "metadata": {},
     "output_type": "display_data"
    }
   ],
   "source": [
    "fig, axs = plt.subplots(1, 2, figsize=(10, 3.5))\n",
    "\n",
    "with rc_context({'figure.figsize': (3.5, 3.5)}):\n",
    "    sc.pl.pca(adata_metacell, color=\"Cell_Type\", use_raw=False, palette=\"Set2\", title=\"PCA by Cell Types\", add_outline=True, ax=axs[0], show=False)\n",
    "with rc_context({'figure.figsize': (3.5, 3.5)}):\n",
    "    sc.pl.umap(adata_metacell, color=\"Cell_Type\", use_raw=False, palette=\"Set2\", title=\"UMAP by Cell Types\", add_outline=True, ax=axs[1], show=False)\n",
    "plt.suptitle(\"Gene expression - metacells\")\n",
    "plt.tight_layout()\n",
    "\n",
    "plt.show()"
   ]
  },
  {
   "cell_type": "markdown",
   "id": "d598b66e",
   "metadata": {},
   "source": [
    "The cell type distribution is consistent between single-cells and metacells, with stellate cells and fibroblasts partially overlapping in the PCA as expected, and all the three lineages been separated along the directions of maximal variance."
   ]
  },
  {
   "cell_type": "markdown",
   "id": "b1e82953",
   "metadata": {},
   "source": [
    "### Key takeaways\n",
    "<a id='4'></a>\n",
    "This Tutorial describes how to generate metacells with pyVIPER. Metacells can be used for pseudo-bulk analysis of specific cellular populations or as input to ARACNe, when the original cell depth is not adequate to robustly infer regulatory networks (typically below 10,000 UMI/cell). The `repr_metacell` function computes several metacell-associated statistics and allows the users to specify several parameter combinations, among which the current Tutorial provides three examples."
   ]
  }
 ],
 "metadata": {
  "kernelspec": {
   "display_name": "Python 3 (ipykernel)",
   "language": "python",
   "name": "python3"
  },
  "language_info": {
   "codemirror_mode": {
    "name": "ipython",
    "version": 3
   },
   "file_extension": ".py",
   "mimetype": "text/x-python",
   "name": "python",
   "nbconvert_exporter": "python",
   "pygments_lexer": "ipython3",
   "version": "3.10.12"
  }
 },
 "nbformat": 4,
 "nbformat_minor": 5
}
