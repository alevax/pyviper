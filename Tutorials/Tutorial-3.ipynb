{
 "cells": [
  {
   "cell_type": "markdown",
   "id": "4a3d0b1b",
   "metadata": {},
   "source": [
    "# Tutorial 3 - Generating Metacells for ARACNe3 network generation and VIPER protein activity analysis\n"
   ]
  },
  {
   "cell_type": "markdown",
   "id": "b1d09a5d",
   "metadata": {},
   "source": [
    "This tutorial explores different approaches of generating metacells for a scRNA-seq dataset. Metacells can potentially reduce sparseness in single-cell transcriptomics and improve protein activity inference and computational efficiency. For ARACNe3's mutual information estimation, it is vital to have metacells that are independent and identically distributed. Therefore, we have implemented a weighted random sampling approach with a probability decay to disincentivize re-using the same single-cell expression profiles to create multiple metacells.\n",
    "\n"
   ]
  },
  {
   "cell_type": "markdown",
   "id": "03b2b639",
   "metadata": {},
   "source": [
    "## Install Pyviper"
   ]
  },
  {
   "cell_type": "markdown",
   "id": "005e63a1",
   "metadata": {},
   "source": [
    "Install pyviper from PyPI using pip. Alternatively, refer to the README in the current GitHub to install from the local directory."
   ]
  },
  {
   "cell_type": "code",
   "execution_count": 1,
   "id": "309d7375",
   "metadata": {
    "execution": {
     "iopub.execute_input": "2023-12-14T20:41:44.571678Z",
     "iopub.status.busy": "2023-12-14T20:41:44.571435Z",
     "iopub.status.idle": "2023-12-14T20:41:44.574614Z",
     "shell.execute_reply": "2023-12-14T20:41:44.573845Z",
     "shell.execute_reply.started": "2023-12-14T20:41:44.571626Z"
    }
   },
   "outputs": [],
   "source": [
    "#!pip install viper-in-python"
   ]
  },
  {
   "cell_type": "markdown",
   "id": "e2590a58",
   "metadata": {},
   "source": [
    "## Import modules"
   ]
  },
  {
   "cell_type": "code",
   "execution_count": 2,
   "id": "41321fbe",
   "metadata": {
    "execution": {
     "iopub.execute_input": "2023-12-14T20:41:44.576278Z",
     "iopub.status.busy": "2023-12-14T20:41:44.576122Z",
     "iopub.status.idle": "2023-12-14T20:41:46.767184Z",
     "shell.execute_reply": "2023-12-14T20:41:46.766449Z",
     "shell.execute_reply.started": "2023-12-14T20:41:44.576262Z"
    }
   },
   "outputs": [],
   "source": [
    "import pyviper\n",
    "import scanpy as sc\n",
    "import anndata \n",
    "import pandas as pd\n",
    "import numpy as np\n",
    "import matplotlib.pyplot as plt\n",
    "from sklearn.metrics import silhouette_samples\n",
    "\n",
    "import warnings\n",
    "warnings.filterwarnings(\"ignore\", message=\".*The 'nopython' keyword.*\") # for jit decorator issue with sc.pp.neighbors (09/30/2023)"
   ]
  },
  {
   "cell_type": "markdown",
   "id": "d428eb41",
   "metadata": {},
   "source": [
    "## Step 1. Load a gene expression matrix and associated metadata"
   ]
  },
  {
   "cell_type": "markdown",
   "id": "f87fa973",
   "metadata": {},
   "source": [
    "Load the same gene expression matrix (UMIs) as tutorial 2 and store it into an AnnData object to enable interoperability with scanpy. Cells used in this tutorial were sampled from scRNA-seq data published in Peng et al., 2019."
   ]
  },
  {
   "cell_type": "markdown",
   "id": "58b682d6",
   "metadata": {},
   "source": [
    "Display matrix dimensions (cells x genes)"
   ]
  },
  {
   "cell_type": "code",
   "execution_count": 3,
   "id": "03cb7f44",
   "metadata": {
    "execution": {
     "iopub.execute_input": "2023-12-14T20:41:46.768058Z",
     "iopub.status.busy": "2023-12-14T20:41:46.767849Z",
     "iopub.status.idle": "2023-12-14T20:42:22.396907Z",
     "shell.execute_reply": "2023-12-14T20:42:22.396498Z",
     "shell.execute_reply.started": "2023-12-14T20:41:46.768042Z"
    }
   },
   "outputs": [],
   "source": [
    "gExpr_url = \"https://zenodo.org/records/10059791/files/Tutorial_2_counts_mixed_4632.tsv.gz\" # path to gene expression matrix (UMI counts)\n",
    "adata_gExpr = pd.read_csv(gExpr_url, sep=\"\\t\") # read from remote \n",
    "adata_gExpr = sc.AnnData(adata_gExpr) # convert to AnnData object"
   ]
  },
  {
   "cell_type": "markdown",
   "id": "717ba697",
   "metadata": {},
   "source": [
    "Load cell-associated metadata. Metadata are stored on GitHub."
   ]
  },
  {
   "cell_type": "code",
   "execution_count": 4,
   "id": "d694957f",
   "metadata": {
    "execution": {
     "iopub.execute_input": "2023-12-14T20:42:22.397916Z",
     "iopub.status.busy": "2023-12-14T20:42:22.397751Z",
     "iopub.status.idle": "2023-12-14T20:42:23.009847Z",
     "shell.execute_reply": "2023-12-14T20:42:23.009221Z",
     "shell.execute_reply.started": "2023-12-14T20:42:22.397901Z"
    }
   },
   "outputs": [],
   "source": [
    "metadata_url = \"https://zenodo.org/records/10059791/files/Tutorial_2_metadata_mixed_4632.tsv.gz\" # path to cells metadata\n",
    "cells_metadata = pd.read_csv(metadata_url, sep=\"\\t\")  # load it"
   ]
  },
  {
   "cell_type": "markdown",
   "id": "149296dd",
   "metadata": {},
   "source": [
    "Store the metadata in the adata_gExpr object as observation annotation."
   ]
  },
  {
   "cell_type": "code",
   "execution_count": 5,
   "id": "8b87dd88",
   "metadata": {
    "execution": {
     "iopub.execute_input": "2023-12-14T20:42:23.012504Z",
     "iopub.status.busy": "2023-12-14T20:42:23.012163Z",
     "iopub.status.idle": "2023-12-14T20:42:23.021637Z",
     "shell.execute_reply": "2023-12-14T20:42:23.020985Z",
     "shell.execute_reply.started": "2023-12-14T20:42:23.012468Z"
    }
   },
   "outputs": [],
   "source": [
    "adata_gExpr.obs = pd.merge(adata_gExpr.obs, cells_metadata, how=\"left\",left_index=True, right_index=True) # store cell-specific metadata as annotation observation"
   ]
  },
  {
   "cell_type": "markdown",
   "id": "0c53b0d3",
   "metadata": {},
   "source": [
    "Display the observation annotation from the AnnData object."
   ]
  },
  {
   "cell_type": "code",
   "execution_count": 6,
   "id": "9ebe2776",
   "metadata": {
    "execution": {
     "iopub.execute_input": "2023-12-14T20:42:23.022810Z",
     "iopub.status.busy": "2023-12-14T20:42:23.022626Z",
     "iopub.status.idle": "2023-12-14T20:42:23.032801Z",
     "shell.execute_reply": "2023-12-14T20:42:23.032176Z",
     "shell.execute_reply.started": "2023-12-14T20:42:23.022792Z"
    }
   },
   "outputs": [
    {
     "data": {
      "text/html": [
       "<div>\n",
       "<style scoped>\n",
       "    .dataframe tbody tr th:only-of-type {\n",
       "        vertical-align: middle;\n",
       "    }\n",
       "\n",
       "    .dataframe tbody tr th {\n",
       "        vertical-align: top;\n",
       "    }\n",
       "\n",
       "    .dataframe thead th {\n",
       "        text-align: right;\n",
       "    }\n",
       "</style>\n",
       "<table border=\"1\" class=\"dataframe\">\n",
       "  <thead>\n",
       "    <tr style=\"text-align: right;\">\n",
       "      <th></th>\n",
       "      <th>Cell_Type</th>\n",
       "    </tr>\n",
       "  </thead>\n",
       "  <tbody>\n",
       "    <tr>\n",
       "      <th>T1_AACCATGCACAACTGT</th>\n",
       "      <td>Ductal cell type 2</td>\n",
       "    </tr>\n",
       "    <tr>\n",
       "      <th>T1_AAGACCTAGTCATGCT</th>\n",
       "      <td>Ductal cell type 2</td>\n",
       "    </tr>\n",
       "    <tr>\n",
       "      <th>T1_ACATACGAGACTCGGA</th>\n",
       "      <td>Ductal cell type 2</td>\n",
       "    </tr>\n",
       "    <tr>\n",
       "      <th>T1_ACCAGTATCTTGCAAG</th>\n",
       "      <td>Ductal cell type 2</td>\n",
       "    </tr>\n",
       "    <tr>\n",
       "      <th>T1_ACGATGTTCACGAAGG</th>\n",
       "      <td>Ductal cell type 2</td>\n",
       "    </tr>\n",
       "  </tbody>\n",
       "</table>\n",
       "</div>"
      ],
      "text/plain": [
       "                              Cell_Type\n",
       "T1_AACCATGCACAACTGT  Ductal cell type 2\n",
       "T1_AAGACCTAGTCATGCT  Ductal cell type 2\n",
       "T1_ACATACGAGACTCGGA  Ductal cell type 2\n",
       "T1_ACCAGTATCTTGCAAG  Ductal cell type 2\n",
       "T1_ACGATGTTCACGAAGG  Ductal cell type 2"
      ]
     },
     "execution_count": 6,
     "metadata": {},
     "output_type": "execute_result"
    }
   ],
   "source": [
    "adata_gExpr.obs.head()"
   ]
  },
  {
   "cell_type": "markdown",
   "id": "15319a83",
   "metadata": {},
   "source": [
    "The observation annotations include the patient from which each cell was sequenced and the annotated cell type. List the cell types."
   ]
  },
  {
   "cell_type": "code",
   "execution_count": 7,
   "id": "87a47a53",
   "metadata": {
    "execution": {
     "iopub.execute_input": "2023-12-14T20:42:23.033921Z",
     "iopub.status.busy": "2023-12-14T20:42:23.033592Z",
     "iopub.status.idle": "2023-12-14T20:42:23.043857Z",
     "shell.execute_reply": "2023-12-14T20:42:23.043397Z",
     "shell.execute_reply.started": "2023-12-14T20:42:23.033899Z"
    }
   },
   "outputs": [
    {
     "data": {
      "text/html": [
       "<div>\n",
       "<style scoped>\n",
       "    .dataframe tbody tr th:only-of-type {\n",
       "        vertical-align: middle;\n",
       "    }\n",
       "\n",
       "    .dataframe tbody tr th {\n",
       "        vertical-align: top;\n",
       "    }\n",
       "\n",
       "    .dataframe thead th {\n",
       "        text-align: right;\n",
       "    }\n",
       "</style>\n",
       "<table border=\"1\" class=\"dataframe\">\n",
       "  <thead>\n",
       "    <tr style=\"text-align: right;\">\n",
       "      <th></th>\n",
       "      <th>Cell_Type</th>\n",
       "      <th>n</th>\n",
       "    </tr>\n",
       "  </thead>\n",
       "  <tbody>\n",
       "    <tr>\n",
       "      <th>0</th>\n",
       "      <td>B cell</td>\n",
       "      <td>1000</td>\n",
       "    </tr>\n",
       "    <tr>\n",
       "      <th>1</th>\n",
       "      <td>Ductal cell type 2</td>\n",
       "      <td>1455</td>\n",
       "    </tr>\n",
       "    <tr>\n",
       "      <th>2</th>\n",
       "      <td>Fibroblast cell</td>\n",
       "      <td>1277</td>\n",
       "    </tr>\n",
       "    <tr>\n",
       "      <th>3</th>\n",
       "      <td>Stellate cell</td>\n",
       "      <td>900</td>\n",
       "    </tr>\n",
       "  </tbody>\n",
       "</table>\n",
       "</div>"
      ],
      "text/plain": [
       "            Cell_Type     n\n",
       "0              B cell  1000\n",
       "1  Ductal cell type 2  1455\n",
       "2     Fibroblast cell  1277\n",
       "3       Stellate cell   900"
      ]
     },
     "execution_count": 7,
     "metadata": {},
     "output_type": "execute_result"
    }
   ],
   "source": [
    "adata_gExpr.obs.groupby('Cell_Type').size().reset_index(name='n') # show cell types and number of cells for each type in AnnData"
   ]
  },
  {
   "cell_type": "markdown",
   "id": "808dc5f7",
   "metadata": {},
   "source": [
    "## Step 2. Perform basic preprocessing and clustering"
   ]
  },
  {
   "cell_type": "markdown",
   "id": "8f1c795e",
   "metadata": {},
   "source": [
    "First, we can perform some preprocessing. The UMI matrix can be processed using the standard Scanpy preprocessing workflow. Since the quality of the provided data was pre-assessed and found to be high, cell filtering will be minimal. For a more detailed explanation of QC steps, refer to the preprocessing tutorials at Scanpy or Seurat.\n",
    "\n",
    "If we want to generate metacells for each cell type, we eventually need to generate a nearest neighbor graph and then compute silouhette scores."
   ]
  },
  {
   "cell_type": "code",
   "execution_count": 8,
   "id": "08d3b344",
   "metadata": {
    "execution": {
     "iopub.execute_input": "2023-12-14T20:42:23.044788Z",
     "iopub.status.busy": "2023-12-14T20:42:23.044597Z",
     "iopub.status.idle": "2023-12-14T20:42:31.500470Z",
     "shell.execute_reply": "2023-12-14T20:42:31.500055Z",
     "shell.execute_reply.started": "2023-12-14T20:42:23.044768Z"
    }
   },
   "outputs": [],
   "source": [
    "sc.pp.calculate_qc_metrics(adata_gExpr, inplace=True)\n",
    "sc.pp.filter_cells(adata_gExpr, min_genes=200) # filter out cells with <200 genes expressed\n",
    "sc.pp.filter_genes(adata_gExpr, min_cells=3) # filter out genes that are detected in <3 cells\n",
    "\n",
    "#adata_gExpr = calcMitoRiboPercent(adata_gExpr)\n",
    "#adata_gExpr = filterCellsHighMito(adata_gExpr,0.2)\n",
    "\n",
    "sc.pp.normalize_total(adata_gExpr, inplace=True,target_sum=1e4)\n",
    "sc.pp.log1p(adata_gExpr)\n",
    "sc.pp.highly_variable_genes(adata_gExpr, flavor=\"seurat\", n_top_genes=3000, inplace=True)\n",
    "\n",
    "adata_gExpr.raw = adata_gExpr\n",
    "\n",
    "sc.pp.scale(adata_gExpr)\n",
    "\n"
   ]
  },
  {
   "cell_type": "markdown",
   "id": "7432b70c",
   "metadata": {},
   "source": [
    "## 3. Generate Metacells "
   ]
  },
  {
   "cell_type": "markdown",
   "id": "92daf50e",
   "metadata": {},
   "source": [
    "First, we will compute silhouette scores for the cells using their principal components. Then, we will pass the Anndata object with silhouette scores into pyviper's function generating metacells. This function uses a probability re-weighting approach to incentivize different minimal overlap of single cells in multiple metacells. This probability decay approach can be used with the \"use_decay\" and \"decay_factor\" parameters. "
   ]
  },
  {
   "cell_type": "markdown",
   "id": "227ea7cd",
   "metadata": {},
   "source": [
    "The new dataset with generated metacells will be stored in experiment_dir_path under the subfolder with_penalty or without_penalty, depending on whether use_decay is set to True or False, respectively. For each folder, there will be further subfolders for n_cells_per_metacell. This is to aid organization, especially since one could want to compare results across different number of cells per metacell or the use of penalty."
   ]
  },
  {
   "cell_type": "code",
   "execution_count": 9,
   "id": "ce8c7727",
   "metadata": {
    "execution": {
     "iopub.execute_input": "2023-12-14T20:42:31.501524Z",
     "iopub.status.busy": "2023-12-14T20:42:31.501116Z",
     "iopub.status.idle": "2023-12-14T20:42:33.299039Z",
     "shell.execute_reply": "2023-12-14T20:42:33.298309Z",
     "shell.execute_reply.started": "2023-12-14T20:42:31.501506Z"
    }
   },
   "outputs": [],
   "source": [
    "sc.tl.pca(adata_gExpr, svd_solver='arpack', random_state=666)\n",
    "adata_gExpr.obs[\"silhouette_score\"] = silhouette_samples(X=adata_gExpr.obsm['X_pca'], labels=adata_gExpr.obs[\"Cell_Type\"])\n",
    "\n"
   ]
  },
  {
   "cell_type": "code",
   "execution_count": 10,
   "id": "91ccd7e8",
   "metadata": {
    "execution": {
     "iopub.execute_input": "2023-12-14T20:42:33.300462Z",
     "iopub.status.busy": "2023-12-14T20:42:33.300165Z",
     "iopub.status.idle": "2023-12-14T20:43:09.599540Z",
     "shell.execute_reply": "2023-12-14T20:43:09.598763Z",
     "shell.execute_reply.started": "2023-12-14T20:42:33.300441Z"
    }
   },
   "outputs": [
    {
     "name": "stdout",
     "output_type": "stream",
     "text": [
      "Good quality cells  1000\n"
     ]
    },
    {
     "data": {
      "application/vnd.jupyter.widget-view+json": {
       "model_id": "62da51ecc51a4aae8090451c9dc7c437",
       "version_major": 2,
       "version_minor": 0
      },
      "text/plain": [
       "Metacells for Cluster: B cell:   0%|          | 0/200 [00:00<?, ?it/s]"
      ]
     },
     "metadata": {},
     "output_type": "display_data"
    },
    {
     "name": "stdout",
     "output_type": "stream",
     "text": [
      "(200, 20197)\n",
      "Good quality cells  1455\n"
     ]
    },
    {
     "data": {
      "application/vnd.jupyter.widget-view+json": {
       "model_id": "769a257bb8944883b11a650cabe6fef9",
       "version_major": 2,
       "version_minor": 0
      },
      "text/plain": [
       "Metacells for Cluster: Ductal cell type 2:   0%|          | 0/291 [00:00<?, ?it/s]"
      ]
     },
     "metadata": {},
     "output_type": "display_data"
    },
    {
     "name": "stdout",
     "output_type": "stream",
     "text": [
      "(200, 20197)\n",
      "(291, 20197)\n",
      "Good quality cells  1277\n"
     ]
    },
    {
     "data": {
      "application/vnd.jupyter.widget-view+json": {
       "model_id": "d989511299db47fcb34601b2dc67a496",
       "version_major": 2,
       "version_minor": 0
      },
      "text/plain": [
       "Metacells for Cluster: Fibroblast cell:   0%|          | 0/255 [00:00<?, ?it/s]"
      ]
     },
     "metadata": {},
     "output_type": "display_data"
    },
    {
     "name": "stdout",
     "output_type": "stream",
     "text": [
      "(200, 20197)\n",
      "(291, 20197)\n",
      "(255, 20197)\n",
      "Good quality cells  900\n"
     ]
    },
    {
     "data": {
      "application/vnd.jupyter.widget-view+json": {
       "model_id": "523011a962e24763b915c699203c1fff",
       "version_major": 2,
       "version_minor": 0
      },
      "text/plain": [
       "Metacells for Cluster: Stellate cell:   0%|          | 0/180 [00:00<?, ?it/s]"
      ]
     },
     "metadata": {},
     "output_type": "display_data"
    },
    {
     "name": "stdout",
     "output_type": "stream",
     "text": [
      "(200, 20197)\n",
      "(291, 20197)\n",
      "(255, 20197)\n",
      "(180, 20197)\n"
     ]
    },
    {
     "name": "stderr",
     "output_type": "stream",
     "text": [
      "/Users/av2729/opt/anaconda3/envs/single-cell-env-scvi/lib/python3.8/site-packages/scanpy/preprocessing/_normalization.py:197: UserWarning: Some cells have zero counts\n",
      "  warn(UserWarning('Some cells have zero counts'))\n"
     ]
    },
    {
     "name": "stdout",
     "output_type": "stream",
     "text": [
      "(926, 20197)\n"
     ]
    }
   ],
   "source": [
    "adata_metacell = pyviper.pp.generateMetacellAnnData(arg0=adata_gExpr,\n",
    "                                         method=\"relative\",\n",
    "                                         cluster_label=\"Cell_Type\",\n",
    "                                         n_metacells=10000, #not used\n",
    "                                         n_metacells_per_cluster=500,\n",
    "                                         n_neighbors = 25,\n",
    "                                         n_cells_per_metacell= 5, \n",
    "                                         experiment_dir_path=\"\",\n",
    "                                         use_decay=True,\n",
    "                                         decay_factor= 0.10)"
   ]
  },
  {
   "cell_type": "markdown",
   "id": "a65acb57",
   "metadata": {},
   "source": [
    "After metacells are generated, we want to ensure that the distribution of single cells and metacells is qualitatively similar in UMAP space."
   ]
  },
  {
   "cell_type": "code",
   "execution_count": 11,
   "id": "719d17dd",
   "metadata": {
    "execution": {
     "iopub.execute_input": "2023-12-14T20:43:09.601354Z",
     "iopub.status.busy": "2023-12-14T20:43:09.601062Z",
     "iopub.status.idle": "2023-12-14T20:43:18.101186Z",
     "shell.execute_reply": "2023-12-14T20:43:18.100220Z",
     "shell.execute_reply.started": "2023-12-14T20:43:09.601332Z"
    }
   },
   "outputs": [
    {
     "data": {
      "image/png": "[encoded data removed]",
      "text/plain": [
       "<Figure size 432x288 with 1 Axes>"
      ]
     },
     "metadata": {},
     "output_type": "display_data"
    }
   ],
   "source": [
    "sc.pp.neighbors(adata_gExpr, n_neighbors=15, n_pcs=30)\n",
    "sc.tl.umap(adata_gExpr)\n",
    "sc.pl.umap(adata_gExpr,color = \"Cell_Type\", use_raw=False, palette=\"Set2\", title = \"UMAP by Cell Types\")"
   ]
  },
  {
   "cell_type": "code",
   "execution_count": 12,
   "id": "fd0ec09e",
   "metadata": {
    "execution": {
     "iopub.execute_input": "2023-12-14T20:43:18.103560Z",
     "iopub.status.busy": "2023-12-14T20:43:18.103022Z",
     "iopub.status.idle": "2023-12-14T20:43:23.144853Z",
     "shell.execute_reply": "2023-12-14T20:43:23.144166Z",
     "shell.execute_reply.started": "2023-12-14T20:43:18.103521Z"
    }
   },
   "outputs": [
    {
     "data": {
      "image/png": "[encoded data removed]",
      "text/plain": [
       "<Figure size 432x288 with 1 Axes>"
      ]
     },
     "metadata": {},
     "output_type": "display_data"
    }
   ],
   "source": [
    "sc.tl.pca(adata_metacell, svd_solver='arpack', random_state=666)\n",
    "sc.pp.neighbors(adata_metacell, n_neighbors=15, n_pcs=30)\n",
    "sc.tl.umap(adata_metacell)\n",
    "sc.pl.umap(adata_metacell,color = \"Cell_Type\", use_raw=False, palette=\"Set2\", title = \"UMAP by Cell Types - Metacells\")"
   ]
  },
  {
   "cell_type": "markdown",
   "id": "92029de5",
   "metadata": {},
   "source": [
    "We notice that there are still two distinct clusters of B cells and of Fibroblast cells, but some B cells are not closer to Stellate cells and Fibroblast cells in UMAP space. We can perform this without a penalty to compare, and then we can also see that the distribution of cells re-used in different metacells has changed due to the penalty."
   ]
  },
  {
   "cell_type": "code",
   "execution_count": 13,
   "id": "f89b35d1",
   "metadata": {
    "execution": {
     "iopub.execute_input": "2023-12-14T20:43:23.146353Z",
     "iopub.status.busy": "2023-12-14T20:43:23.146097Z",
     "iopub.status.idle": "2023-12-14T20:43:53.117308Z",
     "shell.execute_reply": "2023-12-14T20:43:53.116536Z",
     "shell.execute_reply.started": "2023-12-14T20:43:23.146331Z"
    }
   },
   "outputs": [
    {
     "name": "stdout",
     "output_type": "stream",
     "text": [
      "Good quality cells  1000\n"
     ]
    },
    {
     "data": {
      "application/vnd.jupyter.widget-view+json": {
       "model_id": "532a9c33e6d64c5da799e4a68d49f5e6",
       "version_major": 2,
       "version_minor": 0
      },
      "text/plain": [
       "Metacells for Cluster: B cell:   0%|          | 0/200 [00:00<?, ?it/s]"
      ]
     },
     "metadata": {},
     "output_type": "display_data"
    },
    {
     "name": "stdout",
     "output_type": "stream",
     "text": [
      "(200, 20197)\n",
      "Good quality cells  1455\n"
     ]
    },
    {
     "data": {
      "application/vnd.jupyter.widget-view+json": {
       "model_id": "90ca73d993b74a1f898b4e1452ef50e4",
       "version_major": 2,
       "version_minor": 0
      },
      "text/plain": [
       "Metacells for Cluster: Ductal cell type 2:   0%|          | 0/291 [00:00<?, ?it/s]"
      ]
     },
     "metadata": {},
     "output_type": "display_data"
    },
    {
     "name": "stdout",
     "output_type": "stream",
     "text": [
      "(200, 20197)\n",
      "(291, 20197)\n",
      "Good quality cells  1277\n"
     ]
    },
    {
     "data": {
      "application/vnd.jupyter.widget-view+json": {
       "model_id": "0f2f805195754cae9bfc62b60709e28a",
       "version_major": 2,
       "version_minor": 0
      },
      "text/plain": [
       "Metacells for Cluster: Fibroblast cell:   0%|          | 0/255 [00:00<?, ?it/s]"
      ]
     },
     "metadata": {},
     "output_type": "display_data"
    },
    {
     "name": "stdout",
     "output_type": "stream",
     "text": [
      "(200, 20197)\n",
      "(291, 20197)\n",
      "(255, 20197)\n",
      "Good quality cells  900\n"
     ]
    },
    {
     "data": {
      "application/vnd.jupyter.widget-view+json": {
       "model_id": "88c53e29b66e455b8e6af8114f00d48e",
       "version_major": 2,
       "version_minor": 0
      },
      "text/plain": [
       "Metacells for Cluster: Stellate cell:   0%|          | 0/180 [00:00<?, ?it/s]"
      ]
     },
     "metadata": {},
     "output_type": "display_data"
    },
    {
     "name": "stdout",
     "output_type": "stream",
     "text": [
      "(200, 20197)\n",
      "(291, 20197)\n",
      "(255, 20197)\n",
      "(180, 20197)\n"
     ]
    },
    {
     "name": "stderr",
     "output_type": "stream",
     "text": [
      "/Users/av2729/opt/anaconda3/envs/single-cell-env-scvi/lib/python3.8/site-packages/scanpy/preprocessing/_normalization.py:197: UserWarning: Some cells have zero counts\n",
      "  warn(UserWarning('Some cells have zero counts'))\n"
     ]
    },
    {
     "name": "stdout",
     "output_type": "stream",
     "text": [
      "(926, 20197)\n"
     ]
    }
   ],
   "source": [
    "adata_metacell_nopenalty = pyviper.pp.generateMetacellAnnData(arg0=adata_gExpr,\n",
    "                                         method=\"relative\",\n",
    "                                         cluster_label=\"Cell_Type\",\n",
    "                                         n_metacells=10000, #not used\n",
    "                                         n_metacells_per_cluster=500,\n",
    "                                         n_neighbors = 25,\n",
    "                                         n_cells_per_metacell= 5, \n",
    "                                         experiment_dir_path=\"\",\n",
    "                                         use_decay=False) #decay factor will not matter now that use_decay is false"
   ]
  },
  {
   "cell_type": "code",
   "execution_count": 14,
   "id": "18fb72a1",
   "metadata": {
    "execution": {
     "iopub.execute_input": "2023-12-14T20:43:53.122493Z",
     "iopub.status.busy": "2023-12-14T20:43:53.122186Z",
     "iopub.status.idle": "2023-12-14T20:43:57.644929Z",
     "shell.execute_reply": "2023-12-14T20:43:57.644298Z",
     "shell.execute_reply.started": "2023-12-14T20:43:53.122469Z"
    }
   },
   "outputs": [
    {
     "data": {
      "image/png": "[encoded data removed]",
      "text/plain": [
       "<Figure size 432x288 with 1 Axes>"
      ]
     },
     "metadata": {},
     "output_type": "display_data"
    }
   ],
   "source": [
    "sc.tl.pca(adata_metacell_nopenalty, svd_solver='arpack', random_state=666)\n",
    "sc.pp.neighbors(adata_metacell_nopenalty, n_neighbors=15, n_pcs=30)\n",
    "sc.tl.umap(adata_metacell_nopenalty)\n",
    "sc.pl.umap(adata_metacell_nopenalty,color = \"Cell_Type\", use_raw=False, palette=\"Set2\", title = \"UMAP by Cell Types - Metacells\")"
   ]
  },
  {
   "cell_type": "markdown",
   "id": "30b069e4",
   "metadata": {},
   "source": [
    "We observe a similar general distribution of metacells in UMAP space. We can quantitatively identify whether a penalty achieves our desired goal of minimizing overlap across metacells."
   ]
  },
  {
   "cell_type": "code",
   "execution_count": 15,
   "id": "0eb60fe6",
   "metadata": {
    "execution": {
     "iopub.execute_input": "2023-12-14T20:43:57.646793Z",
     "iopub.status.busy": "2023-12-14T20:43:57.646367Z",
     "iopub.status.idle": "2023-12-14T20:43:57.667193Z",
     "shell.execute_reply": "2023-12-14T20:43:57.665935Z",
     "shell.execute_reply.started": "2023-12-14T20:43:57.646764Z"
    }
   },
   "outputs": [],
   "source": [
    "#this works if you are working on the source directory of the jupyter notebook\n",
    "metacell_counts_penalty = pd.read_csv(\"with_penalty/5/metacell_counts_5.csv\")\n",
    "metacell_counts_nopenalty = pd.read_csv(\"without_penalty/5/metacell_counts_5.csv\")"
   ]
  },
  {
   "cell_type": "code",
   "execution_count": 16,
   "id": "e12042ff",
   "metadata": {
    "execution": {
     "iopub.execute_input": "2023-12-14T20:43:57.669819Z",
     "iopub.status.busy": "2023-12-14T20:43:57.669386Z",
     "iopub.status.idle": "2023-12-14T20:43:58.016744Z",
     "shell.execute_reply": "2023-12-14T20:43:58.016018Z",
     "shell.execute_reply.started": "2023-12-14T20:43:57.669795Z"
    }
   },
   "outputs": [
    {
     "data": {
      "image/png": "[encoded data removed]",
      "text/plain": [
       "<Figure size 864x576 with 2 Axes>"
      ]
     },
     "metadata": {
      "needs_background": "light"
     },
     "output_type": "display_data"
    }
   ],
   "source": [
    "# Create and save histograms and bar plots for the cluster\n",
    "fig, axes = plt.subplots(2, 1, figsize=(12, 8))\n",
    "fig.suptitle(f\"Histograms of Counts - Cell Types\")\n",
    "\n",
    "# Plot histograms for \"Penalty\" and \"No Penalty\", 5 and 10 cells per metacell\n",
    "def plot_bar(ax, data, title):\n",
    "    unique_counts = data[\"Count\"].value_counts().sort_index()\n",
    "    counts = unique_counts.index\n",
    "    frequencies = unique_counts.values\n",
    "    ax.bar(counts, frequencies, width=0.8, color=\"blue\", alpha=0.7)\n",
    "    ax.set_title(title)\n",
    "    ax.set_xlabel(\"Count\")\n",
    "    ax.set_ylabel(\"Frequency\")\n",
    "    ax.grid(axis=\"y\")\n",
    "    \n",
    "plot_bar(axes[0], metacell_counts_nopenalty, \"5 Cells per Metacell - No Penalty\")\n",
    "plot_bar(axes[1], metacell_counts_penalty, \"5 Cells per Metacell - Penalty\")\n",
    "\n",
    "# Add labels\n",
    "for ax in axes.flat:\n",
    "    ax.set(xlabel=\"Count\", ylabel=\"Frequency\")\n",
    "\n",
    "# Adjust spacing between subplots\n",
    "plt.tight_layout(rect=[0, 0.03, 1, 0.95])\n",
    "\n",
    "\n"
   ]
  },
  {
   "cell_type": "markdown",
   "id": "aa207e98",
   "metadata": {},
   "source": [
    "Using a probability penalty, we have changed from a right tailed distribution to one that peaks at 1, indicating that most of the single cells are selected only once in a metacell. "
   ]
  },
  {
   "cell_type": "markdown",
   "id": "34cd192d",
   "metadata": {},
   "source": [
    "Now, the metacell datasets can be used to build ARACNe3 networks which can then be used for Py-VIPER analysis."
   ]
  }
 ],
 "metadata": {
  "kernelspec": {
   "display_name": "Python 3 (ipykernel)",
   "language": "python",
   "name": "python3"
  },
  "language_info": {
   "codemirror_mode": {
    "name": "ipython",
    "version": 3
   },
   "file_extension": ".py",
   "mimetype": "text/x-python",
   "name": "python",
   "nbconvert_exporter": "python",
   "pygments_lexer": "ipython3",
   "version": "3.8.17"
  }
 },
 "nbformat": 4,
 "nbformat_minor": 5
}
