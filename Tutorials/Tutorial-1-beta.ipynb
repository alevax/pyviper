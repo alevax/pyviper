{
 "cells": [
  {
   "cell_type": "markdown",
   "id": "ff17b11d-7920-49a8-9815-2bc78ad523a9",
   "metadata": {},
   "source": [
    "# Tutorial 1 - Analyzing scRNA-seq data at the Protein Activity Level\n",
    "\n",
    "This Tutorial will guide the user thorugh the analysis of single-cell RNA-seq (scRNA-seq) data at the Protein Activity level using `pyviper`. Specifically, we will show how to transform a gene expression signature generated from sparse scRNA-seq data into a protein activity matrix using the [VIPER](https://www.nature.com/articles/ng.3593) algorithm. After a brief description of the installation procedure and the modules needed, this Jupyter Notebook is organized in the following sections:\\\n",
    "\n",
    "[**Step 1**. Load a gene expression \"signature\" at the single cell-level](#1)\\\n",
    "[**Step 2**. Load a gene regulatory network inferred with ARACNe](#2)\\\n",
    "[**Step 3**. Analyze single-cells at the Protein Activity level](#3)\\\n",
    "[**Step 4**. Key Takeaways](#4)"
   ]
  },
  {
   "cell_type": "markdown",
   "id": "16a7cbdf-fc08-4747-b684-555ecf5d1313",
   "metadata": {},
   "source": [
    "### Install Pyviper\n",
    "Install `pyviper` from PyPI using pip. Alternatively, refer to the README in the current GitHub to install from the local directory."
   ]
  },
  {
   "cell_type": "code",
   "execution_count": null,
   "id": "71ce630d-c139-4a27-ad8e-5b3d12430e2b",
   "metadata": {
    "tags": []
   },
   "outputs": [],
   "source": [
    "# !pip install pyviper"
   ]
  },
  {
   "cell_type": "markdown",
   "id": "53d13fbe-6819-4373-aa02-f64322a80221",
   "metadata": {},
   "source": [
    "### Import modules"
   ]
  },
  {
   "cell_type": "code",
   "execution_count": 1,
   "id": "da076e9d-f5a6-44ad-b391-2d2ea45e3a79",
   "metadata": {
    "tags": []
   },
   "outputs": [],
   "source": [
    "import pyther\n",
    "import scanpy as sc\n",
    "import anndata \n",
    "import pandas as pd\n",
    "import numpy as np\n",
    "\n",
    "import warnings\n",
    "warnings.filterwarnings(\"ignore\", message=\".*The 'nopython' keyword.*\") # for jit decorator issue with sc.pp.neighbors (09/30/2023)"
   ]
  },
  {
   "cell_type": "markdown",
   "id": "a4501735-c097-4ae0-a4dd-de8ba00b44f1",
   "metadata": {
    "tags": []
   },
   "source": [
    "<a id='1'></a>\n",
    "### Step 1. Load a gene expression \"signature\" at the single-cell level\n",
    "Load gene expression signature to be used as input to the `viper` function for Protein Activity inference. Store the gene expression signature into an [AnnData](https://anndata.readthedocs.io/en/latest/) object to enable interoperability with [scanpy](https://scanpy-tutorials.readthedocs.io/en/latest/#). Display matrix dimensions with cells on rows and features (genes) on columns (after transposition). The gene expression signature was generated from a population of malignant ductal cells from publicly avaiable data from [Peng et al., 2019](https://www.nature.com/articles/s41422-019-0195-y). Please, refer to Tutorial 2 for additional details on how to generate a gene expression signature.  "
   ]
  },
  {
   "cell_type": "code",
   "execution_count": null,
   "id": "98beadb3-dcef-46f3-82ec-f042b1082c4a",
   "metadata": {
    "tags": []
   },
   "outputs": [],
   "source": [
    "gene_expr_url = \"https://zenodo.org/records/10056139/files/Tutorial_1_gExpr_fibroblast_5802.tsv.gz\"\n",
    "\n",
    "gene_expr_signature = pd.read_csv(gene_expr_url, sep=\"\\t\") # read from remote \n",
    "gene_expr_signature = sc.AnnData(gene_expr_signature) # convert to AnnData object\n",
    "\n",
    "gene_expr_signature"
   ]
  },
  {
   "cell_type": "markdown",
   "id": "4dc46149-9ad4-4c38-b45d-a24b756e1c3e",
   "metadata": {
    "tags": []
   },
   "source": [
    "<a id=\"2\"></a>\n",
    "## Step 2. Load a gene regulatory network inferred with ARACNe \n",
    "Load and inspect lineage-specific gene regulatory network generated with the ARACNe3. See [ARACNe3](https://www.mdpi.com/1099-4300/25/3/542) and [ARACNe-AP](https://pubmed.ncbi.nlm.nih.gov/27153652/) for additional information on current ARACNe implementations. "
   ]
  },
  {
   "cell_type": "code",
   "execution_count": null,
   "id": "15654554-8f94-49ea-a4cc-b24486c42604",
   "metadata": {
    "tags": []
   },
   "outputs": [],
   "source": [
    "network_path = \"https://zenodo.org/records/10056139/files/fibroblast-net.tsv\" # path to ARACNe network\n",
    "    \n",
    "network = pd.read_csv(network_path, delimiter=\"\\t\")"
   ]
  },
  {
   "cell_type": "markdown",
   "id": "0e34b0cb-fc52-4a61-85d3-50f30312ea9f",
   "metadata": {},
   "source": [
    "Other algorithms can be used to generate gene regulatory networks, but we recommend postprocessing the output to the suitable dataframe format, with columns displayed above.\n",
    "\n",
    "Convert the pandas DataFrame to an object of class `Interactome` to enable easier manipulation and show the number of regulons using the `size()` method. Type `help(pyther.Interactome)` to see all available methods."
   ]
  },
  {
   "cell_type": "code",
   "execution_count": null,
   "id": "b8016738-dd15-4267-bc50-22b774a4fd38",
   "metadata": {
    "tags": []
   },
   "outputs": [],
   "source": [
    "network_interactome = pyther.Interactome('fibroblasts', network) # convert to class Interactome\n",
    "network_interactome.size() # show number of regulons in the Interactome"
   ]
  },
  {
   "cell_type": "markdown",
   "id": "9bb91c8e-91f2-459f-9161-b0610c3579a0",
   "metadata": {},
   "source": [
    "Display the first 5 interactions in the regulatory network. `mor` and `likelihood` represent the mode of regulation of the given regulator-target pair and the likelihood of the interaction, respectively."
   ]
  },
  {
   "cell_type": "code",
   "execution_count": null,
   "id": "bb06588e-042e-43b3-a0a3-4715ce60a807",
   "metadata": {
    "tags": []
   },
   "outputs": [],
   "source": [
    "network_interactome.net_table.head()"
   ]
  },
  {
   "cell_type": "markdown",
   "id": "8772116a-41fb-4154-84c6-46f40eee1777",
   "metadata": {},
   "source": [
    "Filter out targets in the `Interactome` that are not present in the gene expression matrix. This step is recommended before running `viper`. "
   ]
  },
  {
   "cell_type": "code",
   "execution_count": null,
   "id": "b273e119-5926-4ee1-bb90-f500fd1ce382",
   "metadata": {
    "tags": []
   },
   "outputs": [],
   "source": [
    "network_interactome.filter_targets(gene_expr_signature.var_names)"
   ]
  },
  {
   "cell_type": "markdown",
   "id": "546a58db-cd01-473e-88d3-2abba89c3807",
   "metadata": {},
   "source": [
    "As an example, display the number of targets of a couple of regulators, MYC and SERPINA12."
   ]
  },
  {
   "cell_type": "code",
   "execution_count": null,
   "id": "f1657e7b-ddf7-44af-91f7-fc7a85390e49",
   "metadata": {
    "tags": []
   },
   "outputs": [],
   "source": [
    "n_MYC = len(network_interactome.get_reg('MYC')) # number of MYC targets in the network\n",
    "n_EGFR = len(network_interactome.get_reg('EGFR')) # number of SERPINA12 targets in the network\n",
    "\n",
    "print(\"The number of targets of MYC and SERPINA12 are \" + str(n_MYC) + \" and \" + str(n_EGFR) + \", respectively.\")"
   ]
  },
  {
   "cell_type": "markdown",
   "id": "2ec4cfbc-0cca-4c51-8a08-c7f8e3defc78",
   "metadata": {
    "tags": []
   },
   "source": [
    "<a id='3'></a>\n",
    "\n",
    "### Step 3. Convert the gene expression signature into a protein activity matrix using viper\n",
    "`viper` transforms a gene expression signature into a protein activity matrix by performing enrichment analysis on regulons. Two methods for enrichment analysis are allowed: [aREA](https://www.nature.com/articles/ng.3593) (default) and [NaRnEA](https://www.mdpi.com/1099-4300/25/3/542) (by setting `enrichment=\"narnea\"`)."
   ]
  },
  {
   "cell_type": "markdown",
   "id": "83323d77-6372-4759-9def-2c18fe31eed3",
   "metadata": {
    "tags": []
   },
   "source": [
    "#### Method 1 - protein activity inference using aREA\n",
    "As we have seen (section above), different regulators can potentially have different number of targets. We prune each regulon to have the same number of targets (50 in this case). This step is advisable to avoid regulators with an exceedingly number of targets to dominate those with fewer when computing the NES, thus making NES scores comparable."
   ]
  },
  {
   "cell_type": "code",
   "execution_count": null,
   "id": "81da4503-46bb-41ab-bee1-5b4dd2f99f5f",
   "metadata": {
    "tags": []
   },
   "outputs": [],
   "source": [
    "network_pruned = network_interactome.copy() # generate a copy of the unpruned network before pruning it\n",
    "network_pruned.prune(max_targets=50,eliminate=True) # prune interactome to have exactly 50 targets"
   ]
  },
  {
   "cell_type": "markdown",
   "id": "e51b4e0f-7c35-43db-bd49-3168a4ca6d4c",
   "metadata": {
    "tags": []
   },
   "source": [
    "Now all the regulators in the network have exactly 50 transcriptional targets."
   ]
  },
  {
   "cell_type": "code",
   "execution_count": null,
   "id": "7e4188fc-a33d-4e5a-880f-54bc76d24afb",
   "metadata": {
    "tags": []
   },
   "outputs": [],
   "source": [
    "n_MYC = len(network_pruned.get_reg('MYC')) # number of MYC targets in the network\n",
    "EGFR = len(network_pruned.get_reg('EGFR')) # number of SERPINA12 targets in the network\n",
    "\n",
    "print(\"Number of MYC targets: \" + str(n_MYC) + \"\\nNumber of EGFR targets: \" + str(EGFR))"
   ]
  },
  {
   "cell_type": "markdown",
   "id": "657347d3-1eca-43bb-8781-cf22443c108d",
   "metadata": {},
   "source": [
    "<div class=\"alert alert-block alert-success\">\n",
    "<b></b> Run `viper` to compute the protein activity matrix (aREA method).\n",
    "</div>\n",
    " \n",
    "The mandatory inputs to `viper` are a gene expression signature and a gene regulatory network. We will set the output output to be an ndarray (The default output would be an AnnData object)."
   ]
  },
  {
   "cell_type": "code",
   "execution_count": null,
   "id": "611dd12a-6602-47ba-bfdb-7c30d33f124f",
   "metadata": {
    "tags": []
   },
   "outputs": [],
   "source": [
    "ProtAct_aREA = pyther.viper(gex_data=gene_expr_signature, # gene expression signature\n",
    "                             interactome=network_pruned, # gene regulatory network\n",
    "                             enrichment = \"area\",\n",
    "                             output_as_anndata=False,\n",
    "                             njobs=1,\n",
    "                             verbose=False)"
   ]
  },
  {
   "cell_type": "markdown",
   "id": "10ab3bd4-47ed-4412-9687-2f21b4e6dd3d",
   "metadata": {},
   "source": [
    "`ProtAct_aREA` contains the activity of each regulatory protein computed as a Normalized Enrichment Score (NES) for each single cell."
   ]
  },
  {
   "cell_type": "code",
   "execution_count": null,
   "id": "3ee52c9d-ba35-4b22-b014-5ddb8c9284c6",
   "metadata": {
    "tags": []
   },
   "outputs": [],
   "source": [
    "ProtAct_aREA # display the protein activity matrix "
   ]
  },
  {
   "cell_type": "markdown",
   "id": "9f425ff4-c762-4881-914a-a2c8d3789df2",
   "metadata": {
    "tags": []
   },
   "source": [
    "#### Method 2 - protein activity inference using (matrix)-NaRnEA"
   ]
  },
  {
   "cell_type": "markdown",
   "id": "324fc2f0-64db-417c-917e-cb7df2c42665",
   "metadata": {
    "tags": []
   },
   "source": [
    "<div class=\"alert alert-block alert-success\">\n",
    "<b></b> Run `viper` to compute the protein activity matrix (matrix-NaRnEA method).\n",
    "</div>\n",
    " \n",
    "\n",
    "Compute the protein activity using `viper` with NaRnEA as the enrichment method. Unlike aREA, NaRnEA can run with regulons of different sizes, i.e. different number of targets per regulator. Store the output in an `AnnData` object (default)."
   ]
  },
  {
   "cell_type": "code",
   "execution_count": null,
   "id": "8b720e94-e2e4-4e9c-9fb4-f96bf1ba6ba0",
   "metadata": {
    "tags": []
   },
   "outputs": [],
   "source": [
    "ProtAct_NaRnEA = pyther.viper(gex_data=gene_expr_signature, # gene expression signature\n",
    "                                 interactome=network_interactome, # gene regulatory network\n",
    "                                 enrichment = \"narnea\",\n",
    "                                 njobs=1,\n",
    "                                 verbose=False)"
   ]
  },
  {
   "cell_type": "markdown",
   "id": "a0c6f315-c061-49d8-8f9e-28aa75ca8afc",
   "metadata": {
    "tags": []
   },
   "source": [
    "Show the output type and length of `ProtAct_NaRnEA`."
   ]
  },
  {
   "cell_type": "code",
   "execution_count": null,
   "id": "b09ded46-879c-49e3-882e-b1db97625aa2",
   "metadata": {
    "tags": []
   },
   "outputs": [],
   "source": [
    "ProtAct_NaRnEA # display the protein activity matrix as AnnData object "
   ]
  },
  {
   "cell_type": "markdown",
   "id": "02980829-813b-42bc-83ed-bf9933637fdd",
   "metadata": {},
   "source": [
    "When using NaRnEA, `viper` returns an additional layer, `pes` that stores the Proportional Enrichment Scores (PES) for regulator, a measure bound in the interval $-1 \\le PES \\le 1$ that can be used as a measure of effect size. For further details, see [Griffin et al., 2022](https://pubmed.ncbi.nlm.nih.gov/36981431/).\n",
    "\n",
    "Display NES protein activity matrix.\n"
   ]
  },
  {
   "cell_type": "code",
   "execution_count": null,
   "id": "543cdefc-87cc-4912-b3df-9e6f8f537b5c",
   "metadata": {
    "tags": []
   },
   "outputs": [],
   "source": [
    "ProtAct_NaRnEA.to_df() # NES matrix"
   ]
  },
  {
   "cell_type": "markdown",
   "id": "86789f22-fa2a-4689-99c3-d9186a1feb58",
   "metadata": {},
   "source": [
    "Display the PES protein activity matrix."
   ]
  },
  {
   "cell_type": "code",
   "execution_count": null,
   "id": "d02b5dab-bc33-4659-a4f6-e06cb8d0a5a9",
   "metadata": {
    "tags": []
   },
   "outputs": [],
   "source": [
    "ProtAct_NaRnEA.to_df(layer=\"pes\") # PES matrix"
   ]
  },
  {
   "cell_type": "markdown",
   "id": "2f3fa46a-537d-4d51-b5f8-5d75609b4bad",
   "metadata": {},
   "source": [
    "Notice that when setting the `viper` output to be an object of class `AnnData`, the input gene expression `AnnData` is stored under the attribute `gex_data`:"
   ]
  },
  {
   "cell_type": "code",
   "execution_count": null,
   "id": "6682b3ac-e97e-4d5e-8faa-112f7455f5a2",
   "metadata": {},
   "outputs": [],
   "source": [
    "ProtAct_NaRnEA.uns[\"gex_data\"][0:5,0:5].to_df()"
   ]
  },
  {
   "cell_type": "markdown",
   "id": "741c0f6c-652c-4464-b6c3-771040016fb1",
   "metadata": {},
   "source": [
    "<a id='3'></a>\n",
    "### Step 3. Analyze single-cells at the Protein Activity level \n",
    "We present some potential analyses and postprocessing that can be done using the protein activity matrix. \n",
    "\n",
    "Set the set of regulators as those for human. This is step is redundant in this case, because the default species in PyVIPER is `\"human\"`, but we show it to demonstrate how to have full control on the analysis.  "
   ]
  },
  {
   "cell_type": "code",
   "execution_count": null,
   "id": "ba4e6b79-9102-4e9d-8bd6-8e73b9f5b418",
   "metadata": {
    "tags": []
   },
   "outputs": [],
   "source": [
    "pyther.config.set_regulators_species_to_use(species=\"human\")"
   ]
  },
  {
   "cell_type": "markdown",
   "id": "85d0853c-3014-495a-ae71-281b6505c4a0",
   "metadata": {},
   "source": [
    "Run PCA to reduce the dimensionality of the dataset, using by projecting the PES of transcriptional regulators (TFs) and co-transcriptional regulators (coTFs) by setting `filter_by_feature_groups=[\"tfs\", \"cotfs\"]`. In this example, we focus on TFs and coTFs because we are interested in proteins involved in transcriptional regulation and that are mechanistic determinants of cell state, as shown in [Paull et al., 2021](https://www.sciencedirect.com/science/article/pii/S0092867420316172?via%3Dihub) and [Califano & Alvarez, 2016](https://www.nature.com/articles/nrc.2016.124). Possible options for this parameter are `[\"tfs\", \"cotfs\", \"sig\", \"surface\"]`, where the latter refer to signaling proteins and surface markers, respectively, and `None` to use all features."
   ]
  },
  {
   "cell_type": "code",
   "execution_count": null,
   "id": "521bd7b2-688b-4d9b-aacd-1fdcbe5ab22a",
   "metadata": {},
   "outputs": [],
   "source": [
    "pyther.tl.pca(ProtAct_NaRnEA, layer=\"pes\", filter_by_feature_groups=[\"tfs\",\"cotfs\"], zero_center=True,  svd_solver='arpack')"
   ]
  },
  {
   "cell_type": "markdown",
   "id": "d23c9b1e-5a70-4e88-b30b-63f96b74d427",
   "metadata": {},
   "source": [
    "The `tl` module provides wrappers to several `scanpy.tl` functions to simplify the postprocessing of protein activity data. For instance, in the cell above we can easily subset the class of regulatory proteins to analyze. \n",
    "\n",
    "Compute the neighbors graph of cells using the PCA representation of the protein activity matrix. For sake of simplicity, we set 10 nearest neightbors and 50 principal components. Typically, these parameters need tuning."
   ]
  },
  {
   "cell_type": "code",
   "execution_count": null,
   "id": "314991d8-d95b-4e29-933b-725199377469",
   "metadata": {
    "tags": []
   },
   "outputs": [],
   "source": [
    "sc.pp.neighbors(ProtAct_NaRnEA, metric=\"correlation\", n_neighbors=20, n_pcs=50)"
   ]
  },
  {
   "cell_type": "markdown",
   "id": "3f8a5d04-5a6b-48ef-8fb8-cddb670e867d",
   "metadata": {},
   "source": [
    "Cluster at protein activity using the Leiden algorithm with `resolution=0.2` (in real applications this parameter should be optimized)."
   ]
  },
  {
   "cell_type": "code",
   "execution_count": null,
   "id": "413e4cf7-ea02-4e9d-9006-a1be74b6db1a",
   "metadata": {
    "tags": []
   },
   "outputs": [],
   "source": [
    "sc.tl.leiden(ProtAct_NaRnEA, resolution=0.1, n_iterations=-1)"
   ]
  },
  {
   "cell_type": "markdown",
   "id": "43b4ab2e-d08b-4c78-8f1e-fa5695c03763",
   "metadata": {},
   "source": [
    "Generate a [UMAP](https://arxiv.org/abs/1802.03426) embedding of the previously computed graph. "
   ]
  },
  {
   "cell_type": "code",
   "execution_count": null,
   "id": "5797a58b-f879-40d1-9ae0-ccd81daca495",
   "metadata": {
    "tags": []
   },
   "outputs": [],
   "source": [
    "sc.tl.umap(ProtAct_NaRnEA)"
   ]
  },
  {
   "cell_type": "markdown",
   "id": "6e3e5505-6068-4ac7-9571-92fbf72dedb2",
   "metadata": {},
   "source": [
    "Display the 2-dimensional UMAP embedding with the corresponding function from the `pyther.pl`, a module that provides wrappers for `scanpy.pl` functions for enhanced visualization of key protein activity features. Color by cluster.  "
   ]
  },
  {
   "cell_type": "code",
   "execution_count": null,
   "id": "46aeb1c5-7bac-411f-ac5a-ec3b82129e86",
   "metadata": {
    "tags": []
   },
   "outputs": [],
   "source": [
    "sc.set_figure_params(dpi=90)\n",
    "n_cells = ProtAct_NaRnEA.shape[0]\n",
    "dot_size = 120000 / n_cells*2\n",
    "pyther.pl.umap(ProtAct_NaRnEA, color='leiden', palette=\"Set1\", size=dot_size,add_outline=True)"
   ]
  },
  {
   "cell_type": "markdown",
   "id": "94a91569-3364-4444-be55-d6c280051094",
   "metadata": {
    "tags": []
   },
   "source": [
    "Find the most active regulators in each cluster by integrating the NES of each regulatory protein across all cells in a cluster using the Stouffer's method: $$ NES^C_j = \\frac{\\sum_{k \\in C}NES_{k,j}}{\\sqrt{n^C}} $$ where $NES^C_j$ denotes the integrated NES for regulator $j$ in cluster/cell type $C$, $NES_{k,j}$ is the NES of regulator $j$ in cluster/cell type $C$ and $n^C$ is the number of cells in cluster $C$."
   ]
  },
  {
   "cell_type": "code",
   "execution_count": null,
   "id": "cc9ded6b-c483-4337-815c-074d44281ead",
   "metadata": {
    "tags": []
   },
   "outputs": [],
   "source": [
    "ProtAct_NaRnEA = pyther.tl.stouffer(ProtAct_NaRnEA, \"leiden\", filter_by_feature_groups=[\"tfs\",\"cotfs\"]) # Stouffer integration "
   ]
  },
  {
   "cell_type": "markdown",
   "id": "2b799064-199b-4ef4-877c-6521346dae07",
   "metadata": {},
   "source": [
    "Display the integrated NES scores in each cluster, that are stored in `.uns` under`stouffer`."
   ]
  },
  {
   "cell_type": "code",
   "execution_count": null,
   "id": "13f9bc16-cc68-4afd-9e07-8cc14d43a809",
   "metadata": {
    "tags": []
   },
   "outputs": [],
   "source": [
    "NES_integrated = ProtAct_NaRnEA.uns[\"stouffer\"] \n",
    "NES_integrated"
   ]
  },
  {
   "cell_type": "markdown",
   "id": "0c051e32-6387-4d69-b8d0-bb087bc08f80",
   "metadata": {},
   "source": [
    "Analogously, `stouffer_clusters_df` can be used to performed the same operations in Pandas DataFrames. Remove ribosomal proteins from the Stouffer-integrated matrix (ribosomal protein genes are among the most highly expressed genes in most cell types)."
   ]
  },
  {
   "cell_type": "code",
   "execution_count": null,
   "id": "555bad9b-bd81-490c-9653-0d25b1fa0ac5",
   "metadata": {
    "tags": []
   },
   "outputs": [],
   "source": [
    "filtered_proteins = NES_integrated.columns[~NES_integrated.columns.str.startswith('RP')].to_list() # Exclude columns starting with 'RP' from integrated matrix\n",
    "NES_integrated = NES_integrated.loc[:,filtered_proteins] # remove ribosomal proteins from DataFrame"
   ]
  },
  {
   "cell_type": "markdown",
   "id": "7ab83e3f-5521-4915-95ac-f508e036353a",
   "metadata": {},
   "source": [
    "Extract the 10 most activated regulatory protein in each cluster"
   ]
  },
  {
   "cell_type": "code",
   "execution_count": null,
   "id": "ca5ab072-b75b-4ff1-a189-c4a586181a56",
   "metadata": {
    "tags": []
   },
   "outputs": [],
   "source": [
    "active_proteins = NES_integrated.apply(lambda row: row.nlargest(10).index.tolist(), axis=1)  # the top 10 most activated proteins in each cell type\n",
    "active_proteins"
   ]
  },
  {
   "cell_type": "markdown",
   "id": "d7a5a060-d15b-4a69-b154-ffdf11078779",
   "metadata": {
    "tags": []
   },
   "source": [
    "Show the NES of the top activated proteins from `ProtAct_NaRnEA` on a heatmap"
   ]
  },
  {
   "cell_type": "code",
   "execution_count": null,
   "id": "14330318-5800-4469-a85a-2f905b5f65a6",
   "metadata": {
    "tags": []
   },
   "outputs": [],
   "source": [
    "protein_set = active_proteins.sum() # protein set to display on the heatmap\n",
    "ax = pyther.pl.heatmap(ProtAct_NaRnEA, var_names=protein_set, groupby=\"leiden\", vcenter=0, cmap=\"RdBu_r\",dendrogram=False,swap_axes=True, show_gene_labels=True)"
   ]
  },
  {
   "cell_type": "markdown",
   "id": "ce772ba3-e716-406b-9f46-549b31a81f30",
   "metadata": {
    "tags": []
   },
   "source": [
    "### Part with literature markers\n",
    "<code style=\"background:lightgreen\">Part with literature markers (also fix title). I think to remove this part </code>"
   ]
  },
  {
   "cell_type": "code",
   "execution_count": null,
   "id": "ad5e22f4",
   "metadata": {},
   "outputs": [],
   "source": [
    "markers_fibroblasts = {\n",
    "    'iCAF': ['C3', 'C4B', 'GSN', 'TNXB'],\n",
    "    'myCAF': ['ARHGDIB', 'CAV1', 'CD74', 'CLU', 'CXADR', 'EZR', 'HSPB1', 'NKAIN4', 'SLC9A3R1'],\n",
    "    'apCAF': ['CXCL14', 'SDC1', 'TGFB1', 'THY1']\n",
    "}\n",
    "\n",
    "iCAFs_df = pd.DataFrame(columns=[\"regulator\",\"target\",\"mor\",\"likelihood\"])\n",
    "\n",
    "# iCAFs interactome\n",
    "iCAFs_df[\"target\"] = markers_fibroblasts[\"iCAF\"]\n",
    "iCAFs_df[\"regulator\"] = \"iCAF\"; iCAFs_df[\"mor\"] = 1; iCAFs_df[\"likelihood\"] = 1\n",
    "\n",
    "# myCAFs interactome\n",
    "myCAFs_df = pd.DataFrame(columns=[\"regulator\",\"target\",\"mor\",\"likelihood\"])\n",
    "myCAFs_df[\"target\"] = markers_fibroblasts[\"myCAF\"]\n",
    "myCAFs_df[\"regulator\"] = \"myCAF\"; myCAFs_df[\"mor\"] = 1; myCAFs_df[\"likelihood\"] = 1\n",
    "\n",
    "# apCAFs interactome\n",
    "apCAFs_df = pd.DataFrame(columns=[\"regulator\",\"target\",\"mor\",\"likelihood\"])\n",
    "apCAFs_df[\"target\"] = markers_fibroblasts[\"apCAF\"]\n",
    "apCAFs_df[\"regulator\"] = \"apCAF\"; apCAFs_df[\"mor\"] = 1; apCAFs_df[\"likelihood\"] = 1\n",
    "\n",
    "CAFs_markers = pd.concat([iCAFs_df, myCAFs_df, apCAFs_df], ignore_index=True)\n",
    "\n",
    "CAFs_interactome = pyther.Interactome(\"CAFs_markers\", CAFs_markers)\n",
    "\n"
   ]
  },
  {
   "cell_type": "code",
   "execution_count": null,
   "id": "456cba7c",
   "metadata": {},
   "outputs": [],
   "source": [
    "markers_enrichment = pyther.viper(ProtAct_NaRnEA, interactome=CAFs_interactome, enrichment=\"narnea\",output_as_anndata=False, min_targets=1)\n",
    "\n",
    "markers_enrichment = pyther.tl.nes_to_pval_df(markers_enrichment[\"nes\"])\n",
    "\n",
    "markers_enrichment_pval = pyther.tl.nes_to_pval_df(markers_enrichment[\"nes\"])\n",
    "\n",
    "np.sum(markers_enrichment_pval < 0.05)"
   ]
  },
  {
   "cell_type": "markdown",
   "id": "974a81e8",
   "metadata": {},
   "source": []
  },
  {
   "cell_type": "markdown",
   "id": "d04e6519-2cfb-455c-a8bb-9fd3965365e0",
   "metadata": {
    "tags": []
   },
   "source": [
    "<a id='4'></a>\n",
    "### Key Takeaways\n",
    "<code style=\"background:lightgreen\">Add recap and key takeaways</code>"
   ]
  },
  {
   "cell_type": "code",
   "execution_count": 14,
   "id": "6b189100-cfc3-4720-8d30-98481850fe30",
   "metadata": {},
   "outputs": [
    {
     "name": "stdout",
     "output_type": "stream",
     "text": [
      "  % Total    % Received % Xferd  Average Speed   Time    Time     Time  Current\n",
      "                                 Dload  Upload   Total   Spent    Left  Speed\n",
      "100  196M  100  196M    0     0  5081k      0  0:00:39  0:00:39 --:--:-- 5456k0  0:00:40  0:00:19  0:00:21 4595k\n"
     ]
    }
   ],
   "source": [
    "import os \n",
    "os.chdir(\"/Users/lucazanella7/Desktop/data/\")\n",
    "os.getcwd()\n",
    "!curl -O https://zenodo.org/records/10056139/files/B-cell-net.tsv\n"
   ]
  },
  {
   "cell_type": "markdown",
   "id": "aef361a7",
   "metadata": {},
   "source": []
  },
  {
   "cell_type": "code",
   "execution_count": 16,
   "id": "35b8f0c6",
   "metadata": {},
   "outputs": [],
   "source": [
    "!open ."
   ]
  },
  {
   "cell_type": "code",
   "execution_count": null,
   "id": "c83fe4fc",
   "metadata": {},
   "outputs": [],
   "source": []
  },
  {
   "cell_type": "code",
   "execution_count": null,
   "id": "b861ba6c",
   "metadata": {},
   "outputs": [],
   "source": []
  },
  {
   "cell_type": "code",
   "execution_count": null,
   "id": "a0ce3627",
   "metadata": {},
   "outputs": [],
   "source": []
  },
  {
   "cell_type": "code",
   "execution_count": null,
   "id": "fb98ed36",
   "metadata": {},
   "outputs": [],
   "source": []
  }
 ],
 "metadata": {
  "kernelspec": {
   "display_name": "Python 3 (ipykernel)",
   "language": "python",
   "name": "python3"
  },
  "language_info": {
   "codemirror_mode": {
    "name": "ipython",
    "version": 3
   },
   "file_extension": ".py",
   "mimetype": "text/x-python",
   "name": "python",
   "nbconvert_exporter": "python",
   "pygments_lexer": "ipython3",
   "version": "3.10.12"
  }
 },
 "nbformat": 4,
 "nbformat_minor": 5
}
