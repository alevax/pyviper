{
 "cells": [
  {
   "cell_type": "markdown",
   "id": "ff17b11d-7920-49a8-9815-2bc78ad523a9",
   "metadata": {},
   "source": [
    "# Tutorial 1 - Analyzing scRNA-seq data at the Protein Activity Level\n",
    "\n",
    "<code style=\"background:lightgreen;color:black\">Add description of the goal of this tutorial. Make sure that ways to load/install the package are updated. Also correct the path to the data (or include a dataset on GitHub, Zenodo or others). Also, fix the number of the sections.</code>"
   ]
  },
  {
   "cell_type": "markdown",
   "id": "16a7cbdf-fc08-4747-b684-555ecf5d1313",
   "metadata": {},
   "source": [
    "### Install Pyviper\n",
    "Install `pyviper` from PyPI using pip. Alternatively, refer to the README in the current GitHub to install from the local directory."
   ]
  },
  {
   "cell_type": "code",
   "execution_count": null,
   "id": "71ce630d-c139-4a27-ad8e-5b3d12430e2b",
   "metadata": {
    "tags": []
   },
   "outputs": [],
   "source": [
    "# !pip install pyviper"
   ]
  },
  {
   "cell_type": "markdown",
   "id": "53d13fbe-6819-4373-aa02-f64322a80221",
   "metadata": {},
   "source": [
    "### Import modules"
   ]
  },
  {
   "cell_type": "code",
   "execution_count": 1,
   "id": "da076e9d-f5a6-44ad-b391-2d2ea45e3a79",
   "metadata": {
    "tags": []
   },
   "outputs": [],
   "source": [
    "import pyther\n",
    "import scanpy as sc\n",
    "import anndata \n",
    "import pandas as pd\n",
    "\n",
    "import warnings\n",
    "warnings.filterwarnings(\"ignore\", message=\".*The 'nopython' keyword.*\") # for jit decorator issue with sc.pp.neighbors (09/30/2023)"
   ]
  },
  {
   "cell_type": "markdown",
   "id": "a4501735-c097-4ae0-a4dd-de8ba00b44f1",
   "metadata": {
    "tags": []
   },
   "source": [
    "### Step 1. Load a gene expression \"signature\" at the single-cell level \n",
    "Load gene expression signature to be used as input to the `viper` function for Protein Activity inference. Store the gene expression signature into an [AnnData](https://anndata.readthedocs.io/en/latest/) object to enable interoperability with [scanpy](https://scanpy-tutorials.readthedocs.io/en/latest/#). Display matrix dimensions with cells on rows and features (genes) on columns (after transposition). The gene expression signature was generated from a population of malignant ductal cells from publicly avaiable data from [Peng et al., 2019](https://www.nature.com/articles/s41422-019-0195-y). Please, refer to Tutorial 2 for additional details on how to generate a gene expression signature.  "
   ]
  },
  {
   "cell_type": "code",
   "execution_count": 2,
   "id": "98beadb3-dcef-46f3-82ec-f042b1082c4a",
   "metadata": {
    "tags": []
   },
   "outputs": [
    {
     "data": {
      "text/plain": [
       "AnnData object with n_obs × n_vars = 11315 × 5000"
      ]
     },
     "execution_count": 2,
     "metadata": {},
     "output_type": "execute_result"
    }
   ],
   "source": [
    "gene_expr_path = \"/Users/lucazanella7/Desktop/ColumbiaProjects/pyther_test_data/subset_Peng/Ductal_2.csv\"\n",
    "gene_expr_signature = anndata.read_csv(gene_expr_path).T\n",
    "\n",
    "gene_expr_signature"
   ]
  },
  {
   "cell_type": "markdown",
   "id": "4dc46149-9ad4-4c38-b45d-a24b756e1c3e",
   "metadata": {
    "tags": []
   },
   "source": [
    "### Step 2. Load a gene regulatory network inferred with ARACNe\n",
    "Load and inspect lineage-specific gene regulatory network generated with the ARACNe3. See [ARACNe3](https://www.mdpi.com/1099-4300/25/3/542) and [ARACNe-AP](https://pubmed.ncbi.nlm.nih.gov/27153652/) for additional information on current ARACNe implementations. "
   ]
  },
  {
   "cell_type": "code",
   "execution_count": 3,
   "id": "15654554-8f94-49ea-a4cc-b24486c42604",
   "metadata": {
    "tags": []
   },
   "outputs": [],
   "source": [
    "network_path = \"/Users/lucazanella7/Desktop/ColumbiaProjects/pyther_test_data/subset_Peng/pruned_Ductal_2.tsv\"\n",
    "                            # path to tsv-formatted ARACNe network\n",
    "    \n",
    "network = pd.read_csv(network_path, delimiter=\"\\t\")"
   ]
  },
  {
   "cell_type": "markdown",
   "id": "73aceda9-effe-4cd8-9fb8-ed7ec14b8c94",
   "metadata": {
    "tags": []
   },
   "source": [
    "Display the first 5 interactions in the regulatory network. `mor` and `likelihood` represent the mode of regulation of the given regulator-target pair and the likelihood of the interaction, respectively."
   ]
  },
  {
   "cell_type": "code",
   "execution_count": 4,
   "id": "bb59d57e-e2be-4751-a136-db05a90f458c",
   "metadata": {
    "tags": []
   },
   "outputs": [
    {
     "data": {
      "text/html": [
       "<div>\n",
       "<style scoped>\n",
       "    .dataframe tbody tr th:only-of-type {\n",
       "        vertical-align: middle;\n",
       "    }\n",
       "\n",
       "    .dataframe tbody tr th {\n",
       "        vertical-align: top;\n",
       "    }\n",
       "\n",
       "    .dataframe thead th {\n",
       "        text-align: right;\n",
       "    }\n",
       "</style>\n",
       "<table border=\"1\" class=\"dataframe\">\n",
       "  <thead>\n",
       "    <tr style=\"text-align: right;\">\n",
       "      <th></th>\n",
       "      <th>regulator</th>\n",
       "      <th>target</th>\n",
       "      <th>mor</th>\n",
       "      <th>likelihood</th>\n",
       "    </tr>\n",
       "  </thead>\n",
       "  <tbody>\n",
       "    <tr>\n",
       "      <th>0</th>\n",
       "      <td>AATF</td>\n",
       "      <td>CDC42SE2</td>\n",
       "      <td>0.005831</td>\n",
       "      <td>0.999934</td>\n",
       "    </tr>\n",
       "    <tr>\n",
       "      <th>1</th>\n",
       "      <td>AATF</td>\n",
       "      <td>EIF4EBP2</td>\n",
       "      <td>0.019100</td>\n",
       "      <td>0.999868</td>\n",
       "    </tr>\n",
       "    <tr>\n",
       "      <th>2</th>\n",
       "      <td>AATF</td>\n",
       "      <td>DDB1</td>\n",
       "      <td>0.019182</td>\n",
       "      <td>0.999802</td>\n",
       "    </tr>\n",
       "    <tr>\n",
       "      <th>3</th>\n",
       "      <td>AATF</td>\n",
       "      <td>COPB2</td>\n",
       "      <td>0.064825</td>\n",
       "      <td>0.999736</td>\n",
       "    </tr>\n",
       "    <tr>\n",
       "      <th>4</th>\n",
       "      <td>AATF</td>\n",
       "      <td>MDM4</td>\n",
       "      <td>0.023039</td>\n",
       "      <td>0.999670</td>\n",
       "    </tr>\n",
       "  </tbody>\n",
       "</table>\n",
       "</div>"
      ],
      "text/plain": [
       "  regulator    target       mor  likelihood\n",
       "0      AATF  CDC42SE2  0.005831    0.999934\n",
       "1      AATF  EIF4EBP2  0.019100    0.999868\n",
       "2      AATF      DDB1  0.019182    0.999802\n",
       "3      AATF     COPB2  0.064825    0.999736\n",
       "4      AATF      MDM4  0.023039    0.999670"
      ]
     },
     "execution_count": 4,
     "metadata": {},
     "output_type": "execute_result"
    }
   ],
   "source": [
    "network.head()"
   ]
  },
  {
   "cell_type": "markdown",
   "id": "0e34b0cb-fc52-4a61-85d3-50f30312ea9f",
   "metadata": {},
   "source": [
    "Other algorithms can be used to generate gene regulatory networks, but we recommend postprocessing the output to the suitable dataframe format, with columns displayed above.\n",
    "\n",
    "Convert the pandas DataFrame to an object of class `Interactome` to enable easier manipulation. Type `help(pyther.Interactome)` to see available methods."
   ]
  },
  {
   "cell_type": "code",
   "execution_count": 5,
   "id": "b8016738-dd15-4267-bc50-22b774a4fd38",
   "metadata": {
    "tags": []
   },
   "outputs": [],
   "source": [
    "network_interactome = pyther.Interactome('malignant_ductal_interactome', network)"
   ]
  },
  {
   "cell_type": "markdown",
   "id": "8772116a-41fb-4154-84c6-46f40eee1777",
   "metadata": {},
   "source": [
    "Filter out targets in the `Interactome` that are not present in the gene expression matrix. This step is recommended before running `viper`. "
   ]
  },
  {
   "cell_type": "code",
   "execution_count": 6,
   "id": "b273e119-5926-4ee1-bb90-f500fd1ce382",
   "metadata": {
    "tags": []
   },
   "outputs": [],
   "source": [
    "network_interactome.filter_targets(gene_expr_signature.var_names)"
   ]
  },
  {
   "cell_type": "markdown",
   "id": "546a58db-cd01-473e-88d3-2abba89c3807",
   "metadata": {},
   "source": [
    "As an example, display the number of targets of a couple of regulators, MYC and SERPINA12."
   ]
  },
  {
   "cell_type": "code",
   "execution_count": 7,
   "id": "f1657e7b-ddf7-44af-91f7-fc7a85390e49",
   "metadata": {
    "tags": []
   },
   "outputs": [
    {
     "name": "stdout",
     "output_type": "stream",
     "text": [
      "The number of targets of MYC and SERPINA12 is 118 and 144, respectively.\n"
     ]
    }
   ],
   "source": [
    "n_MYC = len(network_interactome.get_reg('MYC')) # number of MYC targets in the network\n",
    "n_SERPINA12 = len(network_interactome.get_reg('SERPINA12')) # number of SERPINA12 targets in the network\n",
    "\n",
    "print(\"The number of targets of MYC and SERPINA12 is \" + str(n_MYC) + \" and \" + str(n_SERPINA12) + \", respectively.\")"
   ]
  },
  {
   "cell_type": "markdown",
   "id": "2ec4cfbc-0cca-4c51-8a08-c7f8e3defc78",
   "metadata": {
    "tags": []
   },
   "source": [
    "### Step 3. Convert the gene expression signature into a protein activity matrix using viper\n",
    "`viper` transforms a gene expression signature into a protein activity matrix by performing enrichment analysis on regulons. Two methods for enrichment analysis are allowed: [aREA](https://www.nature.com/articles/ng.3593) (default) and [NaRnEA](https://www.mdpi.com/1099-4300/25/3/542) (by setting `enrichment=\"narnea\"`)."
   ]
  },
  {
   "cell_type": "markdown",
   "id": "83323d77-6372-4759-9def-2c18fe31eed3",
   "metadata": {
    "tags": []
   },
   "source": [
    "#### Method 1 - protein activity inference using aREA\n",
    "As we have seen (section above), different regulators can potentially have different number of targets. We prune each regulon to have the same number of targets (50 in this case). This step is advisable to avoid regulators with an exceedingly number of targets to dominate those with fewer when computing the NES, thus making NES scores comparable."
   ]
  },
  {
   "cell_type": "code",
   "execution_count": 8,
   "id": "81da4503-46bb-41ab-bee1-5b4dd2f99f5f",
   "metadata": {
    "tags": []
   },
   "outputs": [],
   "source": [
    "network_pruned = network_interactome.copy() # generate a copy of the unpruned network before pruning it\n",
    "network_pruned.prune(max_targets=50,eliminate=True) # prune interactome to have exactly 50 targets"
   ]
  },
  {
   "cell_type": "markdown",
   "id": "e51b4e0f-7c35-43db-bd49-3168a4ca6d4c",
   "metadata": {
    "tags": []
   },
   "source": [
    "Now all the regulators in the network have exactly 50 transcriptional targets."
   ]
  },
  {
   "cell_type": "code",
   "execution_count": 9,
   "id": "7e4188fc-a33d-4e5a-880f-54bc76d24afb",
   "metadata": {
    "tags": []
   },
   "outputs": [
    {
     "name": "stdout",
     "output_type": "stream",
     "text": [
      "Number of MYC targets: 50\n",
      "Number of SERPINA12 targets: 50\n"
     ]
    }
   ],
   "source": [
    "n_MYC = len(network_pruned.get_reg('MYC')) # number of MYC targets in the network\n",
    "n_SERPINA12 = len(network_pruned.get_reg('SERPINA12')) # number of SERPINA12 targets in the network\n",
    "\n",
    "print(\"Number of MYC targets: \" + str(n_MYC) + \"\\nNumber of SERPINA12 targets: \" + str(n_SERPINA12))"
   ]
  },
  {
   "cell_type": "markdown",
   "id": "657347d3-1eca-43bb-8781-cf22443c108d",
   "metadata": {},
   "source": [
    "<div class=\"alert alert-block alert-success\">\n",
    "<b></b> Run `viper` to compute the protein activity matrix (aREA method).\n",
    "</div>\n",
    " \n",
    "The mandatory inputs to `viper` are a gene expression signature and a gene regulatory network. We will set the output output to be an ndarray (The default output would be an AnnData object)."
   ]
  },
  {
   "cell_type": "code",
   "execution_count": 10,
   "id": "611dd12a-6602-47ba-bfdb-7c30d33f124f",
   "metadata": {
    "tags": []
   },
   "outputs": [],
   "source": [
    "ProtAct_aREA = pyther.viper(gex_data=gene_expr_signature, # gene expression signature\n",
    "                             interactome=network_pruned, # gene regulatory network\n",
    "                             enrichment = \"area\",\n",
    "                             output_as_anndata=False,\n",
    "                             njobs=1,\n",
    "                             verbose=False)"
   ]
  },
  {
   "cell_type": "markdown",
   "id": "10ab3bd4-47ed-4412-9687-2f21b4e6dd3d",
   "metadata": {},
   "source": [
    "`ProtAct_aREA` contains the activity of each regulatory protein computed as a Normalized Enrichment Score (NES) for each single cell."
   ]
  },
  {
   "cell_type": "code",
   "execution_count": 11,
   "id": "3ee52c9d-ba35-4b22-b014-5ddb8c9284c6",
   "metadata": {
    "tags": []
   },
   "outputs": [
    {
     "data": {
      "text/html": [
       "<div>\n",
       "<style scoped>\n",
       "    .dataframe tbody tr th:only-of-type {\n",
       "        vertical-align: middle;\n",
       "    }\n",
       "\n",
       "    .dataframe tbody tr th {\n",
       "        vertical-align: top;\n",
       "    }\n",
       "\n",
       "    .dataframe thead th {\n",
       "        text-align: right;\n",
       "    }\n",
       "</style>\n",
       "<table border=\"1\" class=\"dataframe\">\n",
       "  <thead>\n",
       "    <tr style=\"text-align: right;\">\n",
       "      <th>regulator</th>\n",
       "      <th>AATF</th>\n",
       "      <th>ABCA1</th>\n",
       "      <th>ABCA12</th>\n",
       "      <th>ABCA3</th>\n",
       "      <th>ABCA7</th>\n",
       "      <th>ABCA8</th>\n",
       "      <th>ABCB1</th>\n",
       "      <th>ABCB11</th>\n",
       "      <th>ABCB4</th>\n",
       "      <th>ABCB5</th>\n",
       "      <th>...</th>\n",
       "      <th>ZSWIM5</th>\n",
       "      <th>ZSWIM6</th>\n",
       "      <th>ZSWIM7</th>\n",
       "      <th>ZWINT</th>\n",
       "      <th>ZXDA</th>\n",
       "      <th>ZXDB</th>\n",
       "      <th>ZXDC</th>\n",
       "      <th>ZYX</th>\n",
       "      <th>ZZEF1</th>\n",
       "      <th>ZZZ3</th>\n",
       "    </tr>\n",
       "  </thead>\n",
       "  <tbody>\n",
       "    <tr>\n",
       "      <th>T1_AACACGTCAATGACCT</th>\n",
       "      <td>0.003478</td>\n",
       "      <td>0.021827</td>\n",
       "      <td>-0.000146</td>\n",
       "      <td>-1.892847</td>\n",
       "      <td>0.012870</td>\n",
       "      <td>-1.626956</td>\n",
       "      <td>0.020836</td>\n",
       "      <td>0.295218</td>\n",
       "      <td>-0.043554</td>\n",
       "      <td>0.051283</td>\n",
       "      <td>...</td>\n",
       "      <td>-0.981025</td>\n",
       "      <td>-0.301464</td>\n",
       "      <td>-0.477378</td>\n",
       "      <td>1.952636</td>\n",
       "      <td>0.020272</td>\n",
       "      <td>-0.017226</td>\n",
       "      <td>-0.675347</td>\n",
       "      <td>0.005074</td>\n",
       "      <td>-0.036858</td>\n",
       "      <td>1.615052</td>\n",
       "    </tr>\n",
       "    <tr>\n",
       "      <th>T1_AACCATGCACAACTGT</th>\n",
       "      <td>0.021164</td>\n",
       "      <td>0.022861</td>\n",
       "      <td>0.017899</td>\n",
       "      <td>-1.915731</td>\n",
       "      <td>0.143748</td>\n",
       "      <td>-1.285993</td>\n",
       "      <td>-0.007112</td>\n",
       "      <td>-0.424700</td>\n",
       "      <td>1.630497</td>\n",
       "      <td>0.039928</td>\n",
       "      <td>...</td>\n",
       "      <td>-0.384865</td>\n",
       "      <td>0.751079</td>\n",
       "      <td>-0.384921</td>\n",
       "      <td>0.632195</td>\n",
       "      <td>0.013861</td>\n",
       "      <td>0.035514</td>\n",
       "      <td>0.486563</td>\n",
       "      <td>0.026284</td>\n",
       "      <td>-0.377175</td>\n",
       "      <td>1.666068</td>\n",
       "    </tr>\n",
       "    <tr>\n",
       "      <th>T1_AACCATGTCTGATTCT</th>\n",
       "      <td>0.005886</td>\n",
       "      <td>0.010786</td>\n",
       "      <td>0.003141</td>\n",
       "      <td>-1.151431</td>\n",
       "      <td>-0.035641</td>\n",
       "      <td>-1.060720</td>\n",
       "      <td>0.128850</td>\n",
       "      <td>0.623142</td>\n",
       "      <td>-0.773390</td>\n",
       "      <td>-0.041436</td>\n",
       "      <td>...</td>\n",
       "      <td>-0.281773</td>\n",
       "      <td>0.046981</td>\n",
       "      <td>0.844734</td>\n",
       "      <td>-0.710689</td>\n",
       "      <td>-0.006223</td>\n",
       "      <td>0.176814</td>\n",
       "      <td>1.029464</td>\n",
       "      <td>-0.006727</td>\n",
       "      <td>-0.538143</td>\n",
       "      <td>0.006137</td>\n",
       "    </tr>\n",
       "    <tr>\n",
       "      <th>T1_AACCATGTCTGTCCGT</th>\n",
       "      <td>0.014610</td>\n",
       "      <td>0.037640</td>\n",
       "      <td>0.041812</td>\n",
       "      <td>1.548044</td>\n",
       "      <td>0.025776</td>\n",
       "      <td>1.055263</td>\n",
       "      <td>-0.100038</td>\n",
       "      <td>0.415668</td>\n",
       "      <td>-0.573411</td>\n",
       "      <td>-0.032747</td>\n",
       "      <td>...</td>\n",
       "      <td>-0.602362</td>\n",
       "      <td>-0.105102</td>\n",
       "      <td>0.964380</td>\n",
       "      <td>0.178080</td>\n",
       "      <td>-0.018838</td>\n",
       "      <td>0.020599</td>\n",
       "      <td>0.013466</td>\n",
       "      <td>0.084279</td>\n",
       "      <td>-0.448729</td>\n",
       "      <td>0.469023</td>\n",
       "    </tr>\n",
       "    <tr>\n",
       "      <th>T1_AACCGCGGTACTCGCG</th>\n",
       "      <td>0.017482</td>\n",
       "      <td>0.028096</td>\n",
       "      <td>0.002755</td>\n",
       "      <td>-2.027166</td>\n",
       "      <td>-0.017121</td>\n",
       "      <td>-0.850260</td>\n",
       "      <td>-0.018189</td>\n",
       "      <td>0.404971</td>\n",
       "      <td>-0.036865</td>\n",
       "      <td>-0.076835</td>\n",
       "      <td>...</td>\n",
       "      <td>-0.304488</td>\n",
       "      <td>0.410485</td>\n",
       "      <td>1.484359</td>\n",
       "      <td>-0.693966</td>\n",
       "      <td>-0.004976</td>\n",
       "      <td>0.020983</td>\n",
       "      <td>-0.185549</td>\n",
       "      <td>0.013146</td>\n",
       "      <td>0.002211</td>\n",
       "      <td>-0.040599</td>\n",
       "    </tr>\n",
       "    <tr>\n",
       "      <th>...</th>\n",
       "      <td>...</td>\n",
       "      <td>...</td>\n",
       "      <td>...</td>\n",
       "      <td>...</td>\n",
       "      <td>...</td>\n",
       "      <td>...</td>\n",
       "      <td>...</td>\n",
       "      <td>...</td>\n",
       "      <td>...</td>\n",
       "      <td>...</td>\n",
       "      <td>...</td>\n",
       "      <td>...</td>\n",
       "      <td>...</td>\n",
       "      <td>...</td>\n",
       "      <td>...</td>\n",
       "      <td>...</td>\n",
       "      <td>...</td>\n",
       "      <td>...</td>\n",
       "      <td>...</td>\n",
       "      <td>...</td>\n",
       "      <td>...</td>\n",
       "    </tr>\n",
       "    <tr>\n",
       "      <th>T24_TTTCCTCCAGACAAGC</th>\n",
       "      <td>0.017641</td>\n",
       "      <td>0.005050</td>\n",
       "      <td>0.042925</td>\n",
       "      <td>0.767404</td>\n",
       "      <td>-0.031865</td>\n",
       "      <td>-1.046213</td>\n",
       "      <td>0.016363</td>\n",
       "      <td>1.642829</td>\n",
       "      <td>-0.893687</td>\n",
       "      <td>0.019125</td>\n",
       "      <td>...</td>\n",
       "      <td>0.751845</td>\n",
       "      <td>-0.267433</td>\n",
       "      <td>-1.031529</td>\n",
       "      <td>-0.688393</td>\n",
       "      <td>0.025190</td>\n",
       "      <td>-0.034690</td>\n",
       "      <td>-1.727441</td>\n",
       "      <td>-0.059350</td>\n",
       "      <td>-0.011701</td>\n",
       "      <td>0.060889</td>\n",
       "    </tr>\n",
       "    <tr>\n",
       "      <th>T24_TTTGCGCCAATCGAAA</th>\n",
       "      <td>-0.011175</td>\n",
       "      <td>0.010350</td>\n",
       "      <td>-0.011520</td>\n",
       "      <td>1.265818</td>\n",
       "      <td>-0.006328</td>\n",
       "      <td>-1.184348</td>\n",
       "      <td>0.039789</td>\n",
       "      <td>-1.155374</td>\n",
       "      <td>-0.138744</td>\n",
       "      <td>-0.218545</td>\n",
       "      <td>...</td>\n",
       "      <td>-0.803185</td>\n",
       "      <td>0.014058</td>\n",
       "      <td>0.769134</td>\n",
       "      <td>-0.971193</td>\n",
       "      <td>0.002922</td>\n",
       "      <td>-0.011592</td>\n",
       "      <td>-0.635144</td>\n",
       "      <td>-0.032277</td>\n",
       "      <td>-0.012269</td>\n",
       "      <td>0.112088</td>\n",
       "    </tr>\n",
       "    <tr>\n",
       "      <th>T24_TTTGCGCTCTTATCTG</th>\n",
       "      <td>0.021221</td>\n",
       "      <td>0.016244</td>\n",
       "      <td>-0.003535</td>\n",
       "      <td>2.289876</td>\n",
       "      <td>0.036617</td>\n",
       "      <td>-1.421605</td>\n",
       "      <td>0.981048</td>\n",
       "      <td>0.009560</td>\n",
       "      <td>-0.604974</td>\n",
       "      <td>-0.092936</td>\n",
       "      <td>...</td>\n",
       "      <td>-0.331045</td>\n",
       "      <td>-0.111880</td>\n",
       "      <td>0.369194</td>\n",
       "      <td>-0.733554</td>\n",
       "      <td>0.024871</td>\n",
       "      <td>0.013581</td>\n",
       "      <td>-0.169933</td>\n",
       "      <td>0.013973</td>\n",
       "      <td>-0.019886</td>\n",
       "      <td>0.001815</td>\n",
       "    </tr>\n",
       "    <tr>\n",
       "      <th>T24_TTTGGTTAGACACTAA</th>\n",
       "      <td>0.063437</td>\n",
       "      <td>0.018660</td>\n",
       "      <td>0.004487</td>\n",
       "      <td>1.473815</td>\n",
       "      <td>-0.000105</td>\n",
       "      <td>-1.784739</td>\n",
       "      <td>0.107552</td>\n",
       "      <td>0.216333</td>\n",
       "      <td>0.025507</td>\n",
       "      <td>0.027550</td>\n",
       "      <td>...</td>\n",
       "      <td>0.097063</td>\n",
       "      <td>0.190448</td>\n",
       "      <td>0.715559</td>\n",
       "      <td>-0.639196</td>\n",
       "      <td>0.038621</td>\n",
       "      <td>0.026653</td>\n",
       "      <td>-0.510227</td>\n",
       "      <td>0.062492</td>\n",
       "      <td>0.170191</td>\n",
       "      <td>1.378558</td>\n",
       "    </tr>\n",
       "    <tr>\n",
       "      <th>T24_TTTGTCAAGATGTCGG</th>\n",
       "      <td>0.020784</td>\n",
       "      <td>0.017616</td>\n",
       "      <td>0.031030</td>\n",
       "      <td>-1.658822</td>\n",
       "      <td>-0.009322</td>\n",
       "      <td>0.746723</td>\n",
       "      <td>-0.373825</td>\n",
       "      <td>0.777382</td>\n",
       "      <td>-0.499943</td>\n",
       "      <td>-0.063851</td>\n",
       "      <td>...</td>\n",
       "      <td>-0.017919</td>\n",
       "      <td>-0.335367</td>\n",
       "      <td>1.260565</td>\n",
       "      <td>-1.077055</td>\n",
       "      <td>0.035095</td>\n",
       "      <td>0.005766</td>\n",
       "      <td>0.986388</td>\n",
       "      <td>-0.018086</td>\n",
       "      <td>-0.307580</td>\n",
       "      <td>0.003489</td>\n",
       "    </tr>\n",
       "  </tbody>\n",
       "</table>\n",
       "<p>11315 rows × 6453 columns</p>\n",
       "</div>"
      ],
      "text/plain": [
       "regulator                 AATF     ABCA1    ABCA12     ABCA3     ABCA7  \\\n",
       "T1_AACACGTCAATGACCT   0.003478  0.021827 -0.000146 -1.892847  0.012870   \n",
       "T1_AACCATGCACAACTGT   0.021164  0.022861  0.017899 -1.915731  0.143748   \n",
       "T1_AACCATGTCTGATTCT   0.005886  0.010786  0.003141 -1.151431 -0.035641   \n",
       "T1_AACCATGTCTGTCCGT   0.014610  0.037640  0.041812  1.548044  0.025776   \n",
       "T1_AACCGCGGTACTCGCG   0.017482  0.028096  0.002755 -2.027166 -0.017121   \n",
       "...                        ...       ...       ...       ...       ...   \n",
       "T24_TTTCCTCCAGACAAGC  0.017641  0.005050  0.042925  0.767404 -0.031865   \n",
       "T24_TTTGCGCCAATCGAAA -0.011175  0.010350 -0.011520  1.265818 -0.006328   \n",
       "T24_TTTGCGCTCTTATCTG  0.021221  0.016244 -0.003535  2.289876  0.036617   \n",
       "T24_TTTGGTTAGACACTAA  0.063437  0.018660  0.004487  1.473815 -0.000105   \n",
       "T24_TTTGTCAAGATGTCGG  0.020784  0.017616  0.031030 -1.658822 -0.009322   \n",
       "\n",
       "regulator                ABCA8     ABCB1    ABCB11     ABCB4     ABCB5  ...  \\\n",
       "T1_AACACGTCAATGACCT  -1.626956  0.020836  0.295218 -0.043554  0.051283  ...   \n",
       "T1_AACCATGCACAACTGT  -1.285993 -0.007112 -0.424700  1.630497  0.039928  ...   \n",
       "T1_AACCATGTCTGATTCT  -1.060720  0.128850  0.623142 -0.773390 -0.041436  ...   \n",
       "T1_AACCATGTCTGTCCGT   1.055263 -0.100038  0.415668 -0.573411 -0.032747  ...   \n",
       "T1_AACCGCGGTACTCGCG  -0.850260 -0.018189  0.404971 -0.036865 -0.076835  ...   \n",
       "...                        ...       ...       ...       ...       ...  ...   \n",
       "T24_TTTCCTCCAGACAAGC -1.046213  0.016363  1.642829 -0.893687  0.019125  ...   \n",
       "T24_TTTGCGCCAATCGAAA -1.184348  0.039789 -1.155374 -0.138744 -0.218545  ...   \n",
       "T24_TTTGCGCTCTTATCTG -1.421605  0.981048  0.009560 -0.604974 -0.092936  ...   \n",
       "T24_TTTGGTTAGACACTAA -1.784739  0.107552  0.216333  0.025507  0.027550  ...   \n",
       "T24_TTTGTCAAGATGTCGG  0.746723 -0.373825  0.777382 -0.499943 -0.063851  ...   \n",
       "\n",
       "regulator               ZSWIM5    ZSWIM6    ZSWIM7     ZWINT      ZXDA  \\\n",
       "T1_AACACGTCAATGACCT  -0.981025 -0.301464 -0.477378  1.952636  0.020272   \n",
       "T1_AACCATGCACAACTGT  -0.384865  0.751079 -0.384921  0.632195  0.013861   \n",
       "T1_AACCATGTCTGATTCT  -0.281773  0.046981  0.844734 -0.710689 -0.006223   \n",
       "T1_AACCATGTCTGTCCGT  -0.602362 -0.105102  0.964380  0.178080 -0.018838   \n",
       "T1_AACCGCGGTACTCGCG  -0.304488  0.410485  1.484359 -0.693966 -0.004976   \n",
       "...                        ...       ...       ...       ...       ...   \n",
       "T24_TTTCCTCCAGACAAGC  0.751845 -0.267433 -1.031529 -0.688393  0.025190   \n",
       "T24_TTTGCGCCAATCGAAA -0.803185  0.014058  0.769134 -0.971193  0.002922   \n",
       "T24_TTTGCGCTCTTATCTG -0.331045 -0.111880  0.369194 -0.733554  0.024871   \n",
       "T24_TTTGGTTAGACACTAA  0.097063  0.190448  0.715559 -0.639196  0.038621   \n",
       "T24_TTTGTCAAGATGTCGG -0.017919 -0.335367  1.260565 -1.077055  0.035095   \n",
       "\n",
       "regulator                 ZXDB      ZXDC       ZYX     ZZEF1      ZZZ3  \n",
       "T1_AACACGTCAATGACCT  -0.017226 -0.675347  0.005074 -0.036858  1.615052  \n",
       "T1_AACCATGCACAACTGT   0.035514  0.486563  0.026284 -0.377175  1.666068  \n",
       "T1_AACCATGTCTGATTCT   0.176814  1.029464 -0.006727 -0.538143  0.006137  \n",
       "T1_AACCATGTCTGTCCGT   0.020599  0.013466  0.084279 -0.448729  0.469023  \n",
       "T1_AACCGCGGTACTCGCG   0.020983 -0.185549  0.013146  0.002211 -0.040599  \n",
       "...                        ...       ...       ...       ...       ...  \n",
       "T24_TTTCCTCCAGACAAGC -0.034690 -1.727441 -0.059350 -0.011701  0.060889  \n",
       "T24_TTTGCGCCAATCGAAA -0.011592 -0.635144 -0.032277 -0.012269  0.112088  \n",
       "T24_TTTGCGCTCTTATCTG  0.013581 -0.169933  0.013973 -0.019886  0.001815  \n",
       "T24_TTTGGTTAGACACTAA  0.026653 -0.510227  0.062492  0.170191  1.378558  \n",
       "T24_TTTGTCAAGATGTCGG  0.005766  0.986388 -0.018086 -0.307580  0.003489  \n",
       "\n",
       "[11315 rows x 6453 columns]"
      ]
     },
     "execution_count": 11,
     "metadata": {},
     "output_type": "execute_result"
    }
   ],
   "source": [
    "ProtAct_aREA # display the protein activity matrix "
   ]
  },
  {
   "cell_type": "markdown",
   "id": "9f425ff4-c762-4881-914a-a2c8d3789df2",
   "metadata": {
    "tags": []
   },
   "source": [
    "#### Method 2 - protein activity inference using (matrix)-NaRnEA"
   ]
  },
  {
   "cell_type": "markdown",
   "id": "324fc2f0-64db-417c-917e-cb7df2c42665",
   "metadata": {
    "tags": []
   },
   "source": [
    "<div class=\"alert alert-block alert-success\">\n",
    "<b></b> Run `viper` to compute the protein activity matrix (matrix-NaRnEA method).\n",
    "</div>\n",
    " \n",
    "\n",
    "Compute the protein activity using `viper` with NaRnEA as the enrichment method. Unlike aREA, NaRnEA can run with regulons of different sizes, i.e. different number of targets per regulator. Store the output in an `AnnData` object (default)."
   ]
  },
  {
   "cell_type": "code",
   "execution_count": 12,
   "id": "8b720e94-e2e4-4e9c-9fb4-f96bf1ba6ba0",
   "metadata": {
    "tags": []
   },
   "outputs": [],
   "source": [
    "ProtAct_NaRnEA = pyther.viper(gex_data=gene_expr_signature, # gene expression signature\n",
    "                                 interactome=network_interactome, # gene regulatory network\n",
    "                                 enrichment = \"narnea\",\n",
    "                                 njobs=1,\n",
    "                                 verbose=False)"
   ]
  },
  {
   "cell_type": "markdown",
   "id": "a0c6f315-c061-49d8-8f9e-28aa75ca8afc",
   "metadata": {
    "tags": []
   },
   "source": [
    "Show the output type and length of `ProtAct_NaRnEA`."
   ]
  },
  {
   "cell_type": "code",
   "execution_count": 13,
   "id": "b09ded46-879c-49e3-882e-b1db97625aa2",
   "metadata": {
    "tags": []
   },
   "outputs": [
    {
     "data": {
      "text/plain": [
       "AnnData object with n_obs × n_vars = 11315 × 6593\n",
       "    uns: 'gex_data'\n",
       "    layers: 'pes'"
      ]
     },
     "execution_count": 13,
     "metadata": {},
     "output_type": "execute_result"
    }
   ],
   "source": [
    "ProtAct_NaRnEA # display the protein activity matrix as AnnData object "
   ]
  },
  {
   "cell_type": "markdown",
   "id": "02980829-813b-42bc-83ed-bf9933637fdd",
   "metadata": {},
   "source": [
    "When using NaRnEA, `viper` returns an additional layer, `pes` that stores the Proportional Enrichment Scores (PES) for regulator, a measure bound in the interval $-1 \\le PES \\le 1$ that can be used as a measure of effect size. For further details, see [Griffin et al., 2022](https://pubmed.ncbi.nlm.nih.gov/36981431/).\n",
    "\n",
    "Display NES protein activity matrix.\n"
   ]
  },
  {
   "cell_type": "code",
   "execution_count": 15,
   "id": "543cdefc-87cc-4912-b3df-9e6f8f537b5c",
   "metadata": {
    "tags": []
   },
   "outputs": [
    {
     "data": {
      "text/html": [
       "<div>\n",
       "<style scoped>\n",
       "    .dataframe tbody tr th:only-of-type {\n",
       "        vertical-align: middle;\n",
       "    }\n",
       "\n",
       "    .dataframe tbody tr th {\n",
       "        vertical-align: top;\n",
       "    }\n",
       "\n",
       "    .dataframe thead th {\n",
       "        text-align: right;\n",
       "    }\n",
       "</style>\n",
       "<table border=\"1\" class=\"dataframe\">\n",
       "  <thead>\n",
       "    <tr style=\"text-align: right;\">\n",
       "      <th></th>\n",
       "      <th>AAMP</th>\n",
       "      <th>AATF</th>\n",
       "      <th>ABCA1</th>\n",
       "      <th>ABCA12</th>\n",
       "      <th>ABCA3</th>\n",
       "      <th>ABCA7</th>\n",
       "      <th>ABCA8</th>\n",
       "      <th>ABCB1</th>\n",
       "      <th>ABCB11</th>\n",
       "      <th>ABCB4</th>\n",
       "      <th>...</th>\n",
       "      <th>ZSWIM5</th>\n",
       "      <th>ZSWIM6</th>\n",
       "      <th>ZSWIM7</th>\n",
       "      <th>ZWINT</th>\n",
       "      <th>ZXDA</th>\n",
       "      <th>ZXDB</th>\n",
       "      <th>ZXDC</th>\n",
       "      <th>ZYX</th>\n",
       "      <th>ZZEF1</th>\n",
       "      <th>ZZZ3</th>\n",
       "    </tr>\n",
       "  </thead>\n",
       "  <tbody>\n",
       "    <tr>\n",
       "      <th>T1_AACACGTCAATGACCT</th>\n",
       "      <td>5.951375</td>\n",
       "      <td>-6.182347</td>\n",
       "      <td>-2.507142</td>\n",
       "      <td>-2.253130</td>\n",
       "      <td>-2.496547</td>\n",
       "      <td>7.366656</td>\n",
       "      <td>-2.128077</td>\n",
       "      <td>-1.860151</td>\n",
       "      <td>1.616963</td>\n",
       "      <td>-2.362606</td>\n",
       "      <td>...</td>\n",
       "      <td>1.166578</td>\n",
       "      <td>4.976091</td>\n",
       "      <td>-5.864811</td>\n",
       "      <td>-6.763819</td>\n",
       "      <td>1.716382</td>\n",
       "      <td>-3.630205</td>\n",
       "      <td>-3.348021</td>\n",
       "      <td>7.975582</td>\n",
       "      <td>3.442741</td>\n",
       "      <td>-5.313166</td>\n",
       "    </tr>\n",
       "    <tr>\n",
       "      <th>T1_AACCATGCACAACTGT</th>\n",
       "      <td>-7.905461</td>\n",
       "      <td>-7.662926</td>\n",
       "      <td>2.121460</td>\n",
       "      <td>-1.175113</td>\n",
       "      <td>-2.468094</td>\n",
       "      <td>-7.462323</td>\n",
       "      <td>-2.433052</td>\n",
       "      <td>1.263038</td>\n",
       "      <td>-1.058242</td>\n",
       "      <td>-2.084751</td>\n",
       "      <td>...</td>\n",
       "      <td>1.246235</td>\n",
       "      <td>-5.531142</td>\n",
       "      <td>-6.544208</td>\n",
       "      <td>-6.002681</td>\n",
       "      <td>-1.430644</td>\n",
       "      <td>-3.714284</td>\n",
       "      <td>2.529195</td>\n",
       "      <td>-6.750428</td>\n",
       "      <td>-3.783460</td>\n",
       "      <td>-6.636886</td>\n",
       "    </tr>\n",
       "    <tr>\n",
       "      <th>T1_AACCATGTCTGATTCT</th>\n",
       "      <td>-4.467884</td>\n",
       "      <td>-5.220842</td>\n",
       "      <td>-3.186879</td>\n",
       "      <td>-1.261798</td>\n",
       "      <td>1.777065</td>\n",
       "      <td>-6.956938</td>\n",
       "      <td>-2.696425</td>\n",
       "      <td>-1.186100</td>\n",
       "      <td>1.051735</td>\n",
       "      <td>2.481672</td>\n",
       "      <td>...</td>\n",
       "      <td>2.060335</td>\n",
       "      <td>6.235016</td>\n",
       "      <td>5.617225</td>\n",
       "      <td>-6.921654</td>\n",
       "      <td>2.338369</td>\n",
       "      <td>-3.725552</td>\n",
       "      <td>1.978702</td>\n",
       "      <td>6.755377</td>\n",
       "      <td>4.470265</td>\n",
       "      <td>-4.883226</td>\n",
       "    </tr>\n",
       "    <tr>\n",
       "      <th>T1_AACCATGTCTGTCCGT</th>\n",
       "      <td>6.219553</td>\n",
       "      <td>-6.974754</td>\n",
       "      <td>-2.578445</td>\n",
       "      <td>-1.740226</td>\n",
       "      <td>-2.163299</td>\n",
       "      <td>-9.057311</td>\n",
       "      <td>2.081327</td>\n",
       "      <td>1.035042</td>\n",
       "      <td>1.236982</td>\n",
       "      <td>2.147826</td>\n",
       "      <td>...</td>\n",
       "      <td>1.243236</td>\n",
       "      <td>5.120960</td>\n",
       "      <td>-6.440320</td>\n",
       "      <td>-7.196440</td>\n",
       "      <td>-0.828349</td>\n",
       "      <td>5.631126</td>\n",
       "      <td>-2.386871</td>\n",
       "      <td>7.764003</td>\n",
       "      <td>-3.036024</td>\n",
       "      <td>-5.383112</td>\n",
       "    </tr>\n",
       "    <tr>\n",
       "      <th>T1_AACCGCGGTACTCGCG</th>\n",
       "      <td>5.906399</td>\n",
       "      <td>-6.775007</td>\n",
       "      <td>-3.700379</td>\n",
       "      <td>1.809953</td>\n",
       "      <td>2.655762</td>\n",
       "      <td>-6.888924</td>\n",
       "      <td>-1.019356</td>\n",
       "      <td>1.441171</td>\n",
       "      <td>-1.354680</td>\n",
       "      <td>2.349706</td>\n",
       "      <td>...</td>\n",
       "      <td>1.242376</td>\n",
       "      <td>6.220801</td>\n",
       "      <td>7.076439</td>\n",
       "      <td>-6.452016</td>\n",
       "      <td>1.313020</td>\n",
       "      <td>3.304231</td>\n",
       "      <td>1.939388</td>\n",
       "      <td>6.313558</td>\n",
       "      <td>-3.967383</td>\n",
       "      <td>5.199342</td>\n",
       "    </tr>\n",
       "    <tr>\n",
       "      <th>...</th>\n",
       "      <td>...</td>\n",
       "      <td>...</td>\n",
       "      <td>...</td>\n",
       "      <td>...</td>\n",
       "      <td>...</td>\n",
       "      <td>...</td>\n",
       "      <td>...</td>\n",
       "      <td>...</td>\n",
       "      <td>...</td>\n",
       "      <td>...</td>\n",
       "      <td>...</td>\n",
       "      <td>...</td>\n",
       "      <td>...</td>\n",
       "      <td>...</td>\n",
       "      <td>...</td>\n",
       "      <td>...</td>\n",
       "      <td>...</td>\n",
       "      <td>...</td>\n",
       "      <td>...</td>\n",
       "      <td>...</td>\n",
       "      <td>...</td>\n",
       "    </tr>\n",
       "    <tr>\n",
       "      <th>T24_TTTCCTCCAGACAAGC</th>\n",
       "      <td>-3.179003</td>\n",
       "      <td>3.849975</td>\n",
       "      <td>-3.416965</td>\n",
       "      <td>1.749656</td>\n",
       "      <td>-1.612980</td>\n",
       "      <td>5.309050</td>\n",
       "      <td>2.132325</td>\n",
       "      <td>-0.849799</td>\n",
       "      <td>-2.520791</td>\n",
       "      <td>2.597153</td>\n",
       "      <td>...</td>\n",
       "      <td>-2.117735</td>\n",
       "      <td>-4.934680</td>\n",
       "      <td>-3.930921</td>\n",
       "      <td>11.898617</td>\n",
       "      <td>-1.004773</td>\n",
       "      <td>2.930437</td>\n",
       "      <td>-2.374563</td>\n",
       "      <td>2.873573</td>\n",
       "      <td>4.134772</td>\n",
       "      <td>3.602358</td>\n",
       "    </tr>\n",
       "    <tr>\n",
       "      <th>T24_TTTGCGCCAATCGAAA</th>\n",
       "      <td>4.136378</td>\n",
       "      <td>6.295573</td>\n",
       "      <td>-2.594259</td>\n",
       "      <td>-2.241861</td>\n",
       "      <td>1.256665</td>\n",
       "      <td>6.880444</td>\n",
       "      <td>-1.721376</td>\n",
       "      <td>1.454858</td>\n",
       "      <td>-1.196661</td>\n",
       "      <td>-2.111783</td>\n",
       "      <td>...</td>\n",
       "      <td>-2.982656</td>\n",
       "      <td>6.261072</td>\n",
       "      <td>-5.760741</td>\n",
       "      <td>-5.334735</td>\n",
       "      <td>-1.573474</td>\n",
       "      <td>-4.339206</td>\n",
       "      <td>-3.580222</td>\n",
       "      <td>-5.140140</td>\n",
       "      <td>4.642709</td>\n",
       "      <td>-4.783969</td>\n",
       "    </tr>\n",
       "    <tr>\n",
       "      <th>T24_TTTGCGCTCTTATCTG</th>\n",
       "      <td>7.836391</td>\n",
       "      <td>-7.106687</td>\n",
       "      <td>-2.479225</td>\n",
       "      <td>2.209056</td>\n",
       "      <td>-1.289580</td>\n",
       "      <td>-7.024376</td>\n",
       "      <td>-2.280278</td>\n",
       "      <td>-1.358428</td>\n",
       "      <td>1.190137</td>\n",
       "      <td>2.781669</td>\n",
       "      <td>...</td>\n",
       "      <td>-1.963767</td>\n",
       "      <td>-6.282956</td>\n",
       "      <td>5.468326</td>\n",
       "      <td>-6.062498</td>\n",
       "      <td>-1.796486</td>\n",
       "      <td>3.518511</td>\n",
       "      <td>-1.771200</td>\n",
       "      <td>5.989233</td>\n",
       "      <td>-5.568146</td>\n",
       "      <td>-5.535362</td>\n",
       "    </tr>\n",
       "    <tr>\n",
       "      <th>T24_TTTGGTTAGACACTAA</th>\n",
       "      <td>6.241811</td>\n",
       "      <td>6.393485</td>\n",
       "      <td>-2.661585</td>\n",
       "      <td>1.277664</td>\n",
       "      <td>1.850238</td>\n",
       "      <td>-8.116560</td>\n",
       "      <td>2.631627</td>\n",
       "      <td>2.454699</td>\n",
       "      <td>-1.170700</td>\n",
       "      <td>-2.092703</td>\n",
       "      <td>...</td>\n",
       "      <td>1.939028</td>\n",
       "      <td>6.934541</td>\n",
       "      <td>-6.359559</td>\n",
       "      <td>-5.469336</td>\n",
       "      <td>2.603914</td>\n",
       "      <td>4.882271</td>\n",
       "      <td>-2.601518</td>\n",
       "      <td>5.996581</td>\n",
       "      <td>-3.996712</td>\n",
       "      <td>5.538172</td>\n",
       "    </tr>\n",
       "    <tr>\n",
       "      <th>T24_TTTGTCAAGATGTCGG</th>\n",
       "      <td>4.246407</td>\n",
       "      <td>4.709981</td>\n",
       "      <td>-3.066479</td>\n",
       "      <td>-3.368676</td>\n",
       "      <td>2.722039</td>\n",
       "      <td>6.277014</td>\n",
       "      <td>-3.461760</td>\n",
       "      <td>1.092259</td>\n",
       "      <td>-1.599476</td>\n",
       "      <td>2.912740</td>\n",
       "      <td>...</td>\n",
       "      <td>1.309737</td>\n",
       "      <td>-5.714334</td>\n",
       "      <td>-4.892763</td>\n",
       "      <td>-7.103869</td>\n",
       "      <td>0.980072</td>\n",
       "      <td>-2.377007</td>\n",
       "      <td>-3.647365</td>\n",
       "      <td>5.286477</td>\n",
       "      <td>2.875017</td>\n",
       "      <td>-5.547071</td>\n",
       "    </tr>\n",
       "  </tbody>\n",
       "</table>\n",
       "<p>11315 rows × 6593 columns</p>\n",
       "</div>"
      ],
      "text/plain": [
       "                          AAMP      AATF     ABCA1    ABCA12     ABCA3  \\\n",
       "T1_AACACGTCAATGACCT   5.951375 -6.182347 -2.507142 -2.253130 -2.496547   \n",
       "T1_AACCATGCACAACTGT  -7.905461 -7.662926  2.121460 -1.175113 -2.468094   \n",
       "T1_AACCATGTCTGATTCT  -4.467884 -5.220842 -3.186879 -1.261798  1.777065   \n",
       "T1_AACCATGTCTGTCCGT   6.219553 -6.974754 -2.578445 -1.740226 -2.163299   \n",
       "T1_AACCGCGGTACTCGCG   5.906399 -6.775007 -3.700379  1.809953  2.655762   \n",
       "...                        ...       ...       ...       ...       ...   \n",
       "T24_TTTCCTCCAGACAAGC -3.179003  3.849975 -3.416965  1.749656 -1.612980   \n",
       "T24_TTTGCGCCAATCGAAA  4.136378  6.295573 -2.594259 -2.241861  1.256665   \n",
       "T24_TTTGCGCTCTTATCTG  7.836391 -7.106687 -2.479225  2.209056 -1.289580   \n",
       "T24_TTTGGTTAGACACTAA  6.241811  6.393485 -2.661585  1.277664  1.850238   \n",
       "T24_TTTGTCAAGATGTCGG  4.246407  4.709981 -3.066479 -3.368676  2.722039   \n",
       "\n",
       "                         ABCA7     ABCA8     ABCB1    ABCB11     ABCB4  ...  \\\n",
       "T1_AACACGTCAATGACCT   7.366656 -2.128077 -1.860151  1.616963 -2.362606  ...   \n",
       "T1_AACCATGCACAACTGT  -7.462323 -2.433052  1.263038 -1.058242 -2.084751  ...   \n",
       "T1_AACCATGTCTGATTCT  -6.956938 -2.696425 -1.186100  1.051735  2.481672  ...   \n",
       "T1_AACCATGTCTGTCCGT  -9.057311  2.081327  1.035042  1.236982  2.147826  ...   \n",
       "T1_AACCGCGGTACTCGCG  -6.888924 -1.019356  1.441171 -1.354680  2.349706  ...   \n",
       "...                        ...       ...       ...       ...       ...  ...   \n",
       "T24_TTTCCTCCAGACAAGC  5.309050  2.132325 -0.849799 -2.520791  2.597153  ...   \n",
       "T24_TTTGCGCCAATCGAAA  6.880444 -1.721376  1.454858 -1.196661 -2.111783  ...   \n",
       "T24_TTTGCGCTCTTATCTG -7.024376 -2.280278 -1.358428  1.190137  2.781669  ...   \n",
       "T24_TTTGGTTAGACACTAA -8.116560  2.631627  2.454699 -1.170700 -2.092703  ...   \n",
       "T24_TTTGTCAAGATGTCGG  6.277014 -3.461760  1.092259 -1.599476  2.912740  ...   \n",
       "\n",
       "                        ZSWIM5    ZSWIM6    ZSWIM7      ZWINT      ZXDA  \\\n",
       "T1_AACACGTCAATGACCT   1.166578  4.976091 -5.864811  -6.763819  1.716382   \n",
       "T1_AACCATGCACAACTGT   1.246235 -5.531142 -6.544208  -6.002681 -1.430644   \n",
       "T1_AACCATGTCTGATTCT   2.060335  6.235016  5.617225  -6.921654  2.338369   \n",
       "T1_AACCATGTCTGTCCGT   1.243236  5.120960 -6.440320  -7.196440 -0.828349   \n",
       "T1_AACCGCGGTACTCGCG   1.242376  6.220801  7.076439  -6.452016  1.313020   \n",
       "...                        ...       ...       ...        ...       ...   \n",
       "T24_TTTCCTCCAGACAAGC -2.117735 -4.934680 -3.930921  11.898617 -1.004773   \n",
       "T24_TTTGCGCCAATCGAAA -2.982656  6.261072 -5.760741  -5.334735 -1.573474   \n",
       "T24_TTTGCGCTCTTATCTG -1.963767 -6.282956  5.468326  -6.062498 -1.796486   \n",
       "T24_TTTGGTTAGACACTAA  1.939028  6.934541 -6.359559  -5.469336  2.603914   \n",
       "T24_TTTGTCAAGATGTCGG  1.309737 -5.714334 -4.892763  -7.103869  0.980072   \n",
       "\n",
       "                          ZXDB      ZXDC       ZYX     ZZEF1      ZZZ3  \n",
       "T1_AACACGTCAATGACCT  -3.630205 -3.348021  7.975582  3.442741 -5.313166  \n",
       "T1_AACCATGCACAACTGT  -3.714284  2.529195 -6.750428 -3.783460 -6.636886  \n",
       "T1_AACCATGTCTGATTCT  -3.725552  1.978702  6.755377  4.470265 -4.883226  \n",
       "T1_AACCATGTCTGTCCGT   5.631126 -2.386871  7.764003 -3.036024 -5.383112  \n",
       "T1_AACCGCGGTACTCGCG   3.304231  1.939388  6.313558 -3.967383  5.199342  \n",
       "...                        ...       ...       ...       ...       ...  \n",
       "T24_TTTCCTCCAGACAAGC  2.930437 -2.374563  2.873573  4.134772  3.602358  \n",
       "T24_TTTGCGCCAATCGAAA -4.339206 -3.580222 -5.140140  4.642709 -4.783969  \n",
       "T24_TTTGCGCTCTTATCTG  3.518511 -1.771200  5.989233 -5.568146 -5.535362  \n",
       "T24_TTTGGTTAGACACTAA  4.882271 -2.601518  5.996581 -3.996712  5.538172  \n",
       "T24_TTTGTCAAGATGTCGG -2.377007 -3.647365  5.286477  2.875017 -5.547071  \n",
       "\n",
       "[11315 rows x 6593 columns]"
      ]
     },
     "execution_count": 15,
     "metadata": {},
     "output_type": "execute_result"
    }
   ],
   "source": [
    "ProtAct_NaRnEA.to_df() # NES matrix"
   ]
  },
  {
   "cell_type": "markdown",
   "id": "86789f22-fa2a-4689-99c3-d9186a1feb58",
   "metadata": {},
   "source": [
    "Display the PES protein activity matrix."
   ]
  },
  {
   "cell_type": "code",
   "execution_count": 16,
   "id": "d02b5dab-bc33-4659-a4f6-e06cb8d0a5a9",
   "metadata": {
    "tags": []
   },
   "outputs": [
    {
     "data": {
      "text/html": [
       "<div>\n",
       "<style scoped>\n",
       "    .dataframe tbody tr th:only-of-type {\n",
       "        vertical-align: middle;\n",
       "    }\n",
       "\n",
       "    .dataframe tbody tr th {\n",
       "        vertical-align: top;\n",
       "    }\n",
       "\n",
       "    .dataframe thead th {\n",
       "        text-align: right;\n",
       "    }\n",
       "</style>\n",
       "<table border=\"1\" class=\"dataframe\">\n",
       "  <thead>\n",
       "    <tr style=\"text-align: right;\">\n",
       "      <th></th>\n",
       "      <th>AAMP</th>\n",
       "      <th>AATF</th>\n",
       "      <th>ABCA1</th>\n",
       "      <th>ABCA12</th>\n",
       "      <th>ABCA3</th>\n",
       "      <th>ABCA7</th>\n",
       "      <th>ABCA8</th>\n",
       "      <th>ABCB1</th>\n",
       "      <th>ABCB11</th>\n",
       "      <th>ABCB4</th>\n",
       "      <th>...</th>\n",
       "      <th>ZSWIM5</th>\n",
       "      <th>ZSWIM6</th>\n",
       "      <th>ZSWIM7</th>\n",
       "      <th>ZWINT</th>\n",
       "      <th>ZXDA</th>\n",
       "      <th>ZXDB</th>\n",
       "      <th>ZXDC</th>\n",
       "      <th>ZYX</th>\n",
       "      <th>ZZEF1</th>\n",
       "      <th>ZZZ3</th>\n",
       "    </tr>\n",
       "  </thead>\n",
       "  <tbody>\n",
       "    <tr>\n",
       "      <th>T1_AACACGTCAATGACCT</th>\n",
       "      <td>0.306357</td>\n",
       "      <td>-0.408439</td>\n",
       "      <td>-0.110749</td>\n",
       "      <td>-0.098052</td>\n",
       "      <td>-0.097408</td>\n",
       "      <td>0.265594</td>\n",
       "      <td>-0.084639</td>\n",
       "      <td>-0.073236</td>\n",
       "      <td>0.059162</td>\n",
       "      <td>-0.088962</td>\n",
       "      <td>...</td>\n",
       "      <td>0.043409</td>\n",
       "      <td>0.198336</td>\n",
       "      <td>-0.375905</td>\n",
       "      <td>-0.241983</td>\n",
       "      <td>0.065417</td>\n",
       "      <td>-0.157345</td>\n",
       "      <td>-0.146673</td>\n",
       "      <td>0.350361</td>\n",
       "      <td>0.119426</td>\n",
       "      <td>-0.338686</td>\n",
       "    </tr>\n",
       "    <tr>\n",
       "      <th>T1_AACCATGCACAACTGT</th>\n",
       "      <td>-0.583017</td>\n",
       "      <td>-0.525114</td>\n",
       "      <td>0.074893</td>\n",
       "      <td>-0.049983</td>\n",
       "      <td>-0.094094</td>\n",
       "      <td>-0.389278</td>\n",
       "      <td>-0.094424</td>\n",
       "      <td>0.045944</td>\n",
       "      <td>-0.037941</td>\n",
       "      <td>-0.075374</td>\n",
       "      <td>...</td>\n",
       "      <td>0.044596</td>\n",
       "      <td>-0.311580</td>\n",
       "      <td>-0.436319</td>\n",
       "      <td>-0.222803</td>\n",
       "      <td>-0.053790</td>\n",
       "      <td>-0.162292</td>\n",
       "      <td>0.093505</td>\n",
       "      <td>-0.455874</td>\n",
       "      <td>-0.164573</td>\n",
       "      <td>-0.439685</td>\n",
       "    </tr>\n",
       "    <tr>\n",
       "      <th>T1_AACCATGTCTGATTCT</th>\n",
       "      <td>-0.303750</td>\n",
       "      <td>-0.328643</td>\n",
       "      <td>-0.140421</td>\n",
       "      <td>-0.055874</td>\n",
       "      <td>0.068011</td>\n",
       "      <td>-0.333324</td>\n",
       "      <td>-0.109304</td>\n",
       "      <td>-0.047926</td>\n",
       "      <td>0.039943</td>\n",
       "      <td>0.097610</td>\n",
       "      <td>...</td>\n",
       "      <td>0.079386</td>\n",
       "      <td>0.276174</td>\n",
       "      <td>0.285318</td>\n",
       "      <td>-0.235747</td>\n",
       "      <td>0.092640</td>\n",
       "      <td>-0.158800</td>\n",
       "      <td>0.082493</td>\n",
       "      <td>0.335159</td>\n",
       "      <td>0.168653</td>\n",
       "      <td>-0.295898</td>\n",
       "    </tr>\n",
       "    <tr>\n",
       "      <th>T1_AACCATGTCTGTCCGT</th>\n",
       "      <td>0.299271</td>\n",
       "      <td>-0.471106</td>\n",
       "      <td>-0.113513</td>\n",
       "      <td>-0.074641</td>\n",
       "      <td>-0.083175</td>\n",
       "      <td>-0.465730</td>\n",
       "      <td>0.075041</td>\n",
       "      <td>0.038304</td>\n",
       "      <td>0.044103</td>\n",
       "      <td>0.080168</td>\n",
       "      <td>...</td>\n",
       "      <td>0.045148</td>\n",
       "      <td>0.190969</td>\n",
       "      <td>-0.422768</td>\n",
       "      <td>-0.263264</td>\n",
       "      <td>-0.031542</td>\n",
       "      <td>0.187879</td>\n",
       "      <td>-0.103621</td>\n",
       "      <td>0.315866</td>\n",
       "      <td>-0.131508</td>\n",
       "      <td>-0.351251</td>\n",
       "    </tr>\n",
       "    <tr>\n",
       "      <th>T1_AACCGCGGTACTCGCG</th>\n",
       "      <td>0.308358</td>\n",
       "      <td>-0.445873</td>\n",
       "      <td>-0.163710</td>\n",
       "      <td>0.074094</td>\n",
       "      <td>0.097406</td>\n",
       "      <td>-0.345215</td>\n",
       "      <td>-0.040706</td>\n",
       "      <td>0.055225</td>\n",
       "      <td>-0.050565</td>\n",
       "      <td>0.090121</td>\n",
       "      <td>...</td>\n",
       "      <td>0.046497</td>\n",
       "      <td>0.251425</td>\n",
       "      <td>0.325877</td>\n",
       "      <td>-0.229937</td>\n",
       "      <td>0.050358</td>\n",
       "      <td>0.117484</td>\n",
       "      <td>0.076919</td>\n",
       "      <td>0.281765</td>\n",
       "      <td>-0.170872</td>\n",
       "      <td>0.239255</td>\n",
       "    </tr>\n",
       "    <tr>\n",
       "      <th>...</th>\n",
       "      <td>...</td>\n",
       "      <td>...</td>\n",
       "      <td>...</td>\n",
       "      <td>...</td>\n",
       "      <td>...</td>\n",
       "      <td>...</td>\n",
       "      <td>...</td>\n",
       "      <td>...</td>\n",
       "      <td>...</td>\n",
       "      <td>...</td>\n",
       "      <td>...</td>\n",
       "      <td>...</td>\n",
       "      <td>...</td>\n",
       "      <td>...</td>\n",
       "      <td>...</td>\n",
       "      <td>...</td>\n",
       "      <td>...</td>\n",
       "      <td>...</td>\n",
       "      <td>...</td>\n",
       "      <td>...</td>\n",
       "      <td>...</td>\n",
       "    </tr>\n",
       "    <tr>\n",
       "      <th>T24_TTTCCTCCAGACAAGC</th>\n",
       "      <td>-0.211809</td>\n",
       "      <td>0.213254</td>\n",
       "      <td>-0.150576</td>\n",
       "      <td>0.076473</td>\n",
       "      <td>-0.064643</td>\n",
       "      <td>0.224186</td>\n",
       "      <td>0.085493</td>\n",
       "      <td>-0.034781</td>\n",
       "      <td>-0.097921</td>\n",
       "      <td>0.103678</td>\n",
       "      <td>...</td>\n",
       "      <td>-0.083247</td>\n",
       "      <td>-0.252918</td>\n",
       "      <td>-0.233777</td>\n",
       "      <td>0.354508</td>\n",
       "      <td>-0.040819</td>\n",
       "      <td>0.116120</td>\n",
       "      <td>-0.105338</td>\n",
       "      <td>0.150401</td>\n",
       "      <td>0.162042</td>\n",
       "      <td>0.191371</td>\n",
       "    </tr>\n",
       "    <tr>\n",
       "      <th>T24_TTTGCGCCAATCGAAA</th>\n",
       "      <td>0.239280</td>\n",
       "      <td>0.335720</td>\n",
       "      <td>-0.114056</td>\n",
       "      <td>-0.099273</td>\n",
       "      <td>0.048265</td>\n",
       "      <td>0.279497</td>\n",
       "      <td>-0.069788</td>\n",
       "      <td>0.057882</td>\n",
       "      <td>-0.045866</td>\n",
       "      <td>-0.082638</td>\n",
       "      <td>...</td>\n",
       "      <td>-0.115675</td>\n",
       "      <td>0.279957</td>\n",
       "      <td>-0.347729</td>\n",
       "      <td>-0.180363</td>\n",
       "      <td>-0.063095</td>\n",
       "      <td>-0.184255</td>\n",
       "      <td>-0.157913</td>\n",
       "      <td>-0.308280</td>\n",
       "      <td>0.176416</td>\n",
       "      <td>-0.287722</td>\n",
       "    </tr>\n",
       "    <tr>\n",
       "      <th>T24_TTTGCGCTCTTATCTG</th>\n",
       "      <td>0.410541</td>\n",
       "      <td>-0.466455</td>\n",
       "      <td>-0.109568</td>\n",
       "      <td>0.090523</td>\n",
       "      <td>-0.050495</td>\n",
       "      <td>-0.351040</td>\n",
       "      <td>-0.091036</td>\n",
       "      <td>-0.053741</td>\n",
       "      <td>0.043833</td>\n",
       "      <td>0.106714</td>\n",
       "      <td>...</td>\n",
       "      <td>-0.074136</td>\n",
       "      <td>-0.340810</td>\n",
       "      <td>0.252764</td>\n",
       "      <td>-0.215466</td>\n",
       "      <td>-0.070249</td>\n",
       "      <td>0.125399</td>\n",
       "      <td>-0.077752</td>\n",
       "      <td>0.268401</td>\n",
       "      <td>-0.239418</td>\n",
       "      <td>-0.350437</td>\n",
       "    </tr>\n",
       "    <tr>\n",
       "      <th>T24_TTTGGTTAGACACTAA</th>\n",
       "      <td>0.313877</td>\n",
       "      <td>0.296471</td>\n",
       "      <td>-0.117585</td>\n",
       "      <td>0.051357</td>\n",
       "      <td>0.066622</td>\n",
       "      <td>-0.412124</td>\n",
       "      <td>0.097025</td>\n",
       "      <td>0.092608</td>\n",
       "      <td>-0.043178</td>\n",
       "      <td>-0.078175</td>\n",
       "      <td>...</td>\n",
       "      <td>0.071605</td>\n",
       "      <td>0.270096</td>\n",
       "      <td>-0.411751</td>\n",
       "      <td>-0.197534</td>\n",
       "      <td>0.098410</td>\n",
       "      <td>0.168612</td>\n",
       "      <td>-0.113742</td>\n",
       "      <td>0.256464</td>\n",
       "      <td>-0.172762</td>\n",
       "      <td>0.245280</td>\n",
       "    </tr>\n",
       "    <tr>\n",
       "      <th>T24_TTTGTCAAGATGTCGG</th>\n",
       "      <td>0.237521</td>\n",
       "      <td>0.242872</td>\n",
       "      <td>-0.135421</td>\n",
       "      <td>-0.148780</td>\n",
       "      <td>0.103088</td>\n",
       "      <td>0.246356</td>\n",
       "      <td>-0.139911</td>\n",
       "      <td>0.042978</td>\n",
       "      <td>-0.060867</td>\n",
       "      <td>0.113903</td>\n",
       "      <td>...</td>\n",
       "      <td>0.050119</td>\n",
       "      <td>-0.302141</td>\n",
       "      <td>-0.301996</td>\n",
       "      <td>-0.245289</td>\n",
       "      <td>0.038528</td>\n",
       "      <td>-0.101902</td>\n",
       "      <td>-0.160991</td>\n",
       "      <td>0.255188</td>\n",
       "      <td>0.106472</td>\n",
       "      <td>-0.340863</td>\n",
       "    </tr>\n",
       "  </tbody>\n",
       "</table>\n",
       "<p>11315 rows × 6593 columns</p>\n",
       "</div>"
      ],
      "text/plain": [
       "                          AAMP      AATF     ABCA1    ABCA12     ABCA3  \\\n",
       "T1_AACACGTCAATGACCT   0.306357 -0.408439 -0.110749 -0.098052 -0.097408   \n",
       "T1_AACCATGCACAACTGT  -0.583017 -0.525114  0.074893 -0.049983 -0.094094   \n",
       "T1_AACCATGTCTGATTCT  -0.303750 -0.328643 -0.140421 -0.055874  0.068011   \n",
       "T1_AACCATGTCTGTCCGT   0.299271 -0.471106 -0.113513 -0.074641 -0.083175   \n",
       "T1_AACCGCGGTACTCGCG   0.308358 -0.445873 -0.163710  0.074094  0.097406   \n",
       "...                        ...       ...       ...       ...       ...   \n",
       "T24_TTTCCTCCAGACAAGC -0.211809  0.213254 -0.150576  0.076473 -0.064643   \n",
       "T24_TTTGCGCCAATCGAAA  0.239280  0.335720 -0.114056 -0.099273  0.048265   \n",
       "T24_TTTGCGCTCTTATCTG  0.410541 -0.466455 -0.109568  0.090523 -0.050495   \n",
       "T24_TTTGGTTAGACACTAA  0.313877  0.296471 -0.117585  0.051357  0.066622   \n",
       "T24_TTTGTCAAGATGTCGG  0.237521  0.242872 -0.135421 -0.148780  0.103088   \n",
       "\n",
       "                         ABCA7     ABCA8     ABCB1    ABCB11     ABCB4  ...  \\\n",
       "T1_AACACGTCAATGACCT   0.265594 -0.084639 -0.073236  0.059162 -0.088962  ...   \n",
       "T1_AACCATGCACAACTGT  -0.389278 -0.094424  0.045944 -0.037941 -0.075374  ...   \n",
       "T1_AACCATGTCTGATTCT  -0.333324 -0.109304 -0.047926  0.039943  0.097610  ...   \n",
       "T1_AACCATGTCTGTCCGT  -0.465730  0.075041  0.038304  0.044103  0.080168  ...   \n",
       "T1_AACCGCGGTACTCGCG  -0.345215 -0.040706  0.055225 -0.050565  0.090121  ...   \n",
       "...                        ...       ...       ...       ...       ...  ...   \n",
       "T24_TTTCCTCCAGACAAGC  0.224186  0.085493 -0.034781 -0.097921  0.103678  ...   \n",
       "T24_TTTGCGCCAATCGAAA  0.279497 -0.069788  0.057882 -0.045866 -0.082638  ...   \n",
       "T24_TTTGCGCTCTTATCTG -0.351040 -0.091036 -0.053741  0.043833  0.106714  ...   \n",
       "T24_TTTGGTTAGACACTAA -0.412124  0.097025  0.092608 -0.043178 -0.078175  ...   \n",
       "T24_TTTGTCAAGATGTCGG  0.246356 -0.139911  0.042978 -0.060867  0.113903  ...   \n",
       "\n",
       "                        ZSWIM5    ZSWIM6    ZSWIM7     ZWINT      ZXDA  \\\n",
       "T1_AACACGTCAATGACCT   0.043409  0.198336 -0.375905 -0.241983  0.065417   \n",
       "T1_AACCATGCACAACTGT   0.044596 -0.311580 -0.436319 -0.222803 -0.053790   \n",
       "T1_AACCATGTCTGATTCT   0.079386  0.276174  0.285318 -0.235747  0.092640   \n",
       "T1_AACCATGTCTGTCCGT   0.045148  0.190969 -0.422768 -0.263264 -0.031542   \n",
       "T1_AACCGCGGTACTCGCG   0.046497  0.251425  0.325877 -0.229937  0.050358   \n",
       "...                        ...       ...       ...       ...       ...   \n",
       "T24_TTTCCTCCAGACAAGC -0.083247 -0.252918 -0.233777  0.354508 -0.040819   \n",
       "T24_TTTGCGCCAATCGAAA -0.115675  0.279957 -0.347729 -0.180363 -0.063095   \n",
       "T24_TTTGCGCTCTTATCTG -0.074136 -0.340810  0.252764 -0.215466 -0.070249   \n",
       "T24_TTTGGTTAGACACTAA  0.071605  0.270096 -0.411751 -0.197534  0.098410   \n",
       "T24_TTTGTCAAGATGTCGG  0.050119 -0.302141 -0.301996 -0.245289  0.038528   \n",
       "\n",
       "                          ZXDB      ZXDC       ZYX     ZZEF1      ZZZ3  \n",
       "T1_AACACGTCAATGACCT  -0.157345 -0.146673  0.350361  0.119426 -0.338686  \n",
       "T1_AACCATGCACAACTGT  -0.162292  0.093505 -0.455874 -0.164573 -0.439685  \n",
       "T1_AACCATGTCTGATTCT  -0.158800  0.082493  0.335159  0.168653 -0.295898  \n",
       "T1_AACCATGTCTGTCCGT   0.187879 -0.103621  0.315866 -0.131508 -0.351251  \n",
       "T1_AACCGCGGTACTCGCG   0.117484  0.076919  0.281765 -0.170872  0.239255  \n",
       "...                        ...       ...       ...       ...       ...  \n",
       "T24_TTTCCTCCAGACAAGC  0.116120 -0.105338  0.150401  0.162042  0.191371  \n",
       "T24_TTTGCGCCAATCGAAA -0.184255 -0.157913 -0.308280  0.176416 -0.287722  \n",
       "T24_TTTGCGCTCTTATCTG  0.125399 -0.077752  0.268401 -0.239418 -0.350437  \n",
       "T24_TTTGGTTAGACACTAA  0.168612 -0.113742  0.256464 -0.172762  0.245280  \n",
       "T24_TTTGTCAAGATGTCGG -0.101902 -0.160991  0.255188  0.106472 -0.340863  \n",
       "\n",
       "[11315 rows x 6593 columns]"
      ]
     },
     "execution_count": 16,
     "metadata": {},
     "output_type": "execute_result"
    }
   ],
   "source": [
    "ProtAct_NaRnEA.to_df(layer=\"pes\") # PES matrix"
   ]
  },
  {
   "cell_type": "markdown",
   "id": "2f3fa46a-537d-4d51-b5f8-5d75609b4bad",
   "metadata": {},
   "source": [
    "Notice that when setting the `viper` output to be an object of class `AnnData`, the input gene expression `AnnData` is stored under the attribute `gex_data`:"
   ]
  },
  {
   "cell_type": "code",
   "execution_count": 17,
   "id": "6682b3ac-e97e-4d5e-8faa-112f7455f5a2",
   "metadata": {},
   "outputs": [
    {
     "data": {
      "text/html": [
       "<div>\n",
       "<style scoped>\n",
       "    .dataframe tbody tr th:only-of-type {\n",
       "        vertical-align: middle;\n",
       "    }\n",
       "\n",
       "    .dataframe tbody tr th {\n",
       "        vertical-align: top;\n",
       "    }\n",
       "\n",
       "    .dataframe thead th {\n",
       "        text-align: right;\n",
       "    }\n",
       "</style>\n",
       "<table border=\"1\" class=\"dataframe\">\n",
       "  <thead>\n",
       "    <tr style=\"text-align: right;\">\n",
       "      <th></th>\n",
       "      <th>RP11-206L10.2</th>\n",
       "      <th>RP11-54O7.3</th>\n",
       "      <th>HES4</th>\n",
       "      <th>ISG15</th>\n",
       "      <th>AGRN</th>\n",
       "    </tr>\n",
       "  </thead>\n",
       "  <tbody>\n",
       "    <tr>\n",
       "      <th>T1_AACACGTCAATGACCT</th>\n",
       "      <td>-0.068999</td>\n",
       "      <td>-0.023360</td>\n",
       "      <td>-0.616169</td>\n",
       "      <td>-1.668614</td>\n",
       "      <td>7.155818</td>\n",
       "    </tr>\n",
       "    <tr>\n",
       "      <th>T1_AACCATGCACAACTGT</th>\n",
       "      <td>-0.051544</td>\n",
       "      <td>-0.014172</td>\n",
       "      <td>2.159164</td>\n",
       "      <td>-0.277659</td>\n",
       "      <td>-0.480383</td>\n",
       "    </tr>\n",
       "    <tr>\n",
       "      <th>T1_AACCATGTCTGATTCT</th>\n",
       "      <td>-0.081841</td>\n",
       "      <td>-0.030217</td>\n",
       "      <td>-0.731943</td>\n",
       "      <td>-0.967582</td>\n",
       "      <td>0.156287</td>\n",
       "    </tr>\n",
       "    <tr>\n",
       "      <th>T1_AACCATGTCTGTCCGT</th>\n",
       "      <td>-0.053397</td>\n",
       "      <td>-0.015141</td>\n",
       "      <td>-0.466018</td>\n",
       "      <td>0.654629</td>\n",
       "      <td>-0.501795</td>\n",
       "    </tr>\n",
       "    <tr>\n",
       "      <th>T1_AACCGCGGTACTCGCG</th>\n",
       "      <td>-0.073019</td>\n",
       "      <td>-0.025496</td>\n",
       "      <td>-0.653355</td>\n",
       "      <td>-1.721549</td>\n",
       "      <td>1.645273</td>\n",
       "    </tr>\n",
       "  </tbody>\n",
       "</table>\n",
       "</div>"
      ],
      "text/plain": [
       "                     RP11-206L10.2  RP11-54O7.3      HES4     ISG15      AGRN\n",
       "T1_AACACGTCAATGACCT      -0.068999    -0.023360 -0.616169 -1.668614  7.155818\n",
       "T1_AACCATGCACAACTGT      -0.051544    -0.014172  2.159164 -0.277659 -0.480383\n",
       "T1_AACCATGTCTGATTCT      -0.081841    -0.030217 -0.731943 -0.967582  0.156287\n",
       "T1_AACCATGTCTGTCCGT      -0.053397    -0.015141 -0.466018  0.654629 -0.501795\n",
       "T1_AACCGCGGTACTCGCG      -0.073019    -0.025496 -0.653355 -1.721549  1.645273"
      ]
     },
     "execution_count": 17,
     "metadata": {},
     "output_type": "execute_result"
    }
   ],
   "source": [
    "ProtAct_NaRnEA.uns[\"gex_data\"][0:5,0:5].to_df()"
   ]
  },
  {
   "cell_type": "markdown",
   "id": "741c0f6c-652c-4464-b6c3-771040016fb1",
   "metadata": {},
   "source": [
    "### Step 4. Analyze single-cells at the Protein Activity level \n",
    "We present some basic, but instructive analyses at the protein activity matrix. Start by running Principal Components Analysis (PCA) on the PES matrix, to reduce the dimensionality of the dataset. Use the PCA function avaiable through the `tl` module that provides wrappers to `scanpy.tl` which simplifies the transformation of protein activity data. For instance, functions from `tl` allow subsetting the class of regulatory proteins to analyze. \n",
    "\n",
    "Run PCA using by projecting the PES of transcriptional regulators (TFs) and co-transcriptional regulators (coTFs) by setting `filter_by_feature_groups=[\"tfs\", \"cotfs\"]`. Possible options for this parameter are `[\"tfs\", \"cotfs\", \"sig\", \"surface\"]`, where the latter refer to signaling proteins and surface markers, respectively."
   ]
  },
  {
   "cell_type": "code",
   "execution_count": 34,
   "id": "521bd7b2-688b-4d9b-aacd-1fdcbe5ab22a",
   "metadata": {},
   "outputs": [
    {
     "ename": "FileNotFoundError",
     "evalue": "[Errno 2] No such file or directory: '/Users/lucazanella7/Desktop/ColumbiaProjects/pyther/pyther/data/regulatorIDs/tfs-hugo.txt'",
     "output_type": "error",
     "traceback": [
      "\u001b[0;31m---------------------------------------------------------------------------\u001b[0m",
      "\u001b[0;31mFileNotFoundError\u001b[0m                         Traceback (most recent call last)",
      "Cell \u001b[0;32mIn[34], line 1\u001b[0m\n\u001b[0;32m----> 1\u001b[0m \u001b[43mpyther\u001b[49m\u001b[38;5;241;43m.\u001b[39;49m\u001b[43mtl\u001b[49m\u001b[38;5;241;43m.\u001b[39;49m\u001b[43mpca\u001b[49m\u001b[43m(\u001b[49m\u001b[43mProtAct_NaRnEA\u001b[49m\u001b[43m,\u001b[49m\u001b[43m \u001b[49m\u001b[43mlayer\u001b[49m\u001b[38;5;241;43m=\u001b[39;49m\u001b[38;5;124;43m\"\u001b[39;49m\u001b[38;5;124;43mpes\u001b[39;49m\u001b[38;5;124;43m\"\u001b[39;49m\u001b[43m,\u001b[49m\u001b[43m \u001b[49m\u001b[43mzero_center\u001b[49m\u001b[38;5;241;43m=\u001b[39;49m\u001b[38;5;28;43;01mTrue\u001b[39;49;00m\u001b[43m,\u001b[49m\u001b[43m  \u001b[49m\u001b[43msvd_solver\u001b[49m\u001b[38;5;241;43m=\u001b[39;49m\u001b[38;5;124;43m'\u001b[39;49m\u001b[38;5;124;43marpack\u001b[39;49m\u001b[38;5;124;43m'\u001b[39;49m\u001b[43m)\u001b[49m\n",
      "File \u001b[0;32m~/Desktop/ColumbiaProjects/pyther/pyther/tl.py:32\u001b[0m, in \u001b[0;36mpca\u001b[0;34m(adata, layer, filter_by_feature_groups, **kwargs)\u001b[0m\n\u001b[1;32m     11\u001b[0m \u001b[38;5;28;01mdef\u001b[39;00m \u001b[38;5;21mpca\u001b[39m(adata,\n\u001b[1;32m     12\u001b[0m         \u001b[38;5;241m*\u001b[39m,\n\u001b[1;32m     13\u001b[0m         layer\u001b[38;5;241m=\u001b[39m\u001b[38;5;28;01mNone\u001b[39;00m,\n\u001b[1;32m     14\u001b[0m         filter_by_feature_groups\u001b[38;5;241m=\u001b[39m[\u001b[38;5;124m\"\u001b[39m\u001b[38;5;124mtfs\u001b[39m\u001b[38;5;124m\"\u001b[39m, \u001b[38;5;124m\"\u001b[39m\u001b[38;5;124mcotfs\u001b[39m\u001b[38;5;124m\"\u001b[39m], \u001b[38;5;66;03m# [\"tfs\", \"cotfs\", \"sig\", \"surf\"],\u001b[39;00m\n\u001b[1;32m     15\u001b[0m         \u001b[38;5;241m*\u001b[39m\u001b[38;5;241m*\u001b[39mkwargs):\n\u001b[1;32m     16\u001b[0m \u001b[38;5;250m    \u001b[39m\u001b[38;5;124;03m\"\"\"\\\u001b[39;00m\n\u001b[1;32m     17\u001b[0m \u001b[38;5;124;03m    A wrapper for the scanpy function sc.tl.pca.\u001b[39;00m\n\u001b[1;32m     18\u001b[0m \n\u001b[0;32m   (...)\u001b[0m\n\u001b[1;32m     30\u001b[0m \u001b[38;5;124;03m        Arguments to provide to the sc.tl.pca function.\u001b[39;00m\n\u001b[1;32m     31\u001b[0m \u001b[38;5;124;03m    \"\"\"\u001b[39;00m\n\u001b[0;32m---> 32\u001b[0m     adata_filt \u001b[38;5;241m=\u001b[39m \u001b[43m_get_anndata_filtered_by_feature_group\u001b[49m\u001b[43m(\u001b[49m\u001b[43madata\u001b[49m\u001b[43m,\u001b[49m\u001b[43m \u001b[49m\u001b[43mlayer\u001b[49m\u001b[43m,\u001b[49m\u001b[43m \u001b[49m\u001b[43mfilter_by_feature_groups\u001b[49m\u001b[43m)\u001b[49m\n\u001b[1;32m     34\u001b[0m     sc\u001b[38;5;241m.\u001b[39mtl\u001b[38;5;241m.\u001b[39mpca(adata_filt, \u001b[38;5;241m*\u001b[39m\u001b[38;5;241m*\u001b[39mkwargs)\n\u001b[1;32m     35\u001b[0m     adata\u001b[38;5;241m.\u001b[39mobsm[\u001b[38;5;124m\"\u001b[39m\u001b[38;5;124mX_pca\u001b[39m\u001b[38;5;124m\"\u001b[39m] \u001b[38;5;241m=\u001b[39m adata_filt\u001b[38;5;241m.\u001b[39mobsm[\u001b[38;5;124m\"\u001b[39m\u001b[38;5;124mX_pca\u001b[39m\u001b[38;5;124m\"\u001b[39m]\n",
      "File \u001b[0;32m~/Desktop/ColumbiaProjects/pyther/pyther/_filtering_funcs.py:85\u001b[0m, in \u001b[0;36m_get_anndata_filtered_by_feature_group\u001b[0;34m(adata, layer, feature_groups)\u001b[0m\n\u001b[1;32m     84\u001b[0m \u001b[38;5;28;01mdef\u001b[39;00m \u001b[38;5;21m_get_anndata_filtered_by_feature_group\u001b[39m(adata, layer \u001b[38;5;241m=\u001b[39m \u001b[38;5;28;01mNone\u001b[39;00m, feature_groups\u001b[38;5;241m=\u001b[39m\u001b[38;5;124m\"\u001b[39m\u001b[38;5;124mall\u001b[39m\u001b[38;5;124m\"\u001b[39m): \u001b[38;5;66;03m#[\"TFs\", \"CoTFs\", \"sig\", \"surf\"],\u001b[39;00m\n\u001b[0;32m---> 85\u001b[0m     features_list \u001b[38;5;241m=\u001b[39m \u001b[43m__get_features_list\u001b[49m\u001b[43m(\u001b[49m\u001b[43madata\u001b[49m\u001b[43m,\u001b[49m\u001b[43m \u001b[49m\u001b[43mfeature_groups\u001b[49m\u001b[43m)\u001b[49m\n\u001b[1;32m     86\u001b[0m     adata_filt \u001b[38;5;241m=\u001b[39m __get_anndata_filtered_by_feature_list(adata, layer, features_list)\n\u001b[1;32m     87\u001b[0m     \u001b[38;5;28;01mreturn\u001b[39;00m(adata_filt)\n",
      "File \u001b[0;32m~/Desktop/ColumbiaProjects/pyther/pyther/_filtering_funcs.py:45\u001b[0m, in \u001b[0;36m__get_features_list\u001b[0;34m(adata, feature_groups)\u001b[0m\n\u001b[1;32m     43\u001b[0m features_list \u001b[38;5;241m=\u001b[39m \u001b[38;5;28mlist\u001b[39m()\n\u001b[1;32m     44\u001b[0m \u001b[38;5;28;01mif\u001b[39;00m \u001b[38;5;124m\"\u001b[39m\u001b[38;5;124mtfs\u001b[39m\u001b[38;5;124m\"\u001b[39m \u001b[38;5;129;01min\u001b[39;00m feature_groups \u001b[38;5;129;01mor\u001b[39;00m \u001b[38;5;124m\"\u001b[39m\u001b[38;5;124mtf\u001b[39m\u001b[38;5;124m\"\u001b[39m \u001b[38;5;129;01min\u001b[39;00m feature_groups:\n\u001b[0;32m---> 45\u001b[0m     tfs \u001b[38;5;241m=\u001b[39m \u001b[43mload_TFs\u001b[49m\u001b[43m(\u001b[49m\u001b[43m)\u001b[49m\n\u001b[1;32m     46\u001b[0m     features_list\u001b[38;5;241m.\u001b[39mextend(tfs)\n\u001b[1;32m     47\u001b[0m \u001b[38;5;28;01mif\u001b[39;00m \u001b[38;5;124m\"\u001b[39m\u001b[38;5;124mcotfs\u001b[39m\u001b[38;5;124m\"\u001b[39m \u001b[38;5;129;01min\u001b[39;00m feature_groups \u001b[38;5;129;01mor\u001b[39;00m \u001b[38;5;124m\"\u001b[39m\u001b[38;5;124mcotf\u001b[39m\u001b[38;5;124m\"\u001b[39m \u001b[38;5;129;01min\u001b[39;00m feature_groups:\n",
      "File \u001b[0;32m~/Desktop/ColumbiaProjects/pyther/pyther/_load/_load_regulators.py:43\u001b[0m, in \u001b[0;36mload_TFs\u001b[0;34m(species, path_to_tfs)\u001b[0m\n\u001b[1;32m     42\u001b[0m \u001b[38;5;28;01mdef\u001b[39;00m \u001b[38;5;21mload_TFs\u001b[39m(species \u001b[38;5;241m=\u001b[39m \u001b[38;5;28;01mNone\u001b[39;00m, path_to_tfs \u001b[38;5;241m=\u001b[39m \u001b[38;5;28;01mNone\u001b[39;00m):\n\u001b[0;32m---> 43\u001b[0m     tfs_list \u001b[38;5;241m=\u001b[39m \u001b[43m_load_regulators\u001b[49m\u001b[43m(\u001b[49m\u001b[38;5;124;43m\"\u001b[39;49m\u001b[38;5;124;43mtfs\u001b[39;49m\u001b[38;5;124;43m\"\u001b[39;49m\u001b[43m,\u001b[49m\u001b[43m \u001b[49m\u001b[43mspecies\u001b[49m\u001b[43m,\u001b[49m\u001b[43m \u001b[49m\u001b[43mpath_to_tfs\u001b[49m\u001b[43m)\u001b[49m\n\u001b[1;32m     44\u001b[0m     \u001b[38;5;28;01mreturn\u001b[39;00m(tfs_list)\n",
      "File \u001b[0;32m~/Desktop/ColumbiaProjects/pyther/pyther/_load/_load_regulators.py:34\u001b[0m, in \u001b[0;36m_load_regulators\u001b[0;34m(group, species, path_to_regs)\u001b[0m\n\u001b[1;32m     32\u001b[0m             config_path_to_regs \u001b[38;5;241m=\u001b[39m __get_pyviper_dir() \u001b[38;5;241m+\u001b[39m \u001b[38;5;124m\"\u001b[39m\u001b[38;5;124m/data/regulatorIDs/\u001b[39m\u001b[38;5;124m\"\u001b[39m \u001b[38;5;241m+\u001b[39m group \u001b[38;5;241m+\u001b[39m \u001b[38;5;124m\"\u001b[39m\u001b[38;5;124m-hugo-mouse.txt\u001b[39m\u001b[38;5;124m\"\u001b[39m\n\u001b[1;32m     33\u001b[0m     path_to_regs \u001b[38;5;241m=\u001b[39m config_path_to_regs\n\u001b[0;32m---> 34\u001b[0m regs_list \u001b[38;5;241m=\u001b[39m \u001b[43m__load_regulators_from_txt\u001b[49m\u001b[43m(\u001b[49m\u001b[43mpath_to_regs\u001b[49m\u001b[43m)\u001b[49m\n\u001b[1;32m     35\u001b[0m \u001b[38;5;28;01mreturn\u001b[39;00m regs_list\n",
      "File \u001b[0;32m~/Desktop/ColumbiaProjects/pyther/pyther/_load/_load_regulators.py:19\u001b[0m, in \u001b[0;36m__load_regulators_from_txt\u001b[0;34m(path_to_txt)\u001b[0m\n\u001b[1;32m     18\u001b[0m \u001b[38;5;28;01mdef\u001b[39;00m \u001b[38;5;21m__load_regulators_from_txt\u001b[39m(path_to_txt):\n\u001b[0;32m---> 19\u001b[0m     \u001b[38;5;28;01mwith\u001b[39;00m \u001b[38;5;28;43mopen\u001b[39;49m\u001b[43m(\u001b[49m\u001b[43mpath_to_txt\u001b[49m\u001b[43m)\u001b[49m \u001b[38;5;28;01mas\u001b[39;00m temp_file:\n\u001b[1;32m     20\u001b[0m         regulator_set \u001b[38;5;241m=\u001b[39m [line\u001b[38;5;241m.\u001b[39mrstrip(\u001b[38;5;124m'\u001b[39m\u001b[38;5;130;01m\\n\u001b[39;00m\u001b[38;5;124m'\u001b[39m) \u001b[38;5;28;01mfor\u001b[39;00m line \u001b[38;5;129;01min\u001b[39;00m temp_file]\n\u001b[1;32m     21\u001b[0m     \u001b[38;5;28;01mreturn\u001b[39;00m(regulator_set)\n",
      "\u001b[0;31mFileNotFoundError\u001b[0m: [Errno 2] No such file or directory: '/Users/lucazanella7/Desktop/ColumbiaProjects/pyther/pyther/data/regulatorIDs/tfs-hugo.txt'"
     ]
    }
   ],
   "source": [
    "pyther.tl.pca(ProtAct_NaRnEA, layer=\"pes\", filter_by_feature_groups=[\"tfs\", \"cotfs\"], zero_center=True,  svd_solver='arpack')"
   ]
  },
  {
   "cell_type": "markdown",
   "id": "d23c9b1e-5a70-4e88-b30b-63f96b74d427",
   "metadata": {},
   "source": [
    "Compute the neighbors graph of cells using the PCA representation of the protein activity matrix. For sake of simplicity, we set 10 nearest neightbors and 50 principal components. Typically, these parameters need tuning."
   ]
  },
  {
   "cell_type": "code",
   "execution_count": null,
   "id": "314991d8-d95b-4e29-933b-725199377469",
   "metadata": {
    "tags": []
   },
   "outputs": [],
   "source": [
    "sc.pp.neighbors(ProtAct_NaRnEA, metric=\"euclidean\", n_neighbors=10, n_pcs=50)"
   ]
  },
  {
   "cell_type": "markdown",
   "id": "3f8a5d04-5a6b-48ef-8fb8-cddb670e867d",
   "metadata": {},
   "source": [
    "Cluster at protein activity using the Leiden algorithm with `resolution=0.2` (in real applications this parameter should be optimized) <code style=\"background:lightgreen;color:black\">How does the leiden option with tfs and cotfs exactly work?.</code>"
   ]
  },
  {
   "cell_type": "code",
   "execution_count": null,
   "id": "413e4cf7-ea02-4e9d-9006-a1be74b6db1a",
   "metadata": {
    "tags": []
   },
   "outputs": [],
   "source": [
    "sc.tl.leiden(ProtAct_NaRnEA, resolution=0.2, n_iterations=-1)"
   ]
  },
  {
   "cell_type": "markdown",
   "id": "43b4ab2e-d08b-4c78-8f1e-fa5695c03763",
   "metadata": {},
   "source": [
    "Generate a [UMAP](https://arxiv.org/abs/1802.03426) embedding of the previously computed graph, filtering by `\"tfs\"` and `\"cotfs\"`. In this example, we focus on TFs and coTFs because we are interested in proteins involved in transcriptional regulation and that are mechanistic determinants of cell state, as shown in [Paull et al., 2021](https://www.sciencedirect.com/science/article/pii/S0092867420316172?via%3Dihub) and [Califano & Alvarez, 2016](https://www.nature.com/articles/nrc.2016.124) ."
   ]
  },
  {
   "cell_type": "code",
   "execution_count": null,
   "id": "5797a58b-f879-40d1-9ae0-ccd81daca495",
   "metadata": {
    "tags": []
   },
   "outputs": [],
   "source": [
    "pyther.tl.umap(ProtAct_NaRnEA, filter_by_feature_groups=['tfs', 'cotfs'])"
   ]
  },
  {
   "cell_type": "markdown",
   "id": "6e3e5505-6068-4ac7-9571-92fbf72dedb2",
   "metadata": {},
   "source": [
    "Display the 2-dimensional UMAP embedding with the corresponding function from the `pyther.pl`, a module that provides wrappers for `scanpy.pl` functions for enhanced visualization of key protein activity features. Color by cluster.  "
   ]
  },
  {
   "cell_type": "code",
   "execution_count": null,
   "id": "46aeb1c5-7bac-411f-ac5a-ec3b82129e86",
   "metadata": {
    "tags": []
   },
   "outputs": [],
   "source": [
    "sc.set_figure_params(dpi=90)\n",
    "n_cells = ProtAct_NaRnEA.shape[0]\n",
    "dot_size = 120000 / n_cells*2\n",
    "pyther.pl.umap(ProtAct_NaRnEA, color='leiden', palette=\"Set1\", size=dot_size,add_outline=True)"
   ]
  },
  {
   "cell_type": "markdown",
   "id": "94a91569-3364-4444-be55-d6c280051094",
   "metadata": {
    "tags": []
   },
   "source": [
    "Find the regulatory proteins predicted to be most active for each cell type by integrating the NES of each regulatory protein across all cells of a given cell type using the Stouffer's method: $$ NES^C_j = \\frac{\\sum_{k \\in C}NES_{k,j}}{\\sqrt{n^C}} $$ where $NES^C_j$ denotes the integrated NES for regulator $j$ in cluster/cell type $C$, $NES_{k,j}$ is the NES of regulator $j$ in cluster/cell type $C$ and $n^C$ is the number of cells in cluster $C$."
   ]
  },
  {
   "cell_type": "code",
   "execution_count": null,
   "id": "cc9ded6b-c483-4337-815c-074d44281ead",
   "metadata": {
    "tags": []
   },
   "outputs": [],
   "source": [
    "NES_integrated = pyther.compute_cluster_stouffer_anndata(ProtAct_NaRnEA, \"leiden\") # Stouffer integration "
   ]
  },
  {
   "cell_type": "markdown",
   "id": "0c051e32-6387-4d69-b8d0-bb087bc08f80",
   "metadata": {},
   "source": [
    "Analogously, `compute_cluster_stouffer`, can be used to perform the same operations in Pandas DataFrames. Remove ribosomal proteins from the above matrix (ribosomal protein genes are among the most highly expressed genes in most cell types)."
   ]
  },
  {
   "cell_type": "code",
   "execution_count": null,
   "id": "555bad9b-bd81-490c-9653-0d25b1fa0ac5",
   "metadata": {
    "tags": []
   },
   "outputs": [],
   "source": [
    "filtered_proteins = NES_integrated.var_names[~NES_integrated.var_names.str.startswith('RP')].to_list() # Exclude columns starting with 'RP' from integrated matrix\n",
    "NES_integrated = NES_integrated[:,filtered_proteins] # remove ribosomal proteins from the AnnData object"
   ]
  },
  {
   "cell_type": "markdown",
   "id": "039a9573-1b7d-4d02-bea8-212a087af08f",
   "metadata": {},
   "source": [
    "Slice `NES_integrated` to contain only on TFs and coTFs and focus only on these proteins. "
   ]
  },
  {
   "cell_type": "code",
   "execution_count": null,
   "id": "8dde064e-4f8c-4e40-8cd1-4aa519f77a5f",
   "metadata": {
    "tags": []
   },
   "outputs": [],
   "source": [
    "TFs_list = pyther.load.load_TFs(species=\"human\") # load list of TFs\n",
    "coTFs_list = pyther.load.load_coTFs(species=\"human\") # load list of coTFs\n",
    "TFs_coTFs = TFs_list + coTFs_list # concatenate TFs and coTFs\n",
    "\n",
    "NES_integrated = NES_integrated[:,NES_integrated.var_names.isin(TFs_coTFs)] # slice NES_integrated to have only TFs and coTFs"
   ]
  },
  {
   "cell_type": "markdown",
   "id": "7ab83e3f-5521-4915-95ac-f508e036353a",
   "metadata": {},
   "source": [
    "Extract the 5 most activated regulatory protein in each cluster"
   ]
  },
  {
   "cell_type": "code",
   "execution_count": null,
   "id": "ca5ab072-b75b-4ff1-a189-c4a586181a56",
   "metadata": {
    "tags": []
   },
   "outputs": [],
   "source": [
    "active_proteins = NES_integrated.to_df().apply(lambda row: row.nlargest(10).index.tolist(), axis=1)  # the top 10 most activated proteins in each cell type\n",
    "active_proteins"
   ]
  },
  {
   "cell_type": "markdown",
   "id": "d7a5a060-d15b-4a69-b154-ffdf11078779",
   "metadata": {
    "tags": []
   },
   "source": [
    "Show the top activated proteins on a heatmap"
   ]
  },
  {
   "cell_type": "code",
   "execution_count": null,
   "id": "14330318-5800-4469-a85a-2f905b5f65a6",
   "metadata": {
    "tags": []
   },
   "outputs": [],
   "source": [
    "protein_set = active_proteins.sum() # protein set to display on the heatmap\n",
    "ax = pyther.pl.heatmap(ProtAct_NaRnEA, var_names=protein_set, groupby=\"leiden\",vmin=-15,vmax=15, vcenter=0,cmap=\"RdBu_r\",dendrogram=False,swap_axes=True, show_gene_labels=False)"
   ]
  },
  {
   "cell_type": "code",
   "execution_count": null,
   "id": "a0f0d9b9-e08e-48c8-9a7e-357b8c980d2a",
   "metadata": {
    "tags": []
   },
   "outputs": [],
   "source": [
    "pyther.pl.dotplot(ProtAct_NaRnEA, var_names=protein_set, layer=\"pes\",groupby='leiden', cmap=\"RdBu_r\", vcenter=0,dendrogram=False)"
   ]
  },
  {
   "cell_type": "markdown",
   "id": "0ac3823e-0824-46a0-a594-0bbde6cbb271",
   "metadata": {
    "tags": []
   },
   "source": []
  },
  {
   "cell_type": "code",
   "execution_count": null,
   "id": "0f3dc743-ec7b-485d-94d1-717eaf26e245",
   "metadata": {
    "tags": []
   },
   "outputs": [],
   "source": []
  },
  {
   "cell_type": "code",
   "execution_count": null,
   "id": "391b9f04-dde2-4086-b159-0296b7ddcec9",
   "metadata": {
    "tags": []
   },
   "outputs": [],
   "source": []
  },
  {
   "cell_type": "code",
   "execution_count": null,
   "id": "7b7e00f4-e650-499d-87fd-c43cb454a854",
   "metadata": {},
   "outputs": [],
   "source": []
  },
  {
   "cell_type": "code",
   "execution_count": null,
   "id": "1f54033b-80ca-42b8-aaf3-555be62ee7af",
   "metadata": {
    "tags": []
   },
   "outputs": [],
   "source": []
  },
  {
   "cell_type": "code",
   "execution_count": null,
   "id": "adb8f925-dd19-4c58-9493-f922342eb490",
   "metadata": {
    "tags": []
   },
   "outputs": [],
   "source": []
  },
  {
   "cell_type": "code",
   "execution_count": null,
   "id": "079d4e78-cb88-4a8b-adb5-e7e7f4fcfe28",
   "metadata": {
    "tags": []
   },
   "outputs": [],
   "source": []
  },
  {
   "cell_type": "code",
   "execution_count": null,
   "id": "c309c1d4-4634-4049-893b-416dada34a7b",
   "metadata": {
    "tags": []
   },
   "outputs": [],
   "source": []
  },
  {
   "cell_type": "code",
   "execution_count": null,
   "id": "cac45999-f926-4af3-b01d-42849e91ec27",
   "metadata": {},
   "outputs": [],
   "source": []
  }
 ],
 "metadata": {
  "kernelspec": {
   "display_name": "Python 3 (ipykernel)",
   "language": "python",
   "name": "python3"
  },
  "language_info": {
   "codemirror_mode": {
    "name": "ipython",
    "version": 3
   },
   "file_extension": ".py",
   "mimetype": "text/x-python",
   "name": "python",
   "nbconvert_exporter": "python",
   "pygments_lexer": "ipython3",
   "version": "3.10.12"
  }
 },
 "nbformat": 4,
 "nbformat_minor": 5
}
