{
 "cells": [
  {
   "cell_type": "markdown",
   "id": "1b66006b-11a6-4818-88b2-026e41a5b714",
   "metadata": {},
   "source": [
    "# Tutorial 2 - Inferring Protein Activity from scRNA-seq data from multiple cell populations with the meta-VIPER approach\n",
    "\n",
    "This tutorial explores the use of metaVIPER to assess protein activity by integrative analysis using multiple gene regulatory networks. metaVIPER is particularly useful in real-world scenarios to infer protein activity in a tissue-independent manner by using multiple, non-tissue-matched interactomes, assuming that transcriptional targets of each protein can be recapitulated by one or more available interactomes. The `viper` function allows running metaVIPER using both [aREA](https://www.nature.com/articles/ng.3593) and [NaRnEA](https://www.mdpi.com/1099-4300/25/3/542) enrichment methods. For additional details, please refer to [Ding et al., 2016](https://www.nature.com/articles/s41467-018-03843-3).\n",
    "\n",
    "<code style=\"background:lightgreen;color:black\">Add part on enrichment.</code>\n"
   ]
  },
  {
   "cell_type": "markdown",
   "id": "e931dde2-3f1a-439f-bf18-97d6114de610",
   "metadata": {},
   "source": [
    "### Install Pyviper\n",
    "Install `pyviper` from PyPI using pip. Alternatively, refer to the README in the current GitHub to install from the local directory."
   ]
  },
  {
   "cell_type": "code",
   "execution_count": 1,
   "id": "cc9c55f7-1bf6-4d75-bb52-10b63ce5fd1c",
   "metadata": {
    "tags": []
   },
   "outputs": [],
   "source": [
    "# !pip install pyviper"
   ]
  },
  {
   "cell_type": "markdown",
   "id": "3438b4a2-22f8-43d1-8b71-c5b57f36463d",
   "metadata": {},
   "source": [
    "### Import modules"
   ]
  },
  {
   "cell_type": "code",
   "execution_count": 2,
   "id": "182ad6b3-44ce-464b-b131-3890133f0fce",
   "metadata": {
    "tags": []
   },
   "outputs": [],
   "source": [
    "import pyther\n",
    "import scanpy as sc\n",
    "import anndata \n",
    "import pandas as pd\n",
    "import numpy as np\n",
    "\n",
    "import warnings\n",
    "warnings.filterwarnings(\"ignore\", message=\".*The 'nopython' keyword.*\") # for jit decorator issue with sc.pp.neighbors (09/30/2023)"
   ]
  },
  {
   "cell_type": "markdown",
   "id": "c46a967a-85cd-4a0d-bda3-ffedacc01bf4",
   "metadata": {},
   "source": [
    "### Step 1. Load a gene expression matrix and associated metadata  \n",
    "Load the gene expression matrix (UMIs) and store it into an [AnnData](https://anndata.readthedocs.io/en/latest/) object to enable interoperability with [scanpy](https://scanpy-tutorials.readthedocs.io/en/latest/#). Cells used in this tutorial were sampled from scRNA-seq data published in [Peng et al., 2019](https://www.nature.com/articles/s41422-019-0195-y).  "
   ]
  },
  {
   "cell_type": "code",
   "execution_count": 3,
   "id": "8518b73a-cb05-4bc2-8d23-e88dd3755b26",
   "metadata": {
    "tags": []
   },
   "outputs": [],
   "source": [
    "# gExpr_path = \"/Users/lucazanella7/Desktop/ColumbiaProjects/pyther_test_data/subset_Peng/T11_subset.tsv\"  # where gene expression matrix (UMI counts) is located\n",
    "gExpr_path = \"/Users/lucazanella7/Desktop/ColumbiaProjects/pyther_test_data/subset_Peng/d1_d2_f_subset_6500.tsv\" # path to gene expression matrix (UMI counts)\n",
    "adata_gExpr = sc.read(gExpr_path).T"
   ]
  },
  {
   "cell_type": "markdown",
   "id": "80f328bb-6851-4925-9bcd-0acf5b83ef39",
   "metadata": {
    "tags": []
   },
   "source": [
    "Display matrix dimensions (cells x genes)"
   ]
  },
  {
   "cell_type": "code",
   "execution_count": 4,
   "id": "8820dbbb-8493-4810-b37e-5dcd365f7117",
   "metadata": {
    "tags": []
   },
   "outputs": [
    {
     "data": {
      "text/plain": [
       "AnnData object with n_obs × n_vars = 6500 × 24005"
      ]
     },
     "execution_count": 4,
     "metadata": {},
     "output_type": "execute_result"
    }
   ],
   "source": [
    "adata_gExpr"
   ]
  },
  {
   "cell_type": "markdown",
   "id": "80997bb7-87a2-4b4f-b3f2-3f45a2c745f0",
   "metadata": {
    "tags": []
   },
   "source": [
    "Load cell-associated metadata"
   ]
  },
  {
   "cell_type": "code",
   "execution_count": 5,
   "id": "038e5c6b-c736-476d-b7d9-10d12910c264",
   "metadata": {
    "tags": []
   },
   "outputs": [],
   "source": [
    "#metadata_path = \"/Users/lucazanella7/Desktop/ColumbiaProjects/pyther_test_data/subset_Peng/T11_metadata.tsv\"  # where cells metadata are located\n",
    "metadata_path = \"/Users/lucazanella7/Desktop/ColumbiaProjects/pyther_test_data/subset_Peng/d1_d2_f_metadata_6500.tsv\" # path to cells metadata\n",
    "cells_metadata = pd.read_csv(metadata_path, sep=\"\\t\")  # load it"
   ]
  },
  {
   "cell_type": "markdown",
   "id": "da652013-3099-42c0-a011-31186bb04196",
   "metadata": {
    "tags": []
   },
   "source": [
    "Store the metadata in the `adata_gExpr` object as observation annotation."
   ]
  },
  {
   "cell_type": "code",
   "execution_count": 6,
   "id": "2b8042b2-dc94-4108-bdf2-485e979dcc77",
   "metadata": {
    "tags": []
   },
   "outputs": [],
   "source": [
    "adata_gExpr.obs = pd.merge(adata_gExpr.obs, cells_metadata, how=\"left\",left_index=True, right_index=True) # store cell-specific metadata as annotation observation"
   ]
  },
  {
   "cell_type": "markdown",
   "id": "5e709884-3d3e-477e-a8ec-6da85e924233",
   "metadata": {},
   "source": [
    "Display the observation annotation from the AnnData object."
   ]
  },
  {
   "cell_type": "code",
   "execution_count": 7,
   "id": "d5265036-2b4b-46b2-8421-81659a57fecb",
   "metadata": {
    "tags": []
   },
   "outputs": [
    {
     "data": {
      "text/html": [
       "<div>\n",
       "<style scoped>\n",
       "    .dataframe tbody tr th:only-of-type {\n",
       "        vertical-align: middle;\n",
       "    }\n",
       "\n",
       "    .dataframe tbody tr th {\n",
       "        vertical-align: top;\n",
       "    }\n",
       "\n",
       "    .dataframe thead th {\n",
       "        text-align: right;\n",
       "    }\n",
       "</style>\n",
       "<table border=\"1\" class=\"dataframe\">\n",
       "  <thead>\n",
       "    <tr style=\"text-align: right;\">\n",
       "      <th></th>\n",
       "      <th>Patient</th>\n",
       "      <th>Cell_Type</th>\n",
       "    </tr>\n",
       "  </thead>\n",
       "  <tbody>\n",
       "    <tr>\n",
       "      <th>T1_AAACCTGAGATGTCGG</th>\n",
       "      <td>T1</td>\n",
       "      <td>Fibroblast cell</td>\n",
       "    </tr>\n",
       "    <tr>\n",
       "      <th>T1_AACACGTCAATGACCT</th>\n",
       "      <td>T1</td>\n",
       "      <td>Ductal cell type 2</td>\n",
       "    </tr>\n",
       "    <tr>\n",
       "      <th>T1_AACCATGTCTGTCCGT</th>\n",
       "      <td>T1</td>\n",
       "      <td>Ductal cell type 2</td>\n",
       "    </tr>\n",
       "    <tr>\n",
       "      <th>T1_AACCGCGTCGAATGGG</th>\n",
       "      <td>T1</td>\n",
       "      <td>Ductal cell type 2</td>\n",
       "    </tr>\n",
       "    <tr>\n",
       "      <th>T1_AACGTTGCAATGGATA</th>\n",
       "      <td>T1</td>\n",
       "      <td>Stellate cell</td>\n",
       "    </tr>\n",
       "  </tbody>\n",
       "</table>\n",
       "</div>"
      ],
      "text/plain": [
       "                    Patient           Cell_Type\n",
       "T1_AAACCTGAGATGTCGG      T1     Fibroblast cell\n",
       "T1_AACACGTCAATGACCT      T1  Ductal cell type 2\n",
       "T1_AACCATGTCTGTCCGT      T1  Ductal cell type 2\n",
       "T1_AACCGCGTCGAATGGG      T1  Ductal cell type 2\n",
       "T1_AACGTTGCAATGGATA      T1       Stellate cell"
      ]
     },
     "execution_count": 7,
     "metadata": {},
     "output_type": "execute_result"
    }
   ],
   "source": [
    "adata_gExpr.obs.head()"
   ]
  },
  {
   "cell_type": "markdown",
   "id": "7006f1d0-1bb9-471a-9063-a9069f338f01",
   "metadata": {},
   "source": [
    "The observation annotations include the patient from which each cell was sequenced and the annotated cell type.\n",
    "List the cell types."
   ]
  },
  {
   "cell_type": "code",
   "execution_count": 8,
   "id": "36c7eed5-2cfb-4418-85c8-7c81d0f70c99",
   "metadata": {
    "tags": []
   },
   "outputs": [
    {
     "data": {
      "text/html": [
       "<div>\n",
       "<style scoped>\n",
       "    .dataframe tbody tr th:only-of-type {\n",
       "        vertical-align: middle;\n",
       "    }\n",
       "\n",
       "    .dataframe tbody tr th {\n",
       "        vertical-align: top;\n",
       "    }\n",
       "\n",
       "    .dataframe thead th {\n",
       "        text-align: right;\n",
       "    }\n",
       "</style>\n",
       "<table border=\"1\" class=\"dataframe\">\n",
       "  <thead>\n",
       "    <tr style=\"text-align: right;\">\n",
       "      <th></th>\n",
       "      <th>Cell_Type</th>\n",
       "      <th>n</th>\n",
       "    </tr>\n",
       "  </thead>\n",
       "  <tbody>\n",
       "    <tr>\n",
       "      <th>0</th>\n",
       "      <td>Ductal cell type 1</td>\n",
       "      <td>690</td>\n",
       "    </tr>\n",
       "    <tr>\n",
       "      <th>1</th>\n",
       "      <td>Ductal cell type 2</td>\n",
       "      <td>2938</td>\n",
       "    </tr>\n",
       "    <tr>\n",
       "      <th>2</th>\n",
       "      <td>Fibroblast cell</td>\n",
       "      <td>1477</td>\n",
       "    </tr>\n",
       "    <tr>\n",
       "      <th>3</th>\n",
       "      <td>Stellate cell</td>\n",
       "      <td>1395</td>\n",
       "    </tr>\n",
       "  </tbody>\n",
       "</table>\n",
       "</div>"
      ],
      "text/plain": [
       "            Cell_Type     n\n",
       "0  Ductal cell type 1   690\n",
       "1  Ductal cell type 2  2938\n",
       "2     Fibroblast cell  1477\n",
       "3       Stellate cell  1395"
      ]
     },
     "execution_count": 8,
     "metadata": {},
     "output_type": "execute_result"
    }
   ],
   "source": [
    "adata_gExpr.obs.groupby('Cell_Type').size().reset_index(name='n') # show cell types and number of cells for each type in AnnData"
   ]
  },
  {
   "cell_type": "markdown",
   "id": "26618bd9-13dc-4695-babe-28e21d5b4039",
   "metadata": {},
   "source": [
    "Data contain <span style=\"color:red\">4</span> cells types: Ductal cells of type 1 and 2 (non-transformed and malignant, respectively), Fibroblasts and Stellate cells (myofibroblast-like cells)."
   ]
  },
  {
   "cell_type": "markdown",
   "id": "9fb6e291-e4b9-4d46-91b0-6b8633bf2af6",
   "metadata": {
    "tags": []
   },
   "source": [
    "### Step 2. Preprocess and generate a gene expression signature at the single-cell level\n",
    "\n",
    "The UMI matrix can be processed using the standard `Scanpy` preprocessing workflow. Since the quality of the provided data was pre-assessed and found to be high, cell filtering will be minimal. For a more detailed explanation of QC steps, refer to the preprocessing tutorials bt [Scanpy](https://scanpy-tutorials.readthedocs.io/en/latest/pbmc3k.html) or [Seurat](https://satijalab.org/seurat/articles/pbmc3k_tutorial). "
   ]
  },
  {
   "cell_type": "code",
   "execution_count": 9,
   "id": "d5cc2708-3c23-4538-bc8f-bb1b47c63d66",
   "metadata": {
    "tags": []
   },
   "outputs": [],
   "source": [
    "sc.pp.filter_cells(adata_gExpr, min_genes=200) # filter out cells with <200 genes expressed\n",
    "sc.pp.filter_genes(adata_gExpr, min_cells=3) # filter out genes that are detected in <3 cells"
   ]
  },
  {
   "cell_type": "markdown",
   "id": "9fb63432-5311-4b3d-a0b4-48891657895c",
   "metadata": {},
   "source": [
    "Display matrix dimensions post-filtering (cells x genes) "
   ]
  },
  {
   "cell_type": "code",
   "execution_count": 10,
   "id": "4a0d74fa-b29e-4932-9a2c-ce7e125ada74",
   "metadata": {
    "tags": []
   },
   "outputs": [
    {
     "data": {
      "text/plain": [
       "AnnData object with n_obs × n_vars = 6500 × 20931\n",
       "    obs: 'Patient', 'Cell_Type', 'n_genes'\n",
       "    var: 'n_cells'"
      ]
     },
     "execution_count": 10,
     "metadata": {},
     "output_type": "execute_result"
    }
   ],
   "source": [
    "adata_gExpr"
   ]
  },
  {
   "cell_type": "markdown",
   "id": "af5b79f6-5234-437c-bbba-ceacadfe2c7d",
   "metadata": {},
   "source": [
    "Normalize the gene expression matrix by the total number of UMIs to 10,000 UMIs per cells to make each gene expression comparable across cells and log-transform the normalized counts. Then, store the log-normalized counts in the `.raw` attribute of the `AnnData` object"
   ]
  },
  {
   "cell_type": "code",
   "execution_count": 11,
   "id": "25b61607-bcac-44bc-97db-0442680326c6",
   "metadata": {
    "tags": []
   },
   "outputs": [],
   "source": [
    "sc.pp.normalize_total(adata_gExpr, target_sum=1e4) # normalize counts\n",
    "sc.pp.log1p(adata_gExpr) # log-transform the counts\n",
    "sc.pp.calculate_qc_metrics(adata_gExpr, percent_top=None, log1p=False, inplace=True) # compute some statistics, e.g. total_counts, n_cells_by_counts etc \n",
    "\n",
    "adata_gExpr.raw = adata_gExpr   # store log-normalized counts to .raw Attribute for potential future use"
   ]
  },
  {
   "cell_type": "markdown",
   "id": "c07cfe62-d604-40a9-af1f-5355d60eb20f",
   "metadata": {},
   "source": [
    "Generate a gene expression signature on a single-cell basis by scaling each gene to unit variance. This scaled matrix will be used as an input to `pyther` to compute the protein activity matrix. Several approaches exist for the purpose, including computing a reference with respect to an external reference or using models such as [SCTransform](https://genomebiology.biomedcentral.com/articles/10.1186/s13059-019-1874-1). We will employ the simplest approach for demonstrative purposes. "
   ]
  },
  {
   "cell_type": "code",
   "execution_count": 12,
   "id": "22100cd1-0f60-4553-a4d1-eb2ed291ec5f",
   "metadata": {
    "tags": []
   },
   "outputs": [],
   "source": [
    "sc.pp.regress_out(adata_gExpr, 'total_counts') # regress out the effect of the total number of UMIs\n",
    "sc.pp.scale(adata_gExpr, max_value=10) # standardize gene expression and clip max values to 10"
   ]
  },
  {
   "cell_type": "code",
   "execution_count": 13,
   "id": "b5e994db-dd34-459d-b5d5-805fbd20640b",
   "metadata": {
    "tags": []
   },
   "outputs": [
    {
     "data": {
      "text/plain": [
       "AnnData object with n_obs × n_vars = 6500 × 20931\n",
       "    obs: 'Patient', 'Cell_Type', 'n_genes', 'n_genes_by_counts', 'total_counts'\n",
       "    var: 'n_cells', 'n_cells_by_counts', 'mean_counts', 'pct_dropout_by_counts', 'total_counts', 'mean', 'std'\n",
       "    uns: 'log1p'"
      ]
     },
     "execution_count": 13,
     "metadata": {},
     "output_type": "execute_result"
    }
   ],
   "source": [
    "adata_gExpr"
   ]
  },
  {
   "cell_type": "markdown",
   "id": "002138e2-3e71-4263-a8f7-d592ed5f81b8",
   "metadata": {
    "tags": []
   },
   "source": [
    "Display a chunk of the scaled matrix (signature)"
   ]
  },
  {
   "cell_type": "code",
   "execution_count": 14,
   "id": "570466b5-32b7-4f22-aa72-6e22e90a5b2e",
   "metadata": {
    "tags": []
   },
   "outputs": [
    {
     "data": {
      "text/html": [
       "<div>\n",
       "<style scoped>\n",
       "    .dataframe tbody tr th:only-of-type {\n",
       "        vertical-align: middle;\n",
       "    }\n",
       "\n",
       "    .dataframe tbody tr th {\n",
       "        vertical-align: top;\n",
       "    }\n",
       "\n",
       "    .dataframe thead th {\n",
       "        text-align: right;\n",
       "    }\n",
       "</style>\n",
       "<table border=\"1\" class=\"dataframe\">\n",
       "  <thead>\n",
       "    <tr style=\"text-align: right;\">\n",
       "      <th></th>\n",
       "      <th>AP006222.2</th>\n",
       "      <th>RP11-206L10.3</th>\n",
       "      <th>RP11-206L10.2</th>\n",
       "      <th>RP11-206L10.9</th>\n",
       "      <th>LINC00115</th>\n",
       "      <th>FAM41C</th>\n",
       "    </tr>\n",
       "  </thead>\n",
       "  <tbody>\n",
       "    <tr>\n",
       "      <th>T1_AACACGTCAATGACCT</th>\n",
       "      <td>-0.366852</td>\n",
       "      <td>-0.107912</td>\n",
       "      <td>-0.064235</td>\n",
       "      <td>-0.081443</td>\n",
       "      <td>-0.186370</td>\n",
       "      <td>-0.112861</td>\n",
       "    </tr>\n",
       "    <tr>\n",
       "      <th>T1_AACCATGTCTGTCCGT</th>\n",
       "      <td>-0.320497</td>\n",
       "      <td>-0.086591</td>\n",
       "      <td>-0.066305</td>\n",
       "      <td>-0.071187</td>\n",
       "      <td>-0.147921</td>\n",
       "      <td>-0.067329</td>\n",
       "    </tr>\n",
       "    <tr>\n",
       "      <th>T1_AACCGCGTCGAATGGG</th>\n",
       "      <td>-0.306291</td>\n",
       "      <td>-0.080056</td>\n",
       "      <td>-0.066939</td>\n",
       "      <td>-0.068043</td>\n",
       "      <td>-0.136138</td>\n",
       "      <td>-0.053375</td>\n",
       "    </tr>\n",
       "    <tr>\n",
       "      <th>T1_AACGTTGCAATGGATA</th>\n",
       "      <td>-0.315497</td>\n",
       "      <td>-0.084291</td>\n",
       "      <td>-0.066528</td>\n",
       "      <td>-0.070080</td>\n",
       "      <td>-0.143774</td>\n",
       "      <td>-0.062418</td>\n",
       "    </tr>\n",
       "  </tbody>\n",
       "</table>\n",
       "</div>"
      ],
      "text/plain": [
       "                     AP006222.2  RP11-206L10.3  RP11-206L10.2  RP11-206L10.9  \\\n",
       "T1_AACACGTCAATGACCT   -0.366852      -0.107912      -0.064235      -0.081443   \n",
       "T1_AACCATGTCTGTCCGT   -0.320497      -0.086591      -0.066305      -0.071187   \n",
       "T1_AACCGCGTCGAATGGG   -0.306291      -0.080056      -0.066939      -0.068043   \n",
       "T1_AACGTTGCAATGGATA   -0.315497      -0.084291      -0.066528      -0.070080   \n",
       "\n",
       "                     LINC00115    FAM41C  \n",
       "T1_AACACGTCAATGACCT  -0.186370 -0.112861  \n",
       "T1_AACCATGTCTGTCCGT  -0.147921 -0.067329  \n",
       "T1_AACCGCGTCGAATGGG  -0.136138 -0.053375  \n",
       "T1_AACGTTGCAATGGATA  -0.143774 -0.062418  "
      ]
     },
     "execution_count": 14,
     "metadata": {},
     "output_type": "execute_result"
    }
   ],
   "source": [
    "adata_gExpr[1:5,1:7].to_df()"
   ]
  },
  {
   "cell_type": "markdown",
   "id": "dda40c28-feae-419f-871f-bdbdec043ff3",
   "metadata": {
    "tags": []
   },
   "source": [
    "### Step 3. Load multiple ARACNe-inferred gene regulatory networks \n",
    "Load 3 lineage-specific gene regulatory network generated with the ARACNe. These networks were generated from <span style=\"color:red\">malignant and normal ductal cells</span> and <span style=\"color:red\">fibroblasts</span>, respectively, i.e. the most represented cell types in the data. Refer to the [ARACNe3](https://www.mdpi.com/1099-4300/25/3/542) and [ARACNe-AP](https://pubmed.ncbi.nlm.nih.gov/27153652/) manuscripts for additional information. \n",
    "<code style=\"background:lightgreen\">Fix paths</code>"
   ]
  },
  {
   "cell_type": "code",
   "execution_count": 15,
   "id": "d2f0ad68-54c0-4216-9ad3-c14c00d57fb6",
   "metadata": {
    "tags": []
   },
   "outputs": [],
   "source": [
    "d1_net_path = \"/Users/lucazanella7/Desktop/ColumbiaProjects/pyther_test_data/subset_Peng/pruned_Ductal_1.tsv\" # path to ARACNe network for ductal 1 \n",
    "d2_net_path = \"/Users/lucazanella7/Desktop/ColumbiaProjects/pyther_test_data/subset_Peng/pruned_Ductal_2.tsv\" # path to ARACNe network for ductal 2\n",
    "f_net_path = \"/Users/lucazanella7/Desktop/ColumbiaProjects/pyther_test_data/subset_Peng/pruned_fibro.tsv\" # path to ARACNe network for fibroblasts\n",
    "\n",
    "\n",
    "ductal_1_net = pyther.Interactome('ductal_1',net_table=d1_net_path) # load interactome for ductal cell type 1\n",
    "ductal_2_net = pyther.Interactome('ductal_2',net_table=d2_net_path) # load interactome for ductal cell type 2\n",
    "fibroblast_net = pyther.Interactome('fibroblast',net_table=f_net_path) # load interactome for fibroblasts"
   ]
  },
  {
   "cell_type": "markdown",
   "id": "fc55107e-5012-4dce-9357-4924cdb10bf1",
   "metadata": {},
   "source": [
    "Each regulatory network is an instance of class `Interactome`:"
   ]
  },
  {
   "cell_type": "code",
   "execution_count": 16,
   "id": "db02fe27-5a69-40df-b617-8c1824a5717d",
   "metadata": {
    "tags": []
   },
   "outputs": [
    {
     "data": {
      "text/plain": [
       "\u001b[0;31mType:\u001b[0m           Interactome\n",
       "\u001b[0;31mString form:\u001b[0m   \n",
       "Object of class Interactome:\n",
       "\tName: fibroblast\tNumber of Regulons: 6437\n",
       "\u001b[0;31mFile:\u001b[0m           ~/Desktop/ColumbiaProjects/pyther/pyther/interactome.py\n",
       "\u001b[0;31mDocstring:\u001b[0m      <no docstring>\n",
       "\u001b[0;31mInit docstring:\u001b[0m\n",
       "Create an Interactome object to contain the results of ARACNe.\n",
       "\n",
       "Parameters\n",
       "----------\n",
       "name\n",
       "    A filepath to one's disk to store the Interactome.\n",
       "net_table (default: None)\n",
       "    Either\n",
       "    (1) a pd.DataFrame containing four columns in this order:\n",
       "        \"regulator\", \"target\", \"mor\", \"likelihood\"\n",
       "    (2) a filepath to this pd.DataFrame stored either as a .csv,\n",
       "    .tsv or .pkl.\n",
       "    (3) a filepath to an Interacome object stored as a .pkl.\n",
       "input_type (default: None)\n",
       "    Only relevant when net_table is a filepath. If None, the input_type\n",
       "    will be inferred from the net_table. Otherwise, specify \"csv\", \"tsv\"\n",
       "    or \"pkl\"."
      ]
     },
     "metadata": {},
     "output_type": "display_data"
    }
   ],
   "source": [
    "?fibroblast_net"
   ]
  },
  {
   "cell_type": "markdown",
   "id": "d0f1f5ff-6a95-4d59-8fa1-f6dd109afb24",
   "metadata": {},
   "source": [
    "Filter out targets in the `Interactomes` that are not present in the gene expression matrix "
   ]
  },
  {
   "cell_type": "code",
   "execution_count": 17,
   "id": "f076ea2a-7ee0-4533-89dc-484135344734",
   "metadata": {
    "tags": []
   },
   "outputs": [],
   "source": [
    "ductal_1_net.filter_targets(adata_gExpr.var_names)\n",
    "ductal_2_net.filter_targets(adata_gExpr.var_names)\n",
    "fibroblast_net.filter_targets(adata_gExpr.var_names)"
   ]
  },
  {
   "cell_type": "markdown",
   "id": "7cbe40a1-9fdf-4c51-8537-3550d0f1e4b1",
   "metadata": {},
   "source": [
    "Prune each regulon to have exactly 200 targets (this step can be omitted when setting `enrichment=narnea` in `pyther`)"
   ]
  },
  {
   "cell_type": "code",
   "execution_count": 18,
   "id": "6e13533c-30a4-4ccc-99d0-d04906c3ccf2",
   "metadata": {
    "tags": []
   },
   "outputs": [],
   "source": [
    "ductal_1_net.prune(max_targets=200,eliminate=True)\n",
    "ductal_2_net.prune(max_targets=200,eliminate=True)\n",
    "fibroblast_net.prune(max_targets=200,eliminate=True)"
   ]
  },
  {
   "cell_type": "markdown",
   "id": "db9bf00e-6cdb-4e9a-8366-19d04cf5d3ba",
   "metadata": {
    "tags": []
   },
   "source": [
    "### Convert the gene expression signature into a protein activity matrix using pyther (metaVIPER approach)\n",
    "Convert the previously-computed gene expression signature into a protein activity by using multiple interactomes simultaneousely via the metaVIPER approach. Use `enrichment=\"narnea\"` and store the result in an `AnnData` object (default). Use 3 cores to speed up the calculation. See Tutorial-1 for details on the available modalities to compute enrichment. <code style=\"background:lightgreen\">consider showing slice_concat function here if the matrix used has more cells?</code>"
   ]
  },
  {
   "cell_type": "code",
   "execution_count": null,
   "id": "3ce7445b-8977-4903-87d6-31b53ff3be6e",
   "metadata": {
    "tags": []
   },
   "outputs": [],
   "source": [
    "adata_PA = pyther.viper(gex_data=adata_gExpr, # gene expression signature\n",
    "                            interactome=[ductal_1_net, ductal_2_net, fibroblast_net], # list of interactomes\n",
    "                            enrichment = \"narnea\",\n",
    "                            njobs=3, # 3 cores\n",
    "                            batch_size=1000,\n",
    "                            verbose=False)"
   ]
  },
  {
   "cell_type": "markdown",
   "id": "22506f15-3702-4dec-a7a6-c503b841194e",
   "metadata": {
    "tags": []
   },
   "source": [
    "`pyther` (NaRnEA-enrichment) returns an object of class `AnnData` that stores a matrix collecting the Normalized Enrichment Scores (NES) and a matrix of Proportional Enrichment Scores (PES) for regulatory protein in each cell. See <span style=\"color:red\">Tutorial 1</span> for more details and [Griffin et al., 2022](https://pubmed.ncbi.nlm.nih.gov/36981431/)."
   ]
  },
  {
   "cell_type": "code",
   "execution_count": null,
   "id": "0e0ed253-8486-4dab-a04e-b043ffae8df8",
   "metadata": {
    "tags": []
   },
   "outputs": [],
   "source": [
    "adata_PA"
   ]
  },
  {
   "cell_type": "markdown",
   "id": "66b94ea3-71c8-4fc7-a744-684869e02855",
   "metadata": {
    "tags": []
   },
   "source": [
    "### Step 4. Analyze single-cells at the Protein Activity level \n",
    "We present some basic, but instructive analyses at the protein activity matrix. Start by running Principal Components Analysis (PCA) on the PES matrix, to reduce the dimensionality of the dataset. Use the PCA function avaiable through `pyther.tl`, a module that provides several wrappers to `scanpy.tl` which simplifies the transformation of protein activity data. \n"
   ]
  },
  {
   "cell_type": "code",
   "execution_count": null,
   "id": "8498993f-ba11-425b-931c-973b9f207147",
   "metadata": {
    "tags": []
   },
   "outputs": [],
   "source": [
    "pyther.tl.pca(adata_PA, layer=\"pes\", filter_by_feature_groups=\"all\", svd_solver='arpack')"
   ]
  },
  {
   "cell_type": "markdown",
   "id": "466916ed-432c-4033-8e03-c59f61a98f84",
   "metadata": {},
   "source": [
    "Compute the neighbors graph of cells using the PCA representation of the protein activity matrix. For sake of simplicity, we set 10 nearest neightbors and 50 principal components. Typically, these parameters need tuning."
   ]
  },
  {
   "cell_type": "code",
   "execution_count": null,
   "id": "73324da1-c1b5-4d69-b03a-e0f93edd2b92",
   "metadata": {
    "tags": []
   },
   "outputs": [],
   "source": [
    "sc.pp.neighbors(adata_PA, n_neighbors=5, n_pcs=50)"
   ]
  },
  {
   "cell_type": "markdown",
   "id": "3a0c32b2-7e1f-4a5d-85d1-c6a11e4f6180",
   "metadata": {
    "tags": []
   },
   "source": [
    "Generate a [UMAP](https://arxiv.org/abs/1802.03426) embedding of the previously computed graph."
   ]
  },
  {
   "cell_type": "code",
   "execution_count": null,
   "id": "ba0dc369-bd38-43dc-b68c-609b0e8a1673",
   "metadata": {
    "tags": []
   },
   "outputs": [],
   "source": [
    "sc.tl.umap(adata_PA)"
   ]
  },
  {
   "cell_type": "markdown",
   "id": "770688c9-0983-4c1b-9e19-08d1c91ade2d",
   "metadata": {
    "tags": []
   },
   "source": [
    "Display the 2-dimensional UMAP embedding and color by cell type.  "
   ]
  },
  {
   "cell_type": "code",
   "execution_count": null,
   "id": "6cc9fdee-2e80-449a-97ea-2a2e62503cfe",
   "metadata": {
    "tags": []
   },
   "outputs": [],
   "source": [
    "sc.set_figure_params(dpi=90)\n",
    "pyther.pl.umap(adata_PA,color=\"Cell_Type\", palette=\"Set3\", add_outline=True)"
   ]
  },
  {
   "cell_type": "code",
   "execution_count": null,
   "id": "6a825bab-fee1-4fc3-bbbc-ddd5216d2eef",
   "metadata": {},
   "outputs": [],
   "source": [
    "Show some "
   ]
  },
  {
   "cell_type": "code",
   "execution_count": null,
   "id": "23328c2f-ed66-4563-902c-79fd166502f6",
   "metadata": {},
   "outputs": [],
   "source": [
    "protein_markers_dict = {\n",
    "    'Ductal cell type 1': ['AMBP', 'CFTR'],\n",
    "    'Ductal cell type 2': ['KRT19', 'TSPAN8'],\n",
    "    'Fibroblast cell': ['VIM'],\n",
    "    'Stellate cell': ['PDGFRB']\n",
    "}\n",
    "sc.set_figure_params(dpi=100)\n",
    "pyther.pl.dotplot(adata_PA, var_names=protein_markers_dict, layer=\"pes\",groupby='Cell_Type', cmap=\"RdBu_r\", vcenter=0,dendrogram=True)"
   ]
  },
  {
   "cell_type": "markdown",
   "id": "bccedc47-5316-41da-8075-17a9e6cfca5e",
   "metadata": {},
   "source": [
    "Find the regulatory proteins that were predicted to be most active for each cell type by integrating the NES of each regulatory protein across all cells of a given cell type using the Stouffer's method: $$ NES^C_j = \\frac{\\sum_{k \\in C}NES_{k,j}}{\\sqrt{n^C}} $$ where $NES^C_j$ denotes the integrated NES for regulator $j$ in cluster/cell type $C$, $NES_{k,j}$ is the NES of regulator $j$ in cluster/cell type $C$ and $n^C$ is the number of cells in cluster $C$."
   ]
  },
  {
   "cell_type": "code",
   "execution_count": null,
   "id": "4cb40523-71b6-41bd-99ea-4d5fc8c725bb",
   "metadata": {
    "tags": []
   },
   "outputs": [],
   "source": [
    "NES_integrated = pyther.compute_cluster_stouffer_anndata(adata_PA, \"Cell_Type\") # Stouffer integration "
   ]
  },
  {
   "cell_type": "markdown",
   "id": "f548c5fa-675f-4875-8ef6-a0bf7909460a",
   "metadata": {
    "tags": []
   },
   "source": [
    "Analogously, `compute_cluster_stouffer`, can be used to perform the same operations in Pandas DataFrames. Remove ribosomal proteins from the above matrix (ribosomal protein genes are among the most highly expressed genes in most cell types)."
   ]
  },
  {
   "cell_type": "code",
   "execution_count": null,
   "id": "65bff5c8-a267-41de-8b5e-61fa4205e3ba",
   "metadata": {
    "tags": []
   },
   "outputs": [],
   "source": [
    "filtered_proteins = NES_integrated.var_names[~NES_integrated.var_names.str.startswith('RP')].to_list() # Exclude columns starting with 'RP' from integrated matrix\n",
    "NES_integrated = NES_integrated[:,filtered_proteins] # remove ribosomal proteins from the AnnData object"
   ]
  },
  {
   "cell_type": "markdown",
   "id": "76a6380b-cd6b-4e19-ac98-e81136938bb1",
   "metadata": {},
   "source": [
    "Extract the 5 most activated regulatory protein in each cell population"
   ]
  },
  {
   "cell_type": "code",
   "execution_count": null,
   "id": "5bcf6837-fd01-44ba-9d87-8c5b080abbfb",
   "metadata": {
    "tags": []
   },
   "outputs": [],
   "source": [
    "active_proteins = NES_integrated.to_df().apply(lambda row: row.nlargest(5).index.tolist(), axis=1)  # the top 5 most activated proteins in each cell type\n",
    "active_proteins"
   ]
  },
  {
   "cell_type": "markdown",
   "id": "b0706880-846d-4748-80b6-091b6c69b787",
   "metadata": {},
   "source": [
    "Show the top activated proteins on a heatmap"
   ]
  },
  {
   "cell_type": "code",
   "execution_count": null,
   "id": "90cf7b4f-13ef-4cdf-8d52-5a780d5cdd98",
   "metadata": {
    "tags": []
   },
   "outputs": [],
   "source": [
    "protein_set = active_proteins.sum() # protein set to display on the heatmap\n",
    "ax = pyther.pl.heatmap(adata_PA, var_names=protein_set, groupby=\"Cell_Type\", layer=\"pes\",vcenter=0,cmap=\"RdBu_r\",dendrogram=True,swap_axes=True,figsize=(11,6))"
   ]
  },
  {
   "cell_type": "code",
   "execution_count": null,
   "id": "34ab7e89-dfe1-4705-8dcf-b1b3a9599496",
   "metadata": {
    "tags": []
   },
   "outputs": [],
   "source": []
  },
  {
   "cell_type": "markdown",
   "id": "a1d7af86-46fc-4ea4-9a82-d8a372b575d6",
   "metadata": {
    "tags": []
   },
   "source": [
    "Show how to use <span style=\"color:green\">pyther.config.set_regulators_species_to_use(species=\"human\")</span>\n"
   ]
  },
  {
   "cell_type": "code",
   "execution_count": null,
   "id": "f2eebf62-7e00-4019-bccb-662b86205330",
   "metadata": {
    "tags": []
   },
   "outputs": [],
   "source": [
    "s_net_path = \"/Users/lucazanella7/Desktop/ColumbiaProjects/pyther_test_data/subset_Peng/pruned_Stellate.tsv\" # path to ARACNe network for stellate\n",
    "stellate_net = pyther.Interactome('stellate',net_table=s_net_path) # load interactome from stellate cells"
   ]
  },
  {
   "cell_type": "code",
   "execution_count": null,
   "id": "f7711b10-9042-4942-b7b8-b7bb648eabc9",
   "metadata": {
    "tags": []
   },
   "outputs": [],
   "source": []
  },
  {
   "cell_type": "code",
   "execution_count": 29,
   "id": "e12697c3-eaeb-4e17-9aac-a8d6ba7fa2bd",
   "metadata": {
    "tags": []
   },
   "outputs": [
    {
     "ename": "IndexError",
     "evalue": "index 18190 is out of bounds for axis 0 with size 18190",
     "output_type": "error",
     "traceback": [
      "\u001b[0;31m---------------------------------------------------------------------------\u001b[0m",
      "\u001b[0;31mIndexError\u001b[0m                                Traceback (most recent call last)",
      "Cell \u001b[0;32mIn[29], line 1\u001b[0m\n\u001b[0;32m----> 1\u001b[0m \u001b[43mfibroblast_net\u001b[49m\u001b[38;5;241;43m.\u001b[39;49m\u001b[43mtranslate_targets\u001b[49m\u001b[43m(\u001b[49m\u001b[43mdesired_format\u001b[49m\u001b[38;5;241;43m=\u001b[39;49m\u001b[38;5;124;43m\"\u001b[39;49m\u001b[38;5;124;43mhuman_entrez\u001b[39;49m\u001b[38;5;124;43m\"\u001b[39;49m\u001b[43m)\u001b[49m\n",
      "File \u001b[0;32m~/Desktop/ColumbiaProjects/pyther/pyther/interactome.py:550\u001b[0m, in \u001b[0;36mInteractome.translate_targets\u001b[0;34m(self, desired_format)\u001b[0m\n\u001b[1;32m    533\u001b[0m \u001b[38;5;28;01mdef\u001b[39;00m \u001b[38;5;21mtranslate_targets\u001b[39m(\u001b[38;5;28mself\u001b[39m, desired_format):\n\u001b[1;32m    534\u001b[0m \u001b[38;5;250m    \u001b[39m\u001b[38;5;124;03m\"\"\"\\\u001b[39;00m\n\u001b[1;32m    535\u001b[0m \u001b[38;5;124;03m    Translate the targets of the Interactome.  The current name format of\u001b[39;00m\n\u001b[1;32m    536\u001b[0m \u001b[38;5;124;03m    the targets should be one of the following:\u001b[39;00m\n\u001b[0;32m   (...)\u001b[0m\n\u001b[1;32m    548\u001b[0m \u001b[38;5;124;03m        \"mouse_ensembl\", \"human_symbol\", or \"human_ensembl\".\u001b[39;00m\n\u001b[1;32m    549\u001b[0m \u001b[38;5;124;03m    \"\"\"\u001b[39;00m\n\u001b[0;32m--> 550\u001b[0m     \u001b[38;5;28mself\u001b[39m\u001b[38;5;241m.\u001b[39mnet_table \u001b[38;5;241m=\u001b[39m \u001b[38;5;28;43mself\u001b[39;49m\u001b[38;5;241;43m.\u001b[39;49m\u001b[43m__translate_net_table_column\u001b[49m\u001b[43m(\u001b[49m\n\u001b[1;32m    551\u001b[0m \u001b[43m        \u001b[49m\u001b[43mnet_table\u001b[49m\u001b[43m \u001b[49m\u001b[38;5;241;43m=\u001b[39;49m\u001b[43m \u001b[49m\u001b[38;5;28;43mself\u001b[39;49m\u001b[38;5;241;43m.\u001b[39;49m\u001b[43mnet_table\u001b[49m\u001b[43m,\u001b[49m\n\u001b[1;32m    552\u001b[0m \u001b[43m        \u001b[49m\u001b[43mdesired_format\u001b[49m\u001b[43m \u001b[49m\u001b[38;5;241;43m=\u001b[39;49m\u001b[43m \u001b[49m\u001b[43mdesired_format\u001b[49m\u001b[43m,\u001b[49m\n\u001b[1;32m    553\u001b[0m \u001b[43m        \u001b[49m\u001b[43mcolumn_name\u001b[49m\u001b[43m \u001b[49m\u001b[38;5;241;43m=\u001b[39;49m\u001b[43m \u001b[49m\u001b[38;5;124;43m'\u001b[39;49m\u001b[38;5;124;43mtarget\u001b[39;49m\u001b[38;5;124;43m'\u001b[39;49m\n\u001b[1;32m    554\u001b[0m \u001b[43m    \u001b[49m\u001b[43m)\u001b[49m\n",
      "File \u001b[0;32m~/Desktop/ColumbiaProjects/pyther/pyther/interactome.py:523\u001b[0m, in \u001b[0;36mInteractome.__translate_net_table_column\u001b[0;34m(self, net_table, desired_format, column_name)\u001b[0m\n\u001b[1;32m    521\u001b[0m \u001b[38;5;28;01mdef\u001b[39;00m \u001b[38;5;21m__translate_net_table_column\u001b[39m(\u001b[38;5;28mself\u001b[39m, net_table, desired_format, column_name):\n\u001b[1;32m    522\u001b[0m     current_gene_names \u001b[38;5;241m=\u001b[39m net_table[column_name]\u001b[38;5;241m.\u001b[39mvalues\n\u001b[0;32m--> 523\u001b[0m     translation \u001b[38;5;241m=\u001b[39m \u001b[43m_translate_genes_array\u001b[49m\u001b[43m(\u001b[49m\u001b[43mcurrent_gene_names\u001b[49m\u001b[43m,\u001b[49m\u001b[43m \u001b[49m\u001b[43mdesired_format\u001b[49m\u001b[43m)\u001b[49m\n\u001b[1;32m    525\u001b[0m     \u001b[38;5;66;03m# Update the interactome table with translated values\u001b[39;00m\n\u001b[1;32m    526\u001b[0m     net_table[column_name] \u001b[38;5;241m=\u001b[39m translation\n",
      "File \u001b[0;32m~/Desktop/ColumbiaProjects/pyther/pyther/_translate.py:68\u001b[0m, in \u001b[0;36m_translate_genes_array\u001b[0;34m(current_gene_names, desired_format)\u001b[0m\n\u001b[1;32m     65\u001b[0m positions \u001b[38;5;241m=\u001b[39m np\u001b[38;5;241m.\u001b[39msearchsorted(dict_column_current_format, current_gene_names)\n\u001b[1;32m     67\u001b[0m \u001b[38;5;66;03m# Identify input values that have no translation available\u001b[39;00m\n\u001b[0;32m---> 68\u001b[0m mask \u001b[38;5;241m=\u001b[39m (positions \u001b[38;5;241m<\u001b[39m \u001b[38;5;28mlen\u001b[39m(dict_column_current_format)) \u001b[38;5;241m&\u001b[39m (\u001b[43mdict_column_current_format\u001b[49m\u001b[43m[\u001b[49m\u001b[43mpositions\u001b[49m\u001b[43m]\u001b[49m \u001b[38;5;241m==\u001b[39m current_gene_names)\n\u001b[1;32m     70\u001b[0m \u001b[38;5;66;03m# Get translated values\u001b[39;00m\n\u001b[1;32m     71\u001b[0m translation \u001b[38;5;241m=\u001b[39m np\u001b[38;5;241m.\u001b[39marray([\u001b[38;5;28;01mNone\u001b[39;00m] \u001b[38;5;241m*\u001b[39m \u001b[38;5;28mlen\u001b[39m(current_gene_names))\n",
      "\u001b[0;31mIndexError\u001b[0m: index 18190 is out of bounds for axis 0 with size 18190"
     ]
    }
   ],
   "source": [
    "fibroblast_net.translate_targets(desired_format=\"human_entrez\")"
   ]
  },
  {
   "cell_type": "code",
   "execution_count": null,
   "id": "c1dfd439-d2f2-4c2b-859c-f58507d98c47",
   "metadata": {
    "tags": []
   },
   "outputs": [],
   "source": []
  },
  {
   "cell_type": "code",
   "execution_count": null,
   "id": "1b8a6b75-dd7b-4cb6-a11b-5ef626eb9739",
   "metadata": {},
   "outputs": [],
   "source": []
  },
  {
   "cell_type": "code",
   "execution_count": null,
   "id": "e509f8f2-257a-47a0-aeb9-40080d1efb09",
   "metadata": {},
   "outputs": [],
   "source": []
  },
  {
   "cell_type": "code",
   "execution_count": null,
   "id": "88e28ec8-ea53-4aaa-ab9c-be7cca5e7d08",
   "metadata": {
    "tags": []
   },
   "outputs": [],
   "source": [
    "\n"
   ]
  },
  {
   "cell_type": "code",
   "execution_count": null,
   "id": "10341c4c-acb9-455e-aa82-62c049e2303a",
   "metadata": {
    "tags": []
   },
   "outputs": [],
   "source": []
  },
  {
   "cell_type": "code",
   "execution_count": null,
   "id": "f25c5b12-dafd-41c6-9283-44a1f899305c",
   "metadata": {
    "tags": []
   },
   "outputs": [],
   "source": []
  },
  {
   "cell_type": "code",
   "execution_count": null,
   "id": "08e7c618-7341-4895-8320-8b5385ff786a",
   "metadata": {
    "tags": []
   },
   "outputs": [],
   "source": []
  },
  {
   "cell_type": "code",
   "execution_count": null,
   "id": "bda03013-5ba0-480a-a497-755694b2ac2b",
   "metadata": {
    "tags": []
   },
   "outputs": [],
   "source": []
  },
  {
   "cell_type": "code",
   "execution_count": null,
   "id": "78cbde62-79c7-4c9e-808f-b42b12d2b7ee",
   "metadata": {
    "tags": []
   },
   "outputs": [],
   "source": []
  },
  {
   "cell_type": "code",
   "execution_count": null,
   "id": "f3a34a64-fb0b-458f-a350-feb4e1c499d0",
   "metadata": {
    "tags": []
   },
   "outputs": [],
   "source": []
  },
  {
   "cell_type": "code",
   "execution_count": null,
   "id": "68225389-7394-4228-8a49-03479aa042a0",
   "metadata": {
    "tags": []
   },
   "outputs": [],
   "source": []
  },
  {
   "cell_type": "code",
   "execution_count": null,
   "id": "98039bb1-3ce0-4401-bee3-d52e744b25d2",
   "metadata": {
    "tags": []
   },
   "outputs": [],
   "source": []
  },
  {
   "cell_type": "code",
   "execution_count": null,
   "id": "074f614d-b82b-477e-ab6e-b5dab857a255",
   "metadata": {
    "tags": []
   },
   "outputs": [],
   "source": []
  },
  {
   "cell_type": "code",
   "execution_count": null,
   "id": "6a46de55-d6dc-4b3d-951f-e8e7d78e32d3",
   "metadata": {
    "tags": []
   },
   "outputs": [],
   "source": []
  },
  {
   "cell_type": "code",
   "execution_count": null,
   "id": "357da2e6-85ec-4d0b-9f65-033fd6ae564e",
   "metadata": {
    "tags": []
   },
   "outputs": [],
   "source": []
  },
  {
   "cell_type": "code",
   "execution_count": null,
   "id": "401fdaf9-e838-4674-b944-f2e822c3bd56",
   "metadata": {
    "tags": []
   },
   "outputs": [],
   "source": []
  },
  {
   "cell_type": "code",
   "execution_count": null,
   "id": "aa9b7cf1-ba08-41ac-8ed0-6a3fefd9e0ae",
   "metadata": {},
   "outputs": [],
   "source": []
  }
 ],
 "metadata": {
  "kernelspec": {
   "display_name": "Python 3 (ipykernel)",
   "language": "python",
   "name": "python3"
  },
  "language_info": {
   "codemirror_mode": {
    "name": "ipython",
    "version": 3
   },
   "file_extension": ".py",
   "mimetype": "text/x-python",
   "name": "python",
   "nbconvert_exporter": "python",
   "pygments_lexer": "ipython3",
   "version": "3.10.12"
  }
 },
 "nbformat": 4,
 "nbformat_minor": 5
}
