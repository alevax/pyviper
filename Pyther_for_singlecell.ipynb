{
 "cells": [
  {
   "cell_type": "markdown",
   "metadata": {},
   "source": [
    "# Pyther for Single Cell\n",
    "\n",
    "Here is a document to show how to use Pyther for single cell analysis under scanpy framework."
   ]
  },
  {
   "cell_type": "markdown",
   "metadata": {},
   "source": [
    "## Import packages and datasets"
   ]
  },
  {
   "cell_type": "code",
   "execution_count": 1,
   "metadata": {},
   "outputs": [],
   "source": [
    "import sys\n",
    "sys.path.insert(0, 'E:\\lab\\pyther\\libs')\n",
    "from pyther_classes import *\n",
    "from pyther_fn import *\n",
    "from pyther_narnea import *\n",
    "\n",
    "import scanpy as sc\n",
    "import anndata \n",
    "import pandas as pd\n",
    "\n",
    "path1 = 'E:/lab/pyther/test/Jessica_tests/test_sets/Peng_Ducal_1/'\n",
    "path2 = 'E:/lab/pyther/test/Jessica_tests/test_sets/Peng_Ducal_2/'\n",
    "\n",
    "Ducal_2_1000 = anndata.read_csv(path2 + 'Ductal_2_1000.csv').T\n",
    "\n",
    "pruned_Ducal_1 = pd.read_csv(path1 +'pruned_Ductal_1.tsv',delimiter = '\\t')\n",
    "pruned_Ducal_2 = pd.read_csv(path2 +'pruned_Ductal_2.tsv',delimiter = '\\t')"
   ]
  },
  {
   "cell_type": "markdown",
   "metadata": {},
   "source": [
    "## Preprocessing"
   ]
  },
  {
   "cell_type": "code",
   "execution_count": 2,
   "metadata": {},
   "outputs": [],
   "source": [
    "sc.pp.filter_cells(Ducal_2_1000, min_genes=0)\n",
    "sc.pp.filter_genes(Ducal_2_1000, min_cells=3)\n",
    "\n",
    "#depends on needs or substitue with signature\n",
    "#sc.pp.normalize_per_cell(Ducal_2_1000) \n",
    "#sc.pp.log1p(Ducal_2_1000)"
   ]
  },
  {
   "cell_type": "markdown",
   "metadata": {},
   "source": [
    "## Pyther\n",
    "\n",
    "**Convert network dataframes into interactomes **"
   ]
  },
  {
   "cell_type": "code",
   "execution_count": 3,
   "metadata": {},
   "outputs": [],
   "source": [
    "pruned_Ducal_1 = Interactome('intName', pruned_Ducal_1)\n",
    "pruned_Ducal_2 = Interactome('intName', pruned_Ducal_2)"
   ]
  },
  {
   "cell_type": "markdown",
   "metadata": {},
   "source": [
    "By default pyther uses narnea as enrichment method"
   ]
  },
  {
   "cell_type": "code",
   "execution_count": 5,
   "metadata": {},
   "outputs": [
    {
     "name": "stdout",
     "output_type": "stream",
     "text": [
      "Preparing the association scores\n",
      "Computing regulons enrichment with NaRnEa\n",
      "<class 'list'>\n"
     ]
    },
    {
     "ename": "NameError",
     "evalue": "name 'pyther_classes' is not defined",
     "output_type": "error",
     "traceback": [
      "\u001b[1;31m---------------------------------------------------------------------------\u001b[0m",
      "\u001b[1;31mNameError\u001b[0m                                 Traceback (most recent call last)",
      "\u001b[1;32me:\\lab\\pyther\\Pyther_for_singlecell.ipynb Cell 9\u001b[0m line \u001b[0;36m1\n\u001b[1;32m----> <a href='vscode-notebook-cell:/e%3A/lab/pyther/Pyther_for_singlecell.ipynb#X13sZmlsZQ%3D%3D?line=0'>1</a>\u001b[0m Ducal_narnea \u001b[39m=\u001b[39m pyther(Ducal_2_1000,[pruned_Ducal_1,pruned_Ducal_2], njobs \u001b[39m=\u001b[39;49m \u001b[39m3\u001b[39;49m)\n\u001b[0;32m      <a href='vscode-notebook-cell:/e%3A/lab/pyther/Pyther_for_singlecell.ipynb#X13sZmlsZQ%3D%3D?line=1'>2</a>\u001b[0m Ducal_narnea\u001b[39m.\u001b[39mto_df()\n",
      "File \u001b[1;32mE:\\lab\\pyther\\libs\\pyther_fn.py:501\u001b[0m, in \u001b[0;36mpyther\u001b[1;34m(gex_data, interactome, layer, njobs, eset_filter, method, enrichment, mvws, verbose, output_type)\u001b[0m\n\u001b[0;32m    499\u001b[0m     \u001b[39mprint\u001b[39m(\u001b[39m\"\u001b[39m\u001b[39mComputing regulons enrichment with NaRnEa\u001b[39m\u001b[39m\"\u001b[39m)\n\u001b[0;32m    500\u001b[0m     \u001b[39m#joblib_verbose = 11\u001b[39;00m\n\u001b[1;32m--> 501\u001b[0m preOp \u001b[39m=\u001b[39m meta_narnea(gesObj, intList, sample_weight \u001b[39m=\u001b[39;49m \u001b[39mTrue\u001b[39;49;00m, njobs \u001b[39m=\u001b[39;49m njobs, verbose \u001b[39m=\u001b[39;49m verbose)\n\u001b[0;32m    502\u001b[0m \u001b[39mif\u001b[39;00m output_type \u001b[39m==\u001b[39m \u001b[39m'\u001b[39m\u001b[39mndarray\u001b[39m\u001b[39m'\u001b[39m:\n\u001b[0;32m    503\u001b[0m     op \u001b[39m=\u001b[39m preOp\n",
      "File \u001b[1;32mE:\\lab\\pyther\\libs\\pyther_narnea.py:291\u001b[0m, in \u001b[0;36mmeta_narnea\u001b[1;34m(gesObj, intObj, sample_weight, njobs, verbose)\u001b[0m\n\u001b[0;32m    288\u001b[0m pd\u001b[39m.\u001b[39moptions\u001b[39m.\u001b[39mmode\u001b[39m.\u001b[39mchained_assignment \u001b[39m=\u001b[39m \u001b[39mNone\u001b[39;00m\n\u001b[0;32m    290\u001b[0m \u001b[39mprint\u001b[39m(\u001b[39mtype\u001b[39m(intObj))\n\u001b[1;32m--> 291\u001b[0m \u001b[39mif\u001b[39;00m \u001b[39mtype\u001b[39m(intObj) \u001b[39m==\u001b[39m pyther_classes\u001b[39m.\u001b[39mInteractome:\n\u001b[0;32m    292\u001b[0m     \u001b[39mreturn\u001b[39;00m matrix_narnea(gesObj, intObj)\n\u001b[0;32m    293\u001b[0m \u001b[39m# elif len(intObj) == 1:\u001b[39;00m\n\u001b[0;32m    294\u001b[0m \u001b[39m#     return matrix_narnea(gesObj, intObj[0])\u001b[39;00m\n",
      "\u001b[1;31mNameError\u001b[0m: name 'pyther_classes' is not defined"
     ]
    }
   ],
   "source": [
    "Ducal_narnea = pyther(Ducal_2_1000,[pruned_Ducal_1,pruned_Ducal_2], njobs = 3)\n",
    "Ducal_narnea.to_df()"
   ]
  },
  {
   "cell_type": "markdown",
   "metadata": {},
   "source": [
    "With `enrichment = area` we can switch to viper "
   ]
  },
  {
   "cell_type": "code",
   "execution_count": 5,
   "metadata": {},
   "outputs": [
    {
     "name": "stdout",
     "output_type": "stream",
     "text": [
      "Preparing the association scores\n",
      "Computing regulons enrichment with aREA\n"
     ]
    },
    {
     "name": "stderr",
     "output_type": "stream",
     "text": [
      "[Parallel(n_jobs=3)]: Using backend LokyBackend with 3 concurrent workers.\n",
      "[Parallel(n_jobs=3)]: Done   1 tasks      | elapsed:   37.6s\n",
      "[Parallel(n_jobs=3)]: Done   2 out of   2 | elapsed:   39.8s remaining:    0.0s\n",
      "[Parallel(n_jobs=3)]: Done   2 out of   2 | elapsed:   39.8s finished\n"
     ]
    },
    {
     "name": "stdout",
     "output_type": "stream",
     "text": [
      "mvws = 1\n"
     ]
    }
   ],
   "source": [
    "Ducal_area = pyther(Ducal_2_1000,[pruned_Ducal_1,pruned_Ducal_2], enrichment = 'area',njobs = 3)"
   ]
  },
  {
   "cell_type": "markdown",
   "metadata": {},
   "source": [
    "For single interactome input:"
   ]
  },
  {
   "cell_type": "code",
   "execution_count": 7,
   "metadata": {},
   "outputs": [
    {
     "name": "stdout",
     "output_type": "stream",
     "text": [
      "Preparing the association scores\n",
      "Computing regulons enrichment with NaRnEa\n",
      "<class 'pyther_classes.Interactome'>\n"
     ]
    },
    {
     "ename": "NameError",
     "evalue": "name 'pyther_classes' is not defined",
     "output_type": "error",
     "traceback": [
      "\u001b[1;31m---------------------------------------------------------------------------\u001b[0m",
      "\u001b[1;31mNameError\u001b[0m                                 Traceback (most recent call last)",
      "\u001b[1;32me:\\lab\\pyther\\Pyther_for_singlecell.ipynb Cell 13\u001b[0m line \u001b[0;36m1\n\u001b[1;32m----> <a href='vscode-notebook-cell:/e%3A/lab/pyther/Pyther_for_singlecell.ipynb#X22sZmlsZQ%3D%3D?line=0'>1</a>\u001b[0m pyther(Ducal_2_1000, pruned_Ducal_2, njobs \u001b[39m=\u001b[39;49m \u001b[39m1\u001b[39;49m )\n\u001b[0;32m      <a href='vscode-notebook-cell:/e%3A/lab/pyther/Pyther_for_singlecell.ipynb#X22sZmlsZQ%3D%3D?line=1'>2</a>\u001b[0m pyther(Ducal_2_1000, pruned_Ducal_2, enrichment \u001b[39m=\u001b[39m \u001b[39m'\u001b[39m\u001b[39marea\u001b[39m\u001b[39m'\u001b[39m, njobs\u001b[39m=\u001b[39m\u001b[39m1\u001b[39m)\n",
      "File \u001b[1;32mE:\\lab\\pyther\\libs\\pyther_fn.py:501\u001b[0m, in \u001b[0;36mpyther\u001b[1;34m(gex_data, interactome, layer, njobs, eset_filter, method, enrichment, mvws, verbose, output_type)\u001b[0m\n\u001b[0;32m    499\u001b[0m     \u001b[39mprint\u001b[39m(\u001b[39m\"\u001b[39m\u001b[39mComputing regulons enrichment with NaRnEa\u001b[39m\u001b[39m\"\u001b[39m)\n\u001b[0;32m    500\u001b[0m     \u001b[39m#joblib_verbose = 11\u001b[39;00m\n\u001b[1;32m--> 501\u001b[0m preOp \u001b[39m=\u001b[39m meta_narnea(gesObj, intList, sample_weight \u001b[39m=\u001b[39;49m \u001b[39mTrue\u001b[39;49;00m, njobs \u001b[39m=\u001b[39;49m njobs, verbose \u001b[39m=\u001b[39;49m verbose)\n\u001b[0;32m    502\u001b[0m \u001b[39mif\u001b[39;00m output_type \u001b[39m==\u001b[39m \u001b[39m'\u001b[39m\u001b[39mndarray\u001b[39m\u001b[39m'\u001b[39m:\n\u001b[0;32m    503\u001b[0m     op \u001b[39m=\u001b[39m preOp\n",
      "File \u001b[1;32mE:\\lab\\pyther\\libs\\pyther_narnea.py:291\u001b[0m, in \u001b[0;36mmeta_narnea\u001b[1;34m(gesObj, intObj, sample_weight, njobs, verbose)\u001b[0m\n\u001b[0;32m    288\u001b[0m pd\u001b[39m.\u001b[39moptions\u001b[39m.\u001b[39mmode\u001b[39m.\u001b[39mchained_assignment \u001b[39m=\u001b[39m \u001b[39mNone\u001b[39;00m\n\u001b[0;32m    290\u001b[0m \u001b[39mprint\u001b[39m(\u001b[39mtype\u001b[39m(intObj))\n\u001b[1;32m--> 291\u001b[0m \u001b[39mif\u001b[39;00m \u001b[39mtype\u001b[39m(intObj) \u001b[39m==\u001b[39m pyther_classes\u001b[39m.\u001b[39mInteractome:\n\u001b[0;32m    292\u001b[0m     \u001b[39mreturn\u001b[39;00m matrix_narnea(gesObj, intObj)\n\u001b[0;32m    293\u001b[0m \u001b[39m# elif len(intObj) == 1:\u001b[39;00m\n\u001b[0;32m    294\u001b[0m \u001b[39m#     return matrix_narnea(gesObj, intObj[0])\u001b[39;00m\n",
      "\u001b[1;31mNameError\u001b[0m: name 'pyther_classes' is not defined"
     ]
    }
   ],
   "source": [
    "pyther(Ducal_2_1000, pruned_Ducal_2, njobs = 1 )\n",
    "pyther(Ducal_2_1000, pruned_Ducal_2, enrichment = 'area', njobs=1)"
   ]
  },
  {
   "cell_type": "code",
   "execution_count": 14,
   "metadata": {},
   "outputs": [
    {
     "data": {
      "text/plain": [
       "True"
      ]
     },
     "execution_count": 14,
     "metadata": {},
     "output_type": "execute_result"
    }
   ],
   "source": [
    "type(pruned_Ducal_2) == Interactome"
   ]
  },
  {
   "cell_type": "code",
   "execution_count": 13,
   "metadata": {},
   "outputs": [
    {
     "data": {
      "text/plain": [
       "False"
      ]
     },
     "execution_count": 13,
     "metadata": {},
     "output_type": "execute_result"
    }
   ],
   "source": [
    "pruned_Ducal_2 is Interactome"
   ]
  }
 ],
 "metadata": {
  "kernelspec": {
   "display_name": "califano",
   "language": "python",
   "name": "python3"
  },
  "language_info": {
   "codemirror_mode": {
    "name": "ipython",
    "version": 3
   },
   "file_extension": ".py",
   "mimetype": "text/x-python",
   "name": "python",
   "nbconvert_exporter": "python",
   "pygments_lexer": "ipython3",
   "version": "3.8.16"
  },
  "orig_nbformat": 4
 },
 "nbformat": 4,
 "nbformat_minor": 2
}
