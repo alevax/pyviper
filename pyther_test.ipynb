{
 "cells": [
  {
   "cell_type": "code",
   "execution_count": 1,
   "id": "fc795e49",
   "metadata": {},
   "outputs": [],
   "source": [
    "from pyther_classes import *\n",
    "from pyther_fn import *"
   ]
  },
  {
   "cell_type": "code",
   "execution_count": 2,
   "id": "b67bcea5",
   "metadata": {},
   "outputs": [],
   "source": [
    "# set path\n",
    "dirPath = '/mnt/c/Users/lvlah/linux/ac_lab/pyther/'"
   ]
  },
  {
   "cell_type": "code",
   "execution_count": 3,
   "id": "077958e3",
   "metadata": {},
   "outputs": [],
   "source": [
    "# load interactome\n",
    "intObj = InteractomefromTSV(dirPath + 'data/stoch-10000_pruned.tsv', 's10k-net')"
   ]
  },
  {
   "cell_type": "code",
   "execution_count": 4,
   "id": "faabe8f8",
   "metadata": {},
   "outputs": [],
   "source": [
    "# load ges\n",
    "gesObj = anndata.read_csv(dirPath + 'data/stoch-10000_ccle-ges.tsv', delimiter = '\\t')"
   ]
  },
  {
   "cell_type": "code",
   "execution_count": 5,
   "id": "9bb081ad",
   "metadata": {},
   "outputs": [
    {
     "ename": "NameError",
     "evalue": "name 'gesObj' is not defined",
     "output_type": "error",
     "traceback": [
      "\u001b[0;31m---------------------------------------------------------------------------\u001b[0m",
      "\u001b[0;31mNameError\u001b[0m                                 Traceback (most recent call last)",
      "\u001b[0;32m/tmp/ipykernel_219/3645578087.py\u001b[0m in \u001b[0;36m<module>\u001b[0;34m\u001b[0m\n\u001b[1;32m      1\u001b[0m \u001b[0;31m# run aREA\u001b[0m\u001b[0;34m\u001b[0m\u001b[0;34m\u001b[0m\u001b[0;34m\u001b[0m\u001b[0m\n\u001b[0;32m----> 2\u001b[0;31m \u001b[0mnesMat\u001b[0m \u001b[0;34m=\u001b[0m \u001b[0maREA\u001b[0m\u001b[0;34m(\u001b[0m\u001b[0mgesObj\u001b[0m\u001b[0;34m,\u001b[0m \u001b[0mintObj\u001b[0m\u001b[0;34m)\u001b[0m\u001b[0;34m\u001b[0m\u001b[0;34m\u001b[0m\u001b[0m\n\u001b[0m",
      "\u001b[0;32m/mnt/c/Users/lvlah/linux/ac_lab/pyther/pyther_fn.py\u001b[0m in \u001b[0;36maREA\u001b[0;34m(ges, intObj)\u001b[0m\n\u001b[1;32m     32\u001b[0m     \u001b[0;31m# find intersecting genes\u001b[0m\u001b[0;34m\u001b[0m\u001b[0;34m\u001b[0m\u001b[0;34m\u001b[0m\u001b[0m\n\u001b[1;32m     33\u001b[0m     \u001b[0mtargetSet\u001b[0m \u001b[0;34m=\u001b[0m \u001b[0mintObj\u001b[0m\u001b[0;34m.\u001b[0m\u001b[0mget_targetSet\u001b[0m\u001b[0;34m(\u001b[0m\u001b[0;34m)\u001b[0m\u001b[0;34m\u001b[0m\u001b[0;34m\u001b[0m\u001b[0m\n\u001b[0;32m---> 34\u001b[0;31m     \u001b[0mobsNames\u001b[0m \u001b[0;34m=\u001b[0m \u001b[0mgesObj\u001b[0m\u001b[0;34m.\u001b[0m\u001b[0mobs_names\u001b[0m\u001b[0;34m.\u001b[0m\u001b[0mto_list\u001b[0m\u001b[0;34m(\u001b[0m\u001b[0;34m)\u001b[0m\u001b[0;34m\u001b[0m\u001b[0;34m\u001b[0m\u001b[0m\n\u001b[0m\u001b[1;32m     35\u001b[0m     \u001b[0mintersectGenes\u001b[0m \u001b[0;34m=\u001b[0m \u001b[0;34m[\u001b[0m\u001b[0mvalue\u001b[0m \u001b[0;32mfor\u001b[0m \u001b[0mvalue\u001b[0m \u001b[0;32min\u001b[0m \u001b[0mtargetSet\u001b[0m \u001b[0;32mif\u001b[0m \u001b[0mvalue\u001b[0m \u001b[0;32min\u001b[0m \u001b[0mobsNames\u001b[0m\u001b[0;34m]\u001b[0m\u001b[0;34m\u001b[0m\u001b[0;34m\u001b[0m\u001b[0m\n\u001b[1;32m     36\u001b[0m \u001b[0;34m\u001b[0m\u001b[0m\n",
      "\u001b[0;31mNameError\u001b[0m: name 'gesObj' is not defined"
     ]
    }
   ],
   "source": [
    "# run aREA\n",
    "nesMat = aREA(gesObj, intObj)"
   ]
  },
  {
   "cell_type": "code",
   "execution_count": 127,
   "id": "d5c5fcd6",
   "metadata": {},
   "outputs": [
    {
     "data": {
      "text/html": [
       "<div>\n",
       "<style scoped>\n",
       "    .dataframe tbody tr th:only-of-type {\n",
       "        vertical-align: middle;\n",
       "    }\n",
       "\n",
       "    .dataframe tbody tr th {\n",
       "        vertical-align: top;\n",
       "    }\n",
       "\n",
       "    .dataframe thead th {\n",
       "        text-align: right;\n",
       "    }\n",
       "</style>\n",
       "<table border=\"1\" class=\"dataframe\">\n",
       "  <thead>\n",
       "    <tr style=\"text-align: right;\">\n",
       "      <th></th>\n",
       "      <th>0</th>\n",
       "      <th>1</th>\n",
       "      <th>2</th>\n",
       "    </tr>\n",
       "  </thead>\n",
       "  <tbody>\n",
       "    <tr>\n",
       "      <th>AAMP</th>\n",
       "      <td>2.711035</td>\n",
       "      <td>3.977396</td>\n",
       "      <td>2.662886</td>\n",
       "    </tr>\n",
       "    <tr>\n",
       "      <th>AATF</th>\n",
       "      <td>-3.244352</td>\n",
       "      <td>3.086070</td>\n",
       "      <td>2.727567</td>\n",
       "    </tr>\n",
       "    <tr>\n",
       "      <th>ABCA3</th>\n",
       "      <td>2.692601</td>\n",
       "      <td>-2.148259</td>\n",
       "      <td>2.251413</td>\n",
       "    </tr>\n",
       "    <tr>\n",
       "      <th>ABCC3</th>\n",
       "      <td>2.564333</td>\n",
       "      <td>2.510073</td>\n",
       "      <td>2.998940</td>\n",
       "    </tr>\n",
       "    <tr>\n",
       "      <th>ABI1</th>\n",
       "      <td>-2.079672</td>\n",
       "      <td>-2.491188</td>\n",
       "      <td>2.350844</td>\n",
       "    </tr>\n",
       "    <tr>\n",
       "      <th>...</th>\n",
       "      <td>...</td>\n",
       "      <td>...</td>\n",
       "      <td>...</td>\n",
       "    </tr>\n",
       "    <tr>\n",
       "      <th>ZPR1</th>\n",
       "      <td>1.718922</td>\n",
       "      <td>2.590197</td>\n",
       "      <td>2.649971</td>\n",
       "    </tr>\n",
       "    <tr>\n",
       "      <th>ZRANB2</th>\n",
       "      <td>3.889095</td>\n",
       "      <td>2.719065</td>\n",
       "      <td>4.659703</td>\n",
       "    </tr>\n",
       "    <tr>\n",
       "      <th>ZSCAN31</th>\n",
       "      <td>2.874628</td>\n",
       "      <td>1.237263</td>\n",
       "      <td>2.501337</td>\n",
       "    </tr>\n",
       "    <tr>\n",
       "      <th>ZWINT</th>\n",
       "      <td>-2.349889</td>\n",
       "      <td>2.997572</td>\n",
       "      <td>2.790542</td>\n",
       "    </tr>\n",
       "    <tr>\n",
       "      <th>ZYX</th>\n",
       "      <td>2.843111</td>\n",
       "      <td>1.455394</td>\n",
       "      <td>-1.828563</td>\n",
       "    </tr>\n",
       "  </tbody>\n",
       "</table>\n",
       "<p>1927 rows × 3 columns</p>\n",
       "</div>"
      ],
      "text/plain": [
       "                0         1         2\n",
       "AAMP     2.711035  3.977396  2.662886\n",
       "AATF    -3.244352  3.086070  2.727567\n",
       "ABCA3    2.692601 -2.148259  2.251413\n",
       "ABCC3    2.564333  2.510073  2.998940\n",
       "ABI1    -2.079672 -2.491188  2.350844\n",
       "...           ...       ...       ...\n",
       "ZPR1     1.718922  2.590197  2.649971\n",
       "ZRANB2   3.889095  2.719065  4.659703\n",
       "ZSCAN31  2.874628  1.237263  2.501337\n",
       "ZWINT   -2.349889  2.997572  2.790542\n",
       "ZYX      2.843111  1.455394 -1.828563\n",
       "\n",
       "[1927 rows x 3 columns]"
      ]
     },
     "execution_count": 127,
     "metadata": {},
     "output_type": "execute_result"
    }
   ],
   "source": [
    "nesMat"
   ]
  }
 ],
 "metadata": {
  "kernelspec": {
   "display_name": "Python 3 (ipykernel)",
   "language": "python",
   "name": "python3"
  },
  "language_info": {
   "codemirror_mode": {
    "name": "ipython",
    "version": 3
   },
   "file_extension": ".py",
   "mimetype": "text/x-python",
   "name": "python",
   "nbconvert_exporter": "python",
   "pygments_lexer": "ipython3",
   "version": "3.8.5"
  }
 },
 "nbformat": 4,
 "nbformat_minor": 5
}
