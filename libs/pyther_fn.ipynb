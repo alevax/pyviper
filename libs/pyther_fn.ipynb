{
 "cells": [
  {
   "cell_type": "code",
   "execution_count": 1,
   "id": "78ebf283",
   "metadata": {},
   "outputs": [],
   "source": [
    "from ipynb.fs.full.pyther_classes import *\n",
    "import numpy as np\n",
    "from scipy.stats import norm\n",
    "from scipy.stats import rankdata\n",
    "import pandas as pd\n",
    "import anndata "
   ]
  },
  {
   "cell_type": "code",
   "execution_count": 2,
   "id": "b93b9b4a",
   "metadata": {},
   "outputs": [],
   "source": [
    "def InteractomefromTSV(filePath, intName):\n",
    "    # read file\n",
    "    netTable = pd.read_csv(filePath, sep = '\\t')\n",
    "    intObj = Interactome('intName')\n",
    "    # loop through regulators\n",
    "    uniqueRegs = netTable.regulator.unique()\n",
    "    for u in uniqueRegs:\n",
    "        # subset dataframe\n",
    "        uDF = netTable[netTable.regulator == u]\n",
    "        # make dictionaries\n",
    "        icDict = dict(zip(uDF.target, uDF.likelihood))\n",
    "        morDict = dict(zip(uDF.target, uDF.mor))\n",
    "        # make regulon object\n",
    "        regObj = Regulon(u, icDict, morDict)\n",
    "        intObj.addReg(u, regObj)\n",
    "    # return\n",
    "    return(intObj)"
   ]
  },
  {
   "cell_type": "code",
   "execution_count": 13,
   "id": "a741d966",
   "metadata": {},
   "outputs": [],
   "source": [
    "def aREA(ges, regulon):\n",
    "    gesMat = ges.X\n",
    "    # transform the GES\n",
    "    ges2t = rankdata(gesMat, axis = 0) / (gesMat.shape[0] + 1)\n",
    "    ges2tQ = norm.ppf(ges2t)\n",
    "    ges1t = abs(ges2t - 0.5) * 2\n",
    "    ges1t = ges1t + (1 - np.max(ges1t)) / 2\n",
    "    ges1tQ = norm.ppf(ges1t)\n",
    "    \n",
    "    # get matrices out of interactome\n",
    "    icMat = intObj.icMat()\n",
    "    morMat = intObj.morMat()\n",
    "\n",
    "    # find the intersecting genes\n",
    "    # TO DO: flag for not enough genes\n",
    "    targetSet = intObj.targetSet()\n",
    "    obsNames = ges.obs_names.to_list()\n",
    "    intersectGenes = [value for value in targetSet if value in obsNames]\n",
    "    targetInds = [obsNames.index(i) for i in intersectGenes]\n",
    "    \n",
    "    # 2-tail enrichment\n",
    "    dES = pd.DataFrame.transpose(pd.DataFrame.mul(icMat, morMat))\n",
    "    dES = dES.dot(ges2tQ[targetInds, :])\n",
    "    # 1-tail enrichemnt\n",
    "    uES = pd.DataFrame.transpose(pd.DataFrame.mul(1 - abs(morMat), icMat))\n",
    "    uES = uES.dot(ges1tQ[targetInds, :])\n",
    "    # integrate\n",
    "    iES = (abs(dES) + uES * (uES > 0)) * np.sign(dES)\n",
    "    # make NES\n",
    "    nES = iES.mul(intObj.icpVec(), 0)\n",
    "    \n",
    "    return(nES)"
   ]
  },
  {
   "cell_type": "code",
   "execution_count": 14,
   "id": "1537e6b7",
   "metadata": {},
   "outputs": [],
   "source": [
    "## load data\n",
    "intObj = InteractomefromTSV('/mnt/c/Users/lvlah/linux/ac_lab/data/pyther_data/test-net.tsv', 'testNet')\n",
    "gesDF = anndata.read_csv('/mnt/c/Users/lvlah/linux/ac_lab/data/pyther_data/gtex-aorta_ges.tsv', delimiter = '\\t')\n",
    "r = 'ENSG00000000003'"
   ]
  },
  {
   "cell_type": "code",
   "execution_count": 15,
   "id": "ad0571ea",
   "metadata": {},
   "outputs": [
    {
     "data": {
      "text/html": [
       "<div>\n",
       "<style scoped>\n",
       "    .dataframe tbody tr th:only-of-type {\n",
       "        vertical-align: middle;\n",
       "    }\n",
       "\n",
       "    .dataframe tbody tr th {\n",
       "        vertical-align: top;\n",
       "    }\n",
       "\n",
       "    .dataframe thead th {\n",
       "        text-align: right;\n",
       "    }\n",
       "</style>\n",
       "<table border=\"1\" class=\"dataframe\">\n",
       "  <thead>\n",
       "    <tr style=\"text-align: right;\">\n",
       "      <th></th>\n",
       "      <th>0</th>\n",
       "      <th>1</th>\n",
       "      <th>2</th>\n",
       "    </tr>\n",
       "  </thead>\n",
       "  <tbody>\n",
       "    <tr>\n",
       "      <th>ENSG00000000003</th>\n",
       "      <td>2.558824</td>\n",
       "      <td>1.207495</td>\n",
       "      <td>1.257197</td>\n",
       "    </tr>\n",
       "    <tr>\n",
       "      <th>ENSG00000001084</th>\n",
       "      <td>3.768725</td>\n",
       "      <td>2.160426</td>\n",
       "      <td>-1.409660</td>\n",
       "    </tr>\n",
       "    <tr>\n",
       "      <th>ENSG00000001167</th>\n",
       "      <td>2.573933</td>\n",
       "      <td>0.787687</td>\n",
       "      <td>1.356388</td>\n",
       "    </tr>\n",
       "  </tbody>\n",
       "</table>\n",
       "</div>"
      ],
      "text/plain": [
       "                        0         1         2\n",
       "ENSG00000000003  2.558824  1.207495  1.257197\n",
       "ENSG00000001084  3.768725  2.160426 -1.409660\n",
       "ENSG00000001167  2.573933  0.787687  1.356388"
      ]
     },
     "execution_count": 15,
     "metadata": {},
     "output_type": "execute_result"
    }
   ],
   "source": [
    "aREA(gesDF[:, 0:3], intObj)"
   ]
  }
 ],
 "metadata": {
  "kernelspec": {
   "display_name": "Python 3",
   "language": "python",
   "name": "python3"
  },
  "language_info": {
   "codemirror_mode": {
    "name": "ipython",
    "version": 3
   },
   "file_extension": ".py",
   "mimetype": "text/x-python",
   "name": "python",
   "nbconvert_exporter": "python",
   "pygments_lexer": "ipython3",
   "version": "3.8.5"
  }
 },
 "nbformat": 4,
 "nbformat_minor": 5
}
