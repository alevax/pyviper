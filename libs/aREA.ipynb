{
 "cells": [
  {
   "cell_type": "code",
   "execution_count": 2,
   "id": "78ebf283",
   "metadata": {},
   "outputs": [],
   "source": [
    "from ipynb.fs.full.classFile import *\n",
    "import numpy as np\n",
    "from scipy.stats import norm"
   ]
  },
  {
   "cell_type": "code",
   "execution_count": null,
   "id": "a741d966",
   "metadata": {},
   "outputs": [],
   "source": [
    "def aREA(ges, regulon):\n",
    "    # ges transformation\n",
    "    gesRank = (ges.argSort() + 1) / (len(ges) + 1)\n",
    "    gesQ = norm.ppf(gesRank)\n",
    "    ges1Tail = gesRank + (1 - max(gesRank)) / 2\n",
    "    ges1Q = norm.ppf(ges1Tail)\n",
    "    \n",
    "    # 2 tail enrichment\n",
    "    dES = sum(gesQ * regulon.ic() * regulon.mor())\n",
    "    # 1 tail enrichment\n",
    "    uES = sum((1 - abs(regulon.mor())) * regulon.ic() * ges1Q)\n",
    "    # integrated enrichment\n",
    "    iES = (abs(dES) + uES * (uES > 0)) * np.sign(dES)\n",
    "    \n",
    "    return iES"
   ]
  }
 ],
 "metadata": {
  "kernelspec": {
   "display_name": "Python 3",
   "language": "python",
   "name": "python3"
  },
  "language_info": {
   "codemirror_mode": {
    "name": "ipython",
    "version": 3
   },
   "file_extension": ".py",
   "mimetype": "text/x-python",
   "name": "python",
   "nbconvert_exporter": "python",
   "pygments_lexer": "ipython3",
   "version": "3.8.5"
  }
 },
 "nbformat": 4,
 "nbformat_minor": 5
}
