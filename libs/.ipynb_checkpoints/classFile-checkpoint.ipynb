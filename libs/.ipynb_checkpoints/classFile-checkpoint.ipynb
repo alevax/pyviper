{
 "cells": [
  {
   "cell_type": "code",
   "execution_count": null,
   "id": "9d2de89a",
   "metadata": {},
   "outputs": [],
   "source": [
    "class Regulon:\n",
    "    def __init__(self, name, icDict, morDict):\n",
    "        self.name = name\n",
    "        self.icDict = icDict\n",
    "        self.morDict = morDict\n",
    "    \n",
    "    def targets(self):\n",
    "        return icDict.keys()\n",
    "    \n",
    "    def ic(self):\n",
    "        return self.icDict.values()\n",
    "    \n",
    "    def mor(self):\n",
    "        return self.mor.values()"
   ]
  },
  {
   "cell_type": "code",
   "execution_count": null,
   "id": "78f57a3d",
   "metadata": {},
   "outputs": [],
   "source": [
    "class Interactome:\n",
    "    def __init__(self, name, regDict):\n",
    "        self.name = name\n",
    "        self.regDict = regDict\n",
    "    \n",
    "    def regulonNames(self):\n",
    "        return regDict.keys()"
   ]
  }
 ],
 "metadata": {
  "kernelspec": {
   "display_name": "Python 3",
   "language": "python",
   "name": "python3"
  },
  "language_info": {
   "codemirror_mode": {
    "name": "ipython",
    "version": 3
   },
   "file_extension": ".py",
   "mimetype": "text/x-python",
   "name": "python",
   "nbconvert_exporter": "python",
   "pygments_lexer": "ipython3",
   "version": "3.8.5"
  }
 },
 "nbformat": 4,
 "nbformat_minor": 5
}
